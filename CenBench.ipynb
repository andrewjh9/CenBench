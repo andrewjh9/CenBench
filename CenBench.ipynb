{
  "nbformat": 4,
  "nbformat_minor": 5,
  "metadata": {
    "accelerator": "GPU",
    "colab": {
      "name": "Copy of Copy of CenBench.ipynb",
      "provenance": [],
      "collapsed_sections": [],
      "include_colab_link": true
    },
    "kernelspec": {
      "name": "python3",
      "display_name": "Python 3.6.9 64-bit"
    },
    "language_info": {
      "name": "python",
      "version": "3.6.9"
    },
    "metadata": {
      "interpreter": {
        "hash": "31f2aee4e71d21fbe5cf8b01ff0e069b9275f58929596ceb00d14d90e3e16cd6"
      }
    },
    "interpreter": {
      "hash": "31f2aee4e71d21fbe5cf8b01ff0e069b9275f58929596ceb00d14d90e3e16cd6"
    }
  },
  "cells": [
    {
      "cell_type": "markdown",
      "metadata": {
        "id": "view-in-github",
        "colab_type": "text"
      },
      "source": [
        "<a href=\"https://colab.research.google.com/github/andrewjh9/CenBench/blob/main/CenBench.ipynb\" target=\"_parent\"><img src=\"https://colab.research.google.com/assets/colab-badge.svg\" alt=\"Open In Colab\"/></a>"
      ]
    },
    {
      "cell_type": "raw",
      "metadata": {
        "id": "cubic-hughes"
      },
      "source": [
        "# Citation"
      ],
      "id": "cubic-hughes"
    },
    {
      "source": [
        "# CenBench\n",
        "The Juypter Notebook used for the bachelor thesis 'Investigating the use of hub neuron identification forpruning sparse neural networks'.\n",
        "All experiments where done with a variation of this notebook, changes where made for each experiment. \n",
        "The the codebase (https://github.com/dcmocanu/sparse-evolutionary-artificial-neural-networks) of Decebal Mocanu was used as the starting point of the notebook and was adapted. \n",
        "\n"
      ],
      "cell_type": "markdown",
      "metadata": {
        "id": "9WRGpBBLq4tj"
      }
    },
    {
      "source": [
        "## Credit to Author of adapted code: \n"
      ],
      "cell_type": "markdown",
      "metadata": {}
    },
    {
      "cell_type": "code",
      "execution_count": null,
      "metadata": {},
      "outputs": [],
      "source": [
        "# Author: Decebal Constantin Mocanu et al.;\n",
        "# Proof of concept implementation of Sparse Evolutionary Training (SET) of Multi Layer Perceptron (MLP) on CIFAR10 using Keras and a mask over weights.\n",
        "# This implementation can be used to test SET in varying conditions, using the Keras framework versatility, e.g. various optimizers, activation layers, tensorflow\n",
        "# Also it can be easily adapted for Convolutional Neural Networks or other models which have dense layers\n",
        "# However, due the fact that the weights are stored in the standard Keras format (dense matrices), this implementation can not scale properly.\n",
        "# If you would like to build and SET-MLP with over 100000 neurons, please use the pure Python implementation from the folder \"SET-MLP-Sparse-Python-Data-Structures\"\n",
        "\n",
        "# This is a pre-alpha free software and was tested with Python 3.5.2, Keras 2.1.3, Keras_Contrib 0.0.2, Tensorflow 1.5.0, Numpy 1.14;\n",
        "# The code is distributed in the hope that it may be useful, but WITHOUT ANY WARRANTIES; The use of this software is entirely at the user's own risk;\n",
        "# For an easy understanding of the code functionality please read the following articles.\n",
        "\n",
        "# If you use parts of this code please cite the following articles:\n",
        "#@article{Mocanu2018SET,\n",
        "#  author =        {Mocanu, Decebal Constantin and Mocanu, Elena and Stone, Peter and Nguyen, Phuong H. and Gibescu, Madeleine and Liotta, Antonio},\n",
        "#  journal =       {Nature Communications},\n",
        "#  title =         {Scalable Training of Artificial Neural Networks with Adaptive Sparse Connectivity inspired by Network Science},\n",
        "#  year =          {2018},\n",
        "#  doi =           {10.1038/s41467-018-04316-3}\n",
        "#}\n",
        "\n",
        "#@Article{Mocanu2016XBM,\n",
        "#author=\"Mocanu, Decebal Constantin and Mocanu, Elena and Nguyen, Phuong H. and Gibescu, Madeleine and Liotta, Antonio\",\n",
        "#title=\"A topological insight into restricted Boltzmann machines\",\n",
        "#journal=\"Machine Learning\",\n",
        "#year=\"2016\",\n",
        "#volume=\"104\",\n",
        "#number=\"2\",\n",
        "#pages=\"243--270\",\n",
        "#doi=\"10.1007/s10994-016-5570-z\",\n",
        "#url=\"https://doi.org/10.1007/s10994-016-5570-z\"\n",
        "#}\n",
        "\n",
        "#@phdthesis{Mocanu2017PhDthesis,\n",
        "#title = \"Network computations in artificial intelligence\",\n",
        "#author = \"D.C. Mocanu\",\n",
        "#year = \"2017\",\n",
        "#isbn = \"978-90-386-4305-2\",\n",
        "#publisher = \"Eindhoven University of Technology\",\n",
        "#}"
      ]
    },
    {
      "source": [
        "## Dependecies \n",
        "Below are the Dependecies required for this notebook"
      ],
      "cell_type": "markdown",
      "metadata": {}
    },
    {
      "cell_type": "code",
      "metadata": {
        "colab": {
          "base_uri": "https://localhost:8080/"
        },
        "id": "polish-basket",
        "outputId": "aaf5c9ed-c9db-40d4-ecaf-4464b88b61d9"
      },
      "source": [
        "\n",
        "\n",
        "# Install requirements\n",
        "# !pip3 uninstall tensorflow y\n",
        "# !pip3 install tensorflow --user\n",
        "# # !pip3 install --upgrade tensorflow\n",
        "# !pip3 install graphviz\n",
        "# !pip3 install pydot\n",
        "# !pip3 install keras-visualizer\n",
        "# !pip3 install cmake\n",
        "# !pip3 install cython\n",
        "!pip3 install networkit\n",
        "!pip3 install networkx"
      ],
      "id": "polish-basket",
      "execution_count": 25,
      "outputs": [
        {
          "output_type": "stream",
          "name": "stdout",
          "text": [
            "Requirement already satisfied: networkit in /home/andrew/.local/lib/python3.6/site-packages (4.6)\n",
            "^C\n",
            "\u001b[31mERROR: Operation cancelled by user\u001b[0m\n",
            "\u001b[33mWARNING: You are using pip version 21.1.1; however, version 21.1.3 is available.\n",
            "You should consider upgrading via the '/usr/bin/python3 -m pip install --upgrade pip' command.\u001b[0m\n",
            "Requirement already satisfied: networkx in /usr/local/lib/python3.6/dist-packages (2.5)\n",
            "Requirement already satisfied: decorator>=4.3.0 in /usr/local/lib/python3.6/dist-packages (from networkx) (4.4.1)\n",
            "\u001b[33mWARNING: You are using pip version 21.1.1; however, version 21.1.3 is available.\n",
            "You should consider upgrading via the '/usr/bin/python3 -m pip install --upgrade pip' command.\u001b[0m\n"
          ]
        }
      ]
    },
    {
      "cell_type": "markdown",
      "metadata": {
        "id": "olive-operation"
      },
      "source": [
        "## Importing required libraries \n"
      ],
      "id": "olive-operation"
    },
    {
      "cell_type": "code",
      "metadata": {
        "id": "rolled-suite"
      },
      "source": [
        "from __future__ import division\n",
        "from __future__ import print_function\n",
        "import tensorflow as tf\n",
        "from datetime import datetime\n",
        "import time\n",
        "from tensorflow.keras.preprocessing.image import ImageDataGenerator\n",
        "from tensorflow.keras.models import Sequential\n",
        "from tensorflow.keras.layers import Dense, Dropout, Activation, Flatten\n",
        "from tensorflow.keras import optimizers\n",
        "from tensorflow.python.client import device_lib\n",
        "\n",
        "import numpy as np\n",
        "from numpy import asarray\n",
        "from numpy import savetxt\n",
        "import pydot\n",
        "from tensorflow.keras import models, layers  \n",
        "from tensorflow.keras import backend as K\n",
        "from tensorflow.keras import layers\n",
        "from tensorflow.keras import activations\n",
        "from tensorflow.keras import utils as k_utils\n",
        "import time\n",
        "from copy import copy, deepcopy\n",
        "import networkx.algorithms.isomorphism as iso\n",
        "from  more_itertools import take\n",
        "from scipy.sparse import dok_matrix\n",
        "import networkx as nx\n",
        "import networkit as nk\n",
        "from random import sample\n",
        "\n",
        "\n",
        "#Please note that in newer versions of keras_contrib you may encounter some import errors. You can find a fix for it on the Internet, or as an alternative you can try other activations functions.\n",
        "# import tf.keras.activations.relu as SReLU\n",
        "from tensorflow.keras.datasets import cifar10\n",
        "from tensorflow.keras.datasets import cifar100\n",
        "from tensorflow.keras.datasets import fashion_mnist \n",
        "from tensorflow.keras.utils import to_categorical\n",
        "import matplotlib\n",
        "import numpy as np\n",
        "import matplotlib.pyplot as plt\n",
        "import networkx as nx\n",
        "%matplotlib inline  \n",
        "\n",
        "class Constraint(object):\n",
        "\n",
        "    def __call__(self, w):\n",
        "        return w\n",
        "\n",
        "    def get_config(self):\n",
        "        return {}\n",
        "\n",
        "class MaskWeights(Constraint):\n",
        "\n",
        "    def __init__(self, mask):\n",
        "        self.mask = mask\n",
        "        self.mask = K.cast(self.mask, K.floatx())\n",
        "\n",
        "    def __call__(self, w):\n",
        "        w = w.assign(w * self.mask)\n",
        "        return w\n",
        "\n",
        "    def get_config(self):\n",
        "        return {'mask': self.mask}\n",
        "\n",
        "\n",
        "def find_first_pos(array, value):\n",
        "    idx = (np.abs(array - value)).argmin()\n",
        "    return idx\n",
        "\n",
        "\n",
        "def find_last_pos(array, value):\n",
        "    idx = (np.abs(array - value))[::-1].argmin()\n",
        "    return array.shape[0] - idx\n",
        "\n",
        "\n",
        "def createWeightsMask(epsilon,noRows, noCols):\n",
        "    # generate an Erdos Renyi sparse weights mask\n",
        "    mask_weights = np.random.rand(noRows, noCols)\n",
        "    prob = 1 - (epsilon * (noRows + noCols)) / (noRows * noCols)  # normal tp have 8x connections\n",
        "    mask_weights[mask_weights < prob] = 0\n",
        "    mask_weights[mask_weights >= prob] = 1\n",
        "    print(\"Init mask weight shape: \",mask_weights.shape)\n",
        "    noParameters = np.sum(mask_weights)\n",
        "    print (\"Create Sparse Matrix: No parameters, NoRows, NoCols \",noParameters,noRows,noCols)\n",
        "    return [noParameters,mask_weights]"
      ],
      "id": "rolled-suite",
      "execution_count": null,
      "outputs": []
    },
    {
      "cell_type": "markdown",
      "metadata": {
        "id": "supreme-blast"
      },
      "source": [
        "## Initializing & Parameters\n",
        "Parameters here can be seen for training methods SET and CenSET."
      ],
      "id": "supreme-blast"
    },
    {
      "cell_type": "code",
      "metadata": {
        "id": "otherwise-malpractice"
      },
      "source": [
        "class CenBench_MLP():\n",
        "    def __init__(self, maxepoches, dataset, pruning_approach, num_sds=0, batch_size = 100, centrality_metric=None, zeta=0.05):\n",
        "\n",
        "        # Move\n",
        "        def prod(val) : \n",
        "            res = 1 \n",
        "            for ele in val: \n",
        "                res *= ele \n",
        "            return res \n",
        "\n",
        "        # Fetch the parameters for a given dataset\n",
        "        dataset_name = dataset. __name__.split(\".\")[3]\n",
        "\n",
        "        self.hidden_layer_sizes, self.num_classes, self.dataset_input_shape = get_dataset_params(dataset_name)\n",
        "\n",
        "        self.sd_l_scores = []\n",
        "        self.epoch_centrality_lap_dis = []\n",
        "\n",
        "        # set model parameters\n",
        "        self.num_sds = num_sds #Used for CenSET removal based on SD\n",
        "        self.number_of_connections_per_epoch = 0\n",
        "        self.layer_sizes = [prod(self.dataset_input_shape), self.hidden_layer_sizes[0], self.hidden_layer_sizes[1], self.hidden_layer_sizes[2]]\n",
        "        self.epsilon = 20 # control the sparsity level as discussed in the paper\n",
        "        self.zeta = zeta # the fraction of the weights removed\n",
        "        self.batch_size = batch_size # batch sgenerate_weights_matrix_from_networkize\n",
        "        self.maxepoches = maxepoches     # number of epochs\n",
        "        self.learning_rate = 0.01 # SGD learning rate\n",
        "        self.momentum = 0.9 # SGD momentum\n",
        "        self.dataset = dataset\n",
        "        self.pruning_approach = pruning_approach\n",
        "        self.centrality_metric = centrality_metric\n",
        "        self.current_epoc = 0\n",
        "        self.mean_kc_scores = []\n",
        "        self.mean_l_scores =[]\n",
        "        [self.noPar1, self.wm1] = createWeightsMask(self.epsilon, prod(self.dataset_input_shape), self.hidden_layer_sizes[0])\n",
        "        [self.noPar2, self.wm2] = createWeightsMask(self.epsilon,self.hidden_layer_sizes[0], self.hidden_layer_sizes[1])\n",
        "        [self.noPar3, self.wm3] = createWeightsMask(self.epsilon,self.hidden_layer_sizes[1], self.hidden_layer_sizes[2])\n",
        "        print(\"Total noPars: \", self.noPar1 + self.noPar2 + self.noPar3)\n",
        "        # initialize layers weightsnk\n",
        "        self.w1 = None\n",
        "        self.w2 = None\n",
        "        self.w3 = None\n",
        "        self.w4 = None\n",
        "\n",
        "        # initialize weights for SReLu activation function\n",
        "        self.wSRelu1 = None\n",
        "        self.wSRelu2 = None\n",
        "        self.wSRelu3 = None\n",
        "\n",
        "        # create a SET-MLP model\n",
        "        self.create_model()\n"
      ],
      "id": "otherwise-malpractice",
      "execution_count": 48,
      "outputs": []
    },
    {
      "source": [
        "## Datasets parameters\n",
        "In order for simple experiment setup this method reads the name of a paraticular dataset and returns the suitable model parameters. This is mainly about layer sizes, as well as class size."
      ],
      "cell_type": "markdown",
      "metadata": {}
    },
    {
      "cell_type": "code",
      "metadata": {
        "id": "oC6rAhN6gEvb"
      },
      "source": [
        "def get_dataset_params(dataset_name):\n",
        "\n",
        "    if dataset_name == \"cifar10\":\n",
        "        hidden_layer_sizes = [4000,1000,4000]\n",
        "        num_classes = 10\n",
        "        dataset_input_shape = (32, 32, 3)\n",
        "        return hidden_layer_sizes, num_classes, dataset_input_shape\n",
        "        \n",
        "    elif dataset_name == \"fashion_mnist\":\n",
        "        hidden_layer_sizes = [256, 128, 100]\n",
        "        num_classes = 10\n",
        "        dataset_input_shape = (28,28,1) \n",
        "        return hidden_layer_sizes, num_classes, dataset_input_shape\n",
        "\n",
        "    elif dataset_name == \"higgs\":\n",
        "        hidden_layer_sizes, num_classes, dataset_input_shape = None, None, None\n",
        "        print(\"Dataset HIGGS not implemented !\")\n",
        "        return hidden_layer_sizes, num_classes, dataset_input_shape\n",
        "\n"
      ],
      "id": "oC6rAhN6gEvb",
      "execution_count": null,
      "outputs": []
    },
    {
      "cell_type": "markdown",
      "metadata": {
        "id": "assigned-benefit"
      },
      "source": [
        "## Create model\n",
        "This function creates the MLP (or sparse ANN) model on which the training will take place."
      ],
      "id": "assigned-benefit"
    },
    {
      "cell_type": "code",
      "metadata": {
        "id": "magnetic-thanks"
      },
      "source": [
        "class CenBench_MLP(CenBench_MLP):\n",
        "    def create_model(self):\n",
        "\n",
        "        # create a SET-MLP model with 3 hidden layers\n",
        "        self.model = Sequential()\n",
        "        #Input layer ---  \n",
        "        self.model.add(Flatten(input_shape=self.dataset_input_shape))\n",
        "        \n",
        "        # Hidden layer 1\n",
        "        self.model.add(Dense(self.hidden_layer_sizes[0], name=\"sparse_1\",kernel_constraint=MaskWeights(self.wm1),weights=self.w1))\n",
        "        self.model.add(layers.Activation(activations.relu,name=\"srelu1\",weights=self.wSRelu1))\n",
        "        self.model.add(Dropout(0.3))#Helps with overfitting, only present in training\n",
        "        # Hidden layer 2\n",
        "        self.model.add(Dense(self.hidden_layer_sizes[1], name=\"sparse_2\",kernel_constraint=MaskWeights(self.wm2),weights=self.w2))\n",
        "        self.model.add(layers.Activation(activations.relu,name=\"srelu2\",weights=self.wSRelu2))\n",
        "        self.model.add(Dropout(0.3))#Helps with overfitting, only present in training\n",
        "        # Hidden layer 3\n",
        "        self.model.add(Dense(self.hidden_layer_sizes[2], name=\"sparse_3\",kernel_constraint=MaskWeights(self.wm3),weights=self.w3))\n",
        "        self.model.add(layers.Activation(activations.relu,name=\"srelu3\",weights=self.wSRelu3))\n",
        "        self.model.add(Dropout(0.3)) #Helps with overfitting, only present in training\n",
        "        # Output layer\n",
        "        self.model.add(Dense(self.num_classes, name=\"dense_4\",weights=self.w4)) #please note that there is no need for a sparse output layer as the number of classes is much smaller than the number of input hidden neurons\n",
        "        self.model.add(Activation('softmax'))"
      ],
      "id": "magnetic-thanks",
      "execution_count": 50,
      "outputs": []
    },
    {
      "source": [
        "## Rewrite Weight Mask SET\n",
        "The pruning stage of SET, removing connections with the smallest absolute weights."
      ],
      "cell_type": "markdown",
      "metadata": {
        "id": "quality-interaction"
      }
    },
    {
      "cell_type": "code",
      "metadata": {
        "id": "continuous-failing"
      },
      "source": [
        "class CenBench_MLP(CenBench_MLP):\n",
        "    def rewireMask_SET(self, weights, noWeights):\n",
        "\n",
        "        # rewire weight matrix\n",
        "        # remove zeta largest negative and smallest positive weights\n",
        "        values = np.sort(weights.ravel())\n",
        "        firstZeroPos = find_first_pos(values, 0)\n",
        "        lastZeroPos = find_last_pos(values, 0)\n",
        "        largestNegative = values[int((1-self.zeta) * firstZeroPos)]\n",
        "        smallestPositive = values[int(min(values.shape[0] - 1, lastZeroPos +self.zeta * (values.shape[0] - lastZeroPos)))]\n",
        "        rewiredWeights = weights.copy();\n",
        "        rewiredWeights[rewiredWeights > smallestPositive] = 1;\n",
        "        rewiredWeights[rewiredWeights < largestNegative] = 1;\n",
        "        rewiredWeights[rewiredWeights != 1] = 0;\n",
        "        weightMaskCore = rewiredWeights.copy()  \n",
        "\n",
        "        # add zeta random weights\n",
        "\n",
        "        nrAdd = 0\n",
        "        sum_layer = np.sum(rewiredWeights)\n",
        "        noRewires = noWeights - sum_layer\n",
        "        while (nrAdd < noRewires):\n",
        "            i = np.random.randint(0, rewiredWeights.shape[0])\n",
        "            j = np.random.randint(0, rewiredWeights.shape[1])\n",
        "            if (rewiredWeights[i, j] == 0):\n",
        "                rewiredWeights[i, j] = 1\n",
        "                nrAdd += 1\n",
        "        print(\"Num removed (and then added) \", nrAdd)\n",
        "        self.number_of_connections_per_epoch = self.number_of_connections_per_epoch + np.sum(rewiredWeights)\n",
        "        return [rewiredWeights, weightMaskCore]\n"
      ],
      "id": "continuous-failing",
      "execution_count": 51,
      "outputs": []
    },
    {
      "source": [
        "## Rewrite weight mask CenSET\n",
        "This function calls the function to convert and remove the connection connected the the nodes (neurons) which fall below the laplacian centrality threshold."
      ],
      "cell_type": "markdown",
      "metadata": {
        "id": "LpRi5C2tq4tq"
      }
    },
    {
      "cell_type": "code",
      "metadata": {
        "id": "XOKT0bhIq4tr"
      },
      "source": [
        "class CenBench_MLP(CenBench_MLP):\n",
        "    def rewireMask_CenSET(self, layer_weights, layer_weights_mask, noWeights):\n",
        "        nkG = generate_NN_network(self.layer_sizes, layer_weights, layer_weights_mask)  \n",
        "        nodes_to_remove = self.find_nodes_lowest_centraility(nkG, self.zeta * 100, self.centrality_metric)\n",
        "        rewiredWeights = generate_weight_masks_matrix_from_network(self.layer_sizes, nkG, layer_weights_mask, nodes_to_remove)\n",
        "        weightMaskCore = deepcopy(rewiredWeights)\n",
        "        for layer_i, layer in enumerate(rewiredWeights):\n",
        "            nrAdd = 0\n",
        "            layer_sum = layer.sum()\n",
        "            noRewires = noWeights[layer_i] - layer_sum\n",
        "            while (nrAdd < noRewires):\n",
        "                i = np.random.randint(0, len(layer))\n",
        "                j = np.random.randint(0, len(layer[0]))\n",
        "                if (layer[i][j] == 0):\n",
        "                    layer[i][j] = 1\n",
        "                    nrAdd += 1\n",
        "        self.number_of_connections_per_epoch = self.number_of_connections_per_epoch + np.sum(rewiredWeights[0]) + np.sum(rewiredWeights[1]) + np.sum(rewiredWeights[2])\n",
        "        return [rewiredWeights, weightMaskCore]"
      ],
      "id": "XOKT0bhIq4tr",
      "execution_count": 52,
      "outputs": []
    },
    {
      "source": [],
      "cell_type": "markdown",
      "metadata": {}
    },
    {
      "cell_type": "markdown",
      "metadata": {
        "id": "FQoQOkYsq4ts"
      },
      "source": [
        "## Testing conversion\n",
        "A method for testing if the conversion between weights and graphs is working as intended"
      ],
      "id": "FQoQOkYsq4ts"
    },
    {
      "cell_type": "code",
      "metadata": {
        "id": "CVjriz0jq4ts"
      },
      "source": [
        "def testing_conversion(layer_weights, layer_weight_mask, iterations):\n",
        "    graphs = []\n",
        "    layer_weight_masks = []\n",
        "    # For debug remove\n",
        "    count_of_all_weights = 0\n",
        "    for layer in layer_weights:\n",
        "        count_of_all_weights += np.count_nonzero(layer)\n",
        "    print(\"Inital number of weights in arrays: \", count_of_all_weights)\n",
        "    for i in range(0, iterations):\n",
        "        nkG = generate_NN_network(self.layer_sizes, layer_weights, layer_weight_mask)  \n",
        "        layer_weight_mask = generate_weight_masks_matrix_from_network(self.layer_sizes, nkG, layer_weight_mask, [])\n",
        "        graphs.append(nkG)\n",
        "        layer_weight_masks.append(layer_weight_mask)\n",
        "    print(\"finished with building set\")\n",
        "    i = 0\n",
        "    for first, second in zip(graphs, graphs[1:]):\n",
        "        print(\"Comparison: \", i)\n",
        "        num_edges_1 = nk.nxadapter.nk2nx(first).number_of_edges()\n",
        "        num_edges_2 = nk.nxadapter.nk2nx(second).number_of_edges()\n",
        "        print(\"Num edges: \",num_edges_1,  num_edges_2)\n",
        "        sum_edges_1 = layer_weight_masks[i][0].sum()+ layer_weight_masks[i][1].sum()+ layer_weight_masks[i][2].sum()\n",
        "        sum_edges_2 = layer_weight_masks[i+1][0].sum()+ layer_weight_masks[i+1][1].sum()+ layer_weight_masks[i+1][2].sum()\n",
        "        print(\"Num edges: \",num_edges_1,  num_edges_2)\n",
        "        print(\"Inital number of non zero weights: \", count_of_all_weights)\n",
        "        print(\"Sum edges weights\",sum_edges_1, sum_edges_2 )\n",
        "        comparison = layer_weight_masks[i][0] == layer_weight_masks[i+1][0]\n",
        "        equal_layers = comparison.all()\n",
        "        if not equal_layers:\n",
        "            print(\"layers are not the same\")\n",
        "            print(layer_weight[i][0][100:200])\n",
        "            print(layer_weight[i+1][0][100:200])\n",
        "            return False\n",
        "\n",
        "        em = iso.categorical_edge_match('weight', 'weight')\n",
        "        if not (nx.algorithms.isomorphism.is_isomorphic(nk.nxadapter.nk2nx(first),nk.nxadapter.nk2nx(second), edge_match=em)):     \n",
        "            print(\"ISO failed\")\n",
        "            return False\n",
        "        elif not (num_edges_1 ==num_edges_2 ):     \n",
        "            print(\"Edge number changes\")\n",
        "            return False\n",
        "        i = i + 1\n",
        "    return True\n"
      ],
      "id": "CVjriz0jq4ts",
      "execution_count": 55,
      "outputs": []
    },
    {
      "cell_type": "markdown",
      "metadata": {
        "id": "excellent-prerequisite"
      },
      "source": [
        "## Weight evolution\n",
        "Performs the weight evolution between the epochs."
      ],
      "id": "excellent-prerequisite"
    },
    {
      "cell_type": "code",
      "metadata": {
        "id": "broadband-polls"
      },
      "source": [
        "class CenBench_MLP(CenBench_MLP):\n",
        "    def weightsEvolution(self):\n",
        "\n",
        "        self.w1 = self.model.get_layer(\"sparse_1\").get_weights()\n",
        "        self.w2 = self.model.get_layer(\"sparse_2\").get_weights()\n",
        "        self.w3 = self.model.get_layer(\"sparse_3\").get_weights()\n",
        "        self.w4 = self.model.get_layer(\"dense_4\").get_weights()\n",
        "\n",
        "\n",
        "        self.wSRelu1 = self.model.get_layer(\"srelu1\").get_weights()\n",
        "        self.wSRelu2 = self.model.get_layer(\"srelu2\").get_weights()\n",
        "        self.wSRelu3 = self.model.get_layer(\"srelu3\").get_weights()\n",
        "\n",
        "        if(self.pruning_approach == \"SET\"):\n",
        "            print(\"------------------------SET -------------------\")\n",
        "            [self.wm1, self.wm1Core] = self.rewireMask_SET(self.w1[0], self.noPar1)\n",
        "            [self.wm2, self.wm2Core] = self.rewireMask_SET(self.w2[0], self.noPar2)\n",
        "            [self.wm3, self.wm3Core] = self.rewireMask_SET(self.w3[0], self.noPar3)\n",
        "\n",
        "\n",
        "            G = generate_NN_network(self.hidden_layer_sizes, [self.w1[0], self.w2[0], self.w3[0]],[self.wm1, self.wm2, self.wm3])  \n",
        "            btwn = nk.centrality.LaplacianCentrality(G, normalized=False)\n",
        "            btwn.run()\n",
        "            scores_cen = [i[1] for i in btwn.ranking()]\n",
        "            if not(self.current_epoch % 25 ):\n",
        "              self.epoch_centrality_lap_dis.append((self.current_epoch, asarray(scores_cen)))\n",
        "            self.mean_l_scores.append(np.mean(scores_cen))\n",
        "            self.sd_l_scores.append(np.std(scores_cen))\n",
        "            self.mean_l_scores.append(np.mean(scores_cen))\n",
        "\n",
        "        elif(\"CenSET\" == self.pruning_approach):    \n",
        "            print(\"------------------------CenSET -------------------\")\n",
        "\n",
        "            [self.wm1, self.wm2, self.wm3], [self.wm1Core, self.wm2Core, self.wm3Core] = self.rewireMask_CenSET([self.w1[0], self.w2[0], self.w3[0]],[self.wm1, self.wm2, self.wm3] ,[self.noPar1, self.noPar2, self.noPar3])\n",
        "\n",
        "        else:\n",
        "            raise ValueError(\"Unsupported pruning approach:\"+self.pruning_approach)\n",
        "        \n",
        "        self.w1[0] = self.w1[0] * self.wm1Core\n",
        "        self.w2[0] = self.w2[0] * self.wm2Core\n",
        "        self.w3[0] = self.w3[0] * self.wm3Core\n",
        "       \n",
        " \n",
        " \n",
        "\n"
      ],
      "id": "broadband-polls",
      "execution_count": 57,
      "outputs": []
    },
    {
      "cell_type": "markdown",
      "metadata": {
        "id": "sealed-bracket"
      },
      "source": [
        "## Read dataset\n",
        "Reads the datasets to be used for the program, default is CIFAR-10 and setting are overwritten if fashionMNIST is used."
      ],
      "id": "sealed-bracket"
    },
    {
      "cell_type": "code",
      "metadata": {
        "id": "nearby-capacity"
      },
      "source": [
        "class CenBench_MLP(CenBench_MLP):\n",
        "    def read_data(self):\n",
        "        (x_train, y_train), (x_test, y_test) = self.dataset.load_data()\n",
        "        y_train = to_categorical(y_train, self.num_classes)\n",
        "        y_test = to_categorical(y_test, self.num_classes)\n",
        "        x_train = x_train.astype('float32')\n",
        "        x_test = x_test.astype('float32')\n",
        "        print(\"Dataset name: \", self.dataset.__name__.split(\".\")[3])\n",
        "        if self.dataset.__name__.split(\".\")[3] == \"fashion_mnist\":\n",
        "            x_train = x_train.reshape((x_train.shape[0], 28, 28, 1))\n",
        "            x_test = x_test.reshape((x_test.shape[0], 28, 28, 1))  \n",
        "        #normalize data\n",
        "        xTrainMean = np.mean(x_train, axis=0)\n",
        "        xTtrainStd = np.std(x_train, axis=0)\n",
        "        x_train = (x_train - xTrainMean) / xTtrainStd\n",
        "        x_test = (x_test - xTrainMean) / xTtrainStd\n",
        "\n",
        "        return [x_train, x_test, y_train, y_test]"
      ],
      "id": "nearby-capacity",
      "execution_count": 58,
      "outputs": []
    },
    {
      "cell_type": "markdown",
      "metadata": {
        "id": "solid-surprise"
      },
      "source": [
        "## Training\n",
        "The main training loop used to train the ANN"
      ],
      "id": "solid-surprise"
    },
    {
      "cell_type": "code",
      "metadata": {
        "id": "sufficient-movement"
      },
      "source": [
        "class CenBench_MLP(CenBench_MLP):\n",
        "    def train(self):\n",
        "        # read CIFAR10 data\n",
        "        [x_train,x_test,y_train,y_test]=self.read_data()\n",
        "        #data augmentation\n",
        "        datagen = ImageDataGenerator(\n",
        "            featurewise_center=False,  # set input mean to 0 over the dataset\n",
        "            samplewise_center=False,  # set each sample mean to 0\n",
        "            featurewise_std_normalization=False,  # divide inputs by std of the dataset\n",
        "            samplewise_std_normalization=False,  # divide each input by its std\n",
        "            zca_whitening=False,  # apply ZCA whitening\n",
        "            rotation_range=10,  # randomly rotate images in the range (degrees, 0 to 180)\n",
        "            width_shift_range=0.1,  # randomly shift images horizontally (fraction of total width)\n",
        "            height_shift_range=0.1,  # randomly shift images vertically (fraction of total height)\n",
        "            horizontal_flip=True,  # randomly flip images\n",
        "            vertical_flip=False)  # randomly flip images\n",
        "        datagen.fit(x_train)\n",
        "\n",
        "        self.model.summary()\n",
        "\n",
        "        # training process in a for loop\n",
        "        self.accuracies_per_epoch=[]\n",
        "        self.loss_per_epoch=[]\n",
        "        self.connections_per_epoch=[]\n",
        "        for epoch in range(0, self.maxepoches):\n",
        "            self.current_epoch = epoch\n",
        "            self.number_of_connections_per_epoch = 0.0\n",
        "            print(\"Enter epoch: \", epoch)\n",
        "            sgd = optimizers.SGD(lr=self.learning_rate, momentum=self.momentum)\n",
        "            self.model.compile(loss='categorical_crossentropy', optimizer=sgd, metrics=['accuracy'])\n",
        "\n",
        "            history = self.model.fit(datagen.flow(x_train, y_train,\n",
        "                                                batch_size=self.batch_size),\n",
        "                            steps_per_epoch=x_train.shape[0]//self.batch_size,\n",
        "                                epochs=epoch,\n",
        "                                validation_data=(x_test, y_test),\n",
        "                                    initial_epoch=epoch-1)\n",
        "\n",
        "\n",
        "            #ugly hack to avoid tensorflow memory increase for multiple fit_generator calls. Theano shall work more nicely this but it is outdated in general\n",
        "\n",
        "            # Tracking current accuracy for AccSET and possible exentions\n",
        "            self.accuracies_per_epoch.append(history.history['val_accuracy'][0])\n",
        "\n",
        "            self.weightsEvolution()\n",
        "            self.connections_per_epoch.append(self.number_of_connections_per_epoch)\n",
        "            K.clear_session()\n",
        "            self.create_model()\n",
        "\n",
        "        # savetxt(\"/content/drive/My Drive/bsc_thesis_colab_results/results/node_centrality_scores_set/\"+\"KatzCentrality_\"+time.strftime(\"%Y%m%d-%H%M%S\")+\".csv\", asarray(self.mean_kc_scores), delimiter=',')\n",
        "\n",
        "\n",
        "        return [self.accuracies_per_epoch,  self.connections_per_epoch, self.loss_per_epoch, self.mean_l_scores, self.sd_l_scores, self.epoch_centrality_lap_dis]\n",
        "           \n"
      ],
      "id": "sufficient-movement",
      "execution_count": 59,
      "outputs": []
    },
    {
      "cell_type": "markdown",
      "metadata": {
        "id": "thrown-paragraph"
      },
      "source": [
        "## Generate Network from from weight array\n",
        "Converts the Keras weight layers into a adjency matrix and returns a networKit network."
      ],
      "id": "thrown-paragraph"
    },
    {
      "cell_type": "code",
      "metadata": {
        "id": "dense-transcript"
      },
      "source": [
        "# TODO change this to only use networkit\n",
        "# TODO change to use a lil sparse representation as this will likely be faster\n",
        "def generate_NN_network(layers, layer_weights, layer_weights_mask):\n",
        "    iterations = 0\n",
        "    n_nodes = sum(layers)\n",
        "    adj_matrix = dok_matrix((n_nodes, n_nodes), dtype=np.float32)\n",
        "    start = time.time()\n",
        "    for layer_i, layer in enumerate(layers):    \n",
        "        if not layer_i == len(layers) - 1 :\n",
        "            # Multiply the current layer by the weight mask to remove nodes, TODO check this\n",
        "            sparse_layer_weights = layer_weights[layer_i] * layer_weights_mask[layer_i]\n",
        "\n",
        "            current_layer_start_offset = 0 if layer_i == 0 else sum(layers[0 : layer_i])\n",
        "            current_layer_end_offset = current_layer_start_offset + layer - 1\n",
        "            next_layer_start_offset = current_layer_end_offset + 1 \n",
        "            next_layer_end_offset = next_layer_start_offset +  layers[layer_i + 1] -1\n",
        "\n",
        "            layer_index_value_dic = {(x + current_layer_start_offset, y + next_layer_start_offset):value for (x ,y), value in np.ndenumerate(sparse_layer_weights) if not value == 0 }\n",
        "\n",
        "            adj_matrix._update(layer_index_value_dic)\n",
        "\n",
        "    print(\"W -> N  time: s\",(time.time() - start))\n",
        "    \n",
        "    G = nx.convert_matrix.from_scipy_sparse_matrix(adj_matrix, create_using=nx.DiGraph, edge_attribute='weight')\n",
        "    Gnk = nk.nxadapter.nx2nk(G, weightAttr=\"weight\")\n",
        "    return  Gnk\n"
      ],
      "id": "dense-transcript",
      "execution_count": 60,
      "outputs": []
    },
    {
      "cell_type": "markdown",
      "metadata": {
        "id": "_sidiaS7q4tu"
      },
      "source": [
        "## Generate Weight Arrays from Network\n",
        "Converts the adjency matrix back into keras weights "
      ],
      "id": "_sidiaS7q4tu"
    },
    {
      "cell_type": "code",
      "metadata": {
        "id": "MBG-fPSEq4tu"
      },
      "source": [
        "def generate_weight_masks_matrix_from_network(layers, network, layer_weights_mask, nodes_to_remove):\n",
        "    n_nodes = sum(layers)\n",
        "    for layer_i, layer in enumerate(layers):    \n",
        "        if layer_i == len(layers) - 1 :\n",
        "            break\n",
        "\n",
        "        current_layer_start_offset = 0 if layer_i == 0 else sum(layers[0 : layer_i])\n",
        "        current_layer_end_offset = current_layer_start_offset + layer - 1\n",
        "        next_layer_start_offset = current_layer_end_offset + 1 \n",
        "        next_layer_end_offset = next_layer_start_offset +  layers[layer_i + 1] -1\n",
        "       \n",
        "        nodes_to_remove_in_layer_row  = [(remove  - current_layer_start_offset)  for remove in nodes_to_remove if remove >= current_layer_start_offset and remove <= current_layer_end_offset]\n",
        "        nodes_to_remove_in_layer_col  = [(remove  - next_layer_start_offset)  for remove in nodes_to_remove if remove >= next_layer_start_offset and remove <= next_layer_end_offset]\n",
        "\n",
        "\n",
        "        layer_weights_mask[layer_i][: , nodes_to_remove_in_layer_col] = 0\n",
        "        layer_weights_mask[layer_i][nodes_to_remove_in_layer_row, :] = 0\n",
        "\n",
        "    return layer_weights_mask"
      ],
      "id": "MBG-fPSEq4tu",
      "execution_count": 61,
      "outputs": []
    },
    {
      "cell_type": "markdown",
      "metadata": {
        "id": "aggregate-pressing"
      },
      "source": [
        "## Find nodes with lowest centraility\n",
        "Finds the nodes with the lowest laplacian centraility"
      ],
      "id": "aggregate-pressing"
    },
    {
      "cell_type": "code",
      "metadata": {
        "id": "based-shore"
      },
      "source": [
        "class CenBench_MLP(CenBench_MLP):\n",
        "  def find_nodes_lowest_centraility(self, G, removal_percentile, centrality_metric):\n",
        "      if centrality_metric == \"laplacian\":\n",
        "          if removal_percentile == 0.0:\n",
        "            return []\n",
        "          btwn = nk.centrality.LaplacianCentrality(G, normalized=False)\n",
        "          btwn.run()\n",
        "          ranking = btwn.ranking() \n",
        "          scores_cen = [i[1] for i in ranking ]\n",
        "          mean = np.mean(scores_cen, axis=0)\n",
        "          sd_scores_cen = np.std(scores_cen, axis=0)\n",
        "          self.mean_l_scores.append(np.mean(scores_cen))\n",
        "          self.sd_l_scores.append(np.std(scores_cen))\n",
        "          if not(self.current_epoch % 25 ):\n",
        "                    self.epoch_centrality_lap_dis.append((self.current_epoc,asarray(scores_cen)))\n",
        "          removed_via_sd = [node_num  for (node_num, cen_score) in ranking if (cen_score < mean - (self.num_sds * sd_scores_cen))]\n",
        "\n",
        "          return removed_via_sd\n",
        "\n",
        "      else:\n",
        "        print(\"------------------------FAILED NO METRIC PASSED-----------------------------\")\n",
        "\n",
        "\n",
        "  def getDateTime():\n",
        "      now = datetime.now()\n",
        "      timestamp = datetime.timestamp(now)\n",
        "      return datetime.fromtimestamp(timestamp)  \n",
        "     "
      ],
      "id": "based-shore",
      "execution_count": 62,
      "outputs": []
    },
    {
      "cell_type": "markdown",
      "metadata": {
        "id": "mM7E3SNdq4tv"
      },
      "source": [
        "## Saving result\n",
        "Method used for results to save results to file for later analysis"
      ],
      "id": "mM7E3SNdq4tv"
    },
    {
      "cell_type": "code",
      "metadata": {
        "id": "H5gBUDkmq4tv"
      },
      "source": [
        "def plot_save_accuracy(title, results_accu, results_connections, results_loss, results_cen, results_cen_sd, results_cen_dis , dataset_name, pruning_approach, epochs, centrality_metric=None, num_sd = None, tag=None):\n",
        "    if centrality_metric is not None:\n",
        "        save_name = pruning_approach +\"_\"+centrality_metric+\"_\"+dataset_name+\"_for_\"+str(epochs)+\"_epochs_\"+time.strftime(\"%Y%m%d-%H%M%S\")\n",
        "    else:\n",
        "         save_name = pruning_approach +\"__\"+dataset_name+\"_for_\"+str(epochs)+\"_epochs_\"+time.strftime(\"%Y%m%d-%H%M%S\")\n",
        "    if num_sd is not None:\n",
        "         save_name = save_name + \"_num_sd_\" + str(num_sd)\n",
        "    tag = str(tag) if tag else \"\"\n",
        "    for (epoch, data) in results_cen_dis:\n",
        "     savetxt(\"PATH\"+save_name+\"_cen_dis_lap_epoch_\"+str(epoch)+\"_\"+tag+\".csv\", asarray(data), delimiter=',')\n",
        "    savetxt(\"PATH\"+save_name+\"_accuracy_\"+tag+\".csv\", asarray(results_accu), delimiter=',')\n",
        "    savetxt(\"PATH\"+save_name+\"_connections_\"+tag+\".csv\", asarray(results_connections), delimiter=',')\n",
        "    savetxt(\"PATH\"+save_name+\"_loss_\"+tag+\".csv\", asarray(results_loss), delimiter=',')\n",
        "    savetxt(\"PATH\"+save_name+\"_mean_lap_\"+tag+\".csv\", asarray(results_cen), delimiter=',')\n",
        "    savetxt(\"PATH\"+save_name+\"_sd_lap_\"+tag+\".csv\", asarray(results_cen_sd), delimiter=',')\n",
        "\n"
      ],
      "id": "H5gBUDkmq4tv",
      "execution_count": 63,
      "outputs": []
    },
    {
      "cell_type": "markdown",
      "metadata": {
        "id": "8e1XfOzgq4tv"
      },
      "source": [
        "# Run experiments\n",
        "A method for queueing multiple experiments"
      ],
      "id": "8e1XfOzgq4tv"
    },
    {
      "cell_type": "code",
      "metadata": {
        "id": "UNJWtzzbq4tv"
      },
      "source": [
        "def run_experiments(datasets, maxepoches, pruning_approachs, experiment_titles, sds = None,  centrality_metrics=None, tags=None):\n",
        "    if  len(datasets) == len(maxepoches) == len(pruning_approachs) == len(experiment_titles)  :\n",
        "        for experiment_i, experiment_title in enumerate(experiment_titles):\n",
        "            dataset_name = datasets[experiment_i]. __name__.split(\".\")[3]\n",
        "            print(\"------------START of experiment '\"+experiment_title+\"' for dataset: \"+dataset_name+\"------------\")\n",
        "            smlp = CenBench_MLP(maxepoches=maxepoches[experiment_i], dataset=datasets[experiment_i], num_sds= sds[experiment_i],  pruning_approach=pruning_approachs[experiment_i],centrality_metric=centrality_metrics[experiment_i] )\n",
        "            # Saving results\n",
        "            [res_acc, res_conn, res_loss, res_cen, results_cen_sd, res_cen_dis] = smlp.train()\n",
        "            plot_save_accuracy(experiment_title, res_acc, res_conn, res_loss,res_cen, results_cen_sd, res_cen_dis, dataset_name,pruning_approachs[experiment_i], maxepoches[experiment_i], centrality_metrics[experiment_i], str(sds[experiment_i]), tags[experiment_i] )\n",
        "          \n",
        "            print(\"------------END of experiment '\"+experiment_title+\"' for dataset: \"+dataset_name+\"------------\")\n",
        "    else:\n",
        "        raise ValueError(\"Incorrect experiment setup\")"
      ],
      "id": "UNJWtzzbq4tv",
      "execution_count": 64,
      "outputs": []
    },
    {
      "cell_type": "markdown",
      "metadata": {
        "id": "B90ZjA1-q4tv"
      },
      "source": [
        "## Fit sds\n",
        "A method used to queue experiment to run a threshold search (see paper)\n"
      ],
      "id": "B90ZjA1-q4tv"
    },
    {
      "cell_type": "code",
      "metadata": {
        "id": "RPXx-Zm6q4tw"
      },
      "source": [
        "def fit_sds(maxepoches, dataset, pruning_approach, experiment_title, sd_range, sd_step, centrality_metric=None, tag= None):\n",
        "    for num_sd in np.arange(sd_range[0], sd_range[1], sd_step):\n",
        "        dataset_name = dataset. __name__.split(\".\")[3]\n",
        "        smlp = CenBench_MLP(maxepoches=maxepoches, dataset=dataset,  num_sds= num_sd, pruning_approach=pruning_approach, centrality_metric=centrality_metric)\n",
        "        # Saving results\n",
        "        [res_acc, res_conn, res_loss, res_cen, results_cen_sd, res_cen_dis] = smlp.train()\n",
        "        plot_save_accuracy(experiment_title,res_acc, res_conn, res_loss,res_cen, results_cen_sd, res_cen_dis, dataset_name ,pruning_approach, maxepoches, centrality_metric, str(num_sd), tag )"
      ],
      "id": "RPXx-Zm6q4tw",
      "execution_count": 65,
      "outputs": []
    },
    {
      "cell_type": "markdown",
      "metadata": {
        "id": "UOEjkkiNq4tw"
      },
      "source": [
        "## Configure Experiments - Start Experiments\n",
        "Configure the experiments queue and run the"
      ],
      "id": "UOEjkkiNq4tw"
    },
    {
      "cell_type": "code",
      "metadata": {
        "colab": {
          "base_uri": "https://localhost:8080/"
        },
        "id": "proud-proxy",
        "outputId": "edd68447-f295-4b10-9e9e-55f5f4b248bd"
      },
      "source": [
        "K.clear_session()\n",
        "\n",
        "print(device_lib.list_local_devices())\n",
        "print(\"Num GPUs Available: \", len(tf.config.list_physical_devices('GPU')))\n",
        "\n",
        "datasets=[fashion_mnist] \n",
        "\n",
        "maxepoches=[10]\n",
        "pruning_approachs=[\"SET\"]\n",
        "centrality_metrics = [None]\n",
        "sds= [None]\n",
        "experiment_titles = [\"Model accuracy vs Centrality using SET\"]\n",
        "tags = [\"_testing_again_SET\"]\n",
        "# run_experiments(datasets, maxepoches, pruning_approachs, experiment_titles,sds, centrality_metrics, tags)\n",
        "\n",
        "# fit_sds(300, fashion_mnist, \"CenSET\", \"Model accuracy using CenSET\", (3, 3.1), 0.1, \"laplacian\", \"finding_opti_sd_removal_rate\" )\n",
        "# fit_sds(2, fashion_mnist, \"SET\", \"Model accuracy using SET\", (1, 2), 1, None, \"_test_run_\" )\n"
      ],
      "id": "proud-proxy",
      "execution_count": 66,
      "outputs": [
        {
          "output_type": "stream",
          "name": "stdout",
          "text": [
            "[name: \"/device:CPU:0\"\n",
            "device_type: \"CPU\"\n",
            "memory_limit: 268435456\n",
            "locality {\n",
            "}\n",
            "incarnation: 616232762193941319\n",
            "]\n",
            "Num GPUs Available:  0\n",
            "------------START of experiment 'Model accuracy vs Centrality using SET' for dataset: fashion_mnist------------\n",
            "Init mask weight shape:  (784, 256)\n",
            "Create Sparse Matrix: No parameters, NoRows, NoCols  20739.0 784 256\n",
            "Init mask weight shape:  (256, 128)\n",
            "Create Sparse Matrix: No parameters, NoRows, NoCols  7720.0 256 128\n",
            "Init mask weight shape:  (128, 100)\n",
            "Create Sparse Matrix: No parameters, NoRows, NoCols  4574.0 128 100\n",
            "Total noPars:  33033.0\n",
            "Dataset name:  fashion_mnist\n",
            "Model: \"sequential\"\n",
            "_________________________________________________________________\n",
            "Layer (type)                 Output Shape              Param #   \n",
            "=================================================================\n",
            "flatten (Flatten)            (None, 784)               0         \n",
            "_________________________________________________________________\n",
            "sparse_1 (Dense)             (None, 256)               200960    \n",
            "_________________________________________________________________\n",
            "srelu1 (Activation)          (None, 256)               0         \n",
            "_________________________________________________________________\n",
            "dropout (Dropout)            (None, 256)               0         \n",
            "_________________________________________________________________\n",
            "sparse_2 (Dense)             (None, 128)               32896     \n",
            "_________________________________________________________________\n",
            "srelu2 (Activation)          (None, 128)               0         \n",
            "_________________________________________________________________\n",
            "dropout_1 (Dropout)          (None, 128)               0         \n",
            "_________________________________________________________________\n",
            "sparse_3 (Dense)             (None, 100)               12900     \n",
            "_________________________________________________________________\n",
            "srelu3 (Activation)          (None, 100)               0         \n",
            "_________________________________________________________________\n",
            "dropout_2 (Dropout)          (None, 100)               0         \n",
            "_________________________________________________________________\n",
            "dense_4 (Dense)              (None, 10)                1010      \n",
            "_________________________________________________________________\n",
            "activation (Activation)      (None, 10)                0         \n",
            "=================================================================\n",
            "Total params: 247,766\n",
            "Trainable params: 247,766\n",
            "Non-trainable params: 0\n",
            "_________________________________________________________________\n",
            "Enter epoch:  0\n",
            "600/600 [==============================] - 11s 18ms/step - loss: 1.7526 - accuracy: 0.3621 - val_loss: 0.7518 - val_accuracy: 0.7186\n",
            "------------------------SET -------------------\n",
            "Num removed (and then added)  1038\n",
            "Num removed (and then added)  387\n",
            "Num removed (and then added)  229\n",
            "W -> N  time: s 0.39197564125061035\n",
            "adding to connections per epoch:  33033.0\n",
            "Enter epoch:  1\n",
            "600/600 [==============================] - 11s 18ms/step - loss: 0.9468 - accuracy: 0.6545 - val_loss: 0.6828 - val_accuracy: 0.7462\n",
            "------------------------SET -------------------\n",
            "Num removed (and then added)  1038\n",
            "Num removed (and then added)  387\n",
            "Num removed (and then added)  229\n",
            "W -> N  time: s 0.3892333507537842\n",
            "adding to connections per epoch:  33033.0\n",
            "Enter epoch:  2\n",
            "Epoch 2/2\n",
            "600/600 [==============================] - 11s 18ms/step - loss: 0.8543 - accuracy: 0.6859 - val_loss: 0.6415 - val_accuracy: 0.7566\n",
            "------------------------SET -------------------\n",
            "Num removed (and then added)  1038\n",
            "Num removed (and then added)  387\n",
            "Num removed (and then added)  229\n",
            "W -> N  time: s 0.39594602584838867\n",
            "adding to connections per epoch:  33033.0\n",
            "Enter epoch:  3\n",
            "Epoch 3/3\n",
            "600/600 [==============================] - 11s 19ms/step - loss: 0.8077 - accuracy: 0.7001 - val_loss: 0.6172 - val_accuracy: 0.7592\n",
            "------------------------SET -------------------\n",
            "Num removed (and then added)  1038\n",
            "Num removed (and then added)  387\n",
            "Num removed (and then added)  230\n",
            "W -> N  time: s 0.5279867649078369\n",
            "adding to connections per epoch:  33033.0\n",
            "Enter epoch:  4\n",
            "Epoch 4/4\n",
            "600/600 [==============================] - 12s 19ms/step - loss: 0.7753 - accuracy: 0.7128 - val_loss: 0.5943 - val_accuracy: 0.7760\n",
            "------------------------SET -------------------\n",
            "Num removed (and then added)  1038\n",
            "Num removed (and then added)  387\n",
            "Num removed (and then added)  230\n",
            "W -> N  time: s 0.4216499328613281\n",
            "adding to connections per epoch:  33033.0\n",
            "Enter epoch:  5\n",
            "Epoch 5/5\n",
            "600/600 [==============================] - 11s 18ms/step - loss: 0.7464 - accuracy: 0.7258 - val_loss: 0.5833 - val_accuracy: 0.7824\n",
            "------------------------SET -------------------\n",
            "Num removed (and then added)  1038\n",
            "Num removed (and then added)  387\n",
            "Num removed (and then added)  229\n",
            "W -> N  time: s 0.4476759433746338\n",
            "adding to connections per epoch:  33033.0\n",
            "Enter epoch:  6\n",
            "Epoch 6/6\n",
            "562/600 [===========================>..] - ETA: 0s - loss: 0.7294 - accuracy: 0.7286"
          ]
        },
        {
          "output_type": "error",
          "ename": "KeyboardInterrupt",
          "evalue": "",
          "traceback": [
            "\u001b[0;31m---------------------------------------------------------------------------\u001b[0m",
            "\u001b[0;31mKeyboardInterrupt\u001b[0m                         Traceback (most recent call last)",
            "\u001b[0;32m<ipython-input-66-1afbe20ea5aa>\u001b[0m in \u001b[0;36m<module>\u001b[0;34m\u001b[0m\n\u001b[1;32m     12\u001b[0m \u001b[0mexperiment_titles\u001b[0m \u001b[0;34m=\u001b[0m \u001b[0;34m[\u001b[0m\u001b[0;34m\"Model accuracy vs Centrality using SET\"\u001b[0m\u001b[0;34m]\u001b[0m\u001b[0;34m\u001b[0m\u001b[0;34m\u001b[0m\u001b[0m\n\u001b[1;32m     13\u001b[0m \u001b[0mtags\u001b[0m \u001b[0;34m=\u001b[0m \u001b[0;34m[\u001b[0m\u001b[0;34m\"_testing_again_SET\"\u001b[0m\u001b[0;34m]\u001b[0m\u001b[0;34m\u001b[0m\u001b[0;34m\u001b[0m\u001b[0m\n\u001b[0;32m---> 14\u001b[0;31m \u001b[0mrun_experiments\u001b[0m\u001b[0;34m(\u001b[0m\u001b[0mdatasets\u001b[0m\u001b[0;34m,\u001b[0m \u001b[0mmaxepoches\u001b[0m\u001b[0;34m,\u001b[0m \u001b[0mpruning_approachs\u001b[0m\u001b[0;34m,\u001b[0m \u001b[0mexperiment_titles\u001b[0m\u001b[0;34m,\u001b[0m\u001b[0msds\u001b[0m\u001b[0;34m,\u001b[0m \u001b[0mcentrality_metrics\u001b[0m\u001b[0;34m,\u001b[0m \u001b[0mtags\u001b[0m\u001b[0;34m)\u001b[0m\u001b[0;34m\u001b[0m\u001b[0;34m\u001b[0m\u001b[0m\n\u001b[0m\u001b[1;32m     15\u001b[0m \u001b[0;34m\u001b[0m\u001b[0m\n\u001b[1;32m     16\u001b[0m \u001b[0;31m# fit_sds(300, fashion_mnist, \"CenSET\", \"Model accuracy using CenSET\", (3, 3.1), 0.1, \"laplacian\", \"finding_opti_sd_removal_rate\" )\u001b[0m\u001b[0;34m\u001b[0m\u001b[0;34m\u001b[0m\u001b[0;34m\u001b[0m\u001b[0m\n",
            "\u001b[0;32m<ipython-input-64-b05b2fa89806>\u001b[0m in \u001b[0;36mrun_experiments\u001b[0;34m(datasets, maxepoches, pruning_approachs, experiment_titles, sds, centrality_metrics, tags)\u001b[0m\n\u001b[1;32m      6\u001b[0m             \u001b[0msmlp\u001b[0m \u001b[0;34m=\u001b[0m \u001b[0mCenBench_MLP\u001b[0m\u001b[0;34m(\u001b[0m\u001b[0mmaxepoches\u001b[0m\u001b[0;34m=\u001b[0m\u001b[0mmaxepoches\u001b[0m\u001b[0;34m[\u001b[0m\u001b[0mexperiment_i\u001b[0m\u001b[0;34m]\u001b[0m\u001b[0;34m,\u001b[0m \u001b[0mdataset\u001b[0m\u001b[0;34m=\u001b[0m\u001b[0mdatasets\u001b[0m\u001b[0;34m[\u001b[0m\u001b[0mexperiment_i\u001b[0m\u001b[0;34m]\u001b[0m\u001b[0;34m,\u001b[0m \u001b[0mnum_sds\u001b[0m\u001b[0;34m=\u001b[0m \u001b[0msds\u001b[0m\u001b[0;34m[\u001b[0m\u001b[0mexperiment_i\u001b[0m\u001b[0;34m]\u001b[0m\u001b[0;34m,\u001b[0m  \u001b[0mpruning_approach\u001b[0m\u001b[0;34m=\u001b[0m\u001b[0mpruning_approachs\u001b[0m\u001b[0;34m[\u001b[0m\u001b[0mexperiment_i\u001b[0m\u001b[0;34m]\u001b[0m\u001b[0;34m,\u001b[0m\u001b[0mcentrality_metric\u001b[0m\u001b[0;34m=\u001b[0m\u001b[0mcentrality_metrics\u001b[0m\u001b[0;34m[\u001b[0m\u001b[0mexperiment_i\u001b[0m\u001b[0;34m]\u001b[0m \u001b[0;34m)\u001b[0m\u001b[0;34m\u001b[0m\u001b[0;34m\u001b[0m\u001b[0m\n\u001b[1;32m      7\u001b[0m             \u001b[0;31m# Saving results\u001b[0m\u001b[0;34m\u001b[0m\u001b[0;34m\u001b[0m\u001b[0;34m\u001b[0m\u001b[0m\n\u001b[0;32m----> 8\u001b[0;31m             \u001b[0;34m[\u001b[0m\u001b[0mres_acc\u001b[0m\u001b[0;34m,\u001b[0m \u001b[0mres_conn\u001b[0m\u001b[0;34m,\u001b[0m \u001b[0mres_loss\u001b[0m\u001b[0;34m,\u001b[0m \u001b[0mres_cen\u001b[0m\u001b[0;34m,\u001b[0m \u001b[0mresults_cen_sd\u001b[0m\u001b[0;34m,\u001b[0m \u001b[0mres_cen_dis\u001b[0m\u001b[0;34m]\u001b[0m \u001b[0;34m=\u001b[0m \u001b[0msmlp\u001b[0m\u001b[0;34m.\u001b[0m\u001b[0mtrain\u001b[0m\u001b[0;34m(\u001b[0m\u001b[0;34m)\u001b[0m\u001b[0;34m\u001b[0m\u001b[0;34m\u001b[0m\u001b[0m\n\u001b[0m\u001b[1;32m      9\u001b[0m             \u001b[0mplot_save_accuracy\u001b[0m\u001b[0;34m(\u001b[0m\u001b[0mexperiment_title\u001b[0m\u001b[0;34m,\u001b[0m \u001b[0mres_acc\u001b[0m\u001b[0;34m,\u001b[0m \u001b[0mres_conn\u001b[0m\u001b[0;34m,\u001b[0m \u001b[0mres_loss\u001b[0m\u001b[0;34m,\u001b[0m\u001b[0mres_cen\u001b[0m\u001b[0;34m,\u001b[0m \u001b[0mresults_cen_sd\u001b[0m\u001b[0;34m,\u001b[0m \u001b[0mres_cen_dis\u001b[0m\u001b[0;34m,\u001b[0m \u001b[0mdataset_name\u001b[0m\u001b[0;34m,\u001b[0m\u001b[0mpruning_approachs\u001b[0m\u001b[0;34m[\u001b[0m\u001b[0mexperiment_i\u001b[0m\u001b[0;34m]\u001b[0m\u001b[0;34m,\u001b[0m \u001b[0mmaxepoches\u001b[0m\u001b[0;34m[\u001b[0m\u001b[0mexperiment_i\u001b[0m\u001b[0;34m]\u001b[0m\u001b[0;34m,\u001b[0m \u001b[0mcentrality_metrics\u001b[0m\u001b[0;34m[\u001b[0m\u001b[0mexperiment_i\u001b[0m\u001b[0;34m]\u001b[0m\u001b[0;34m,\u001b[0m \u001b[0mstr\u001b[0m\u001b[0;34m(\u001b[0m\u001b[0msds\u001b[0m\u001b[0;34m[\u001b[0m\u001b[0mexperiment_i\u001b[0m\u001b[0;34m]\u001b[0m\u001b[0;34m)\u001b[0m\u001b[0;34m,\u001b[0m \u001b[0mtags\u001b[0m\u001b[0;34m[\u001b[0m\u001b[0mexperiment_i\u001b[0m\u001b[0;34m]\u001b[0m \u001b[0;34m)\u001b[0m\u001b[0;34m\u001b[0m\u001b[0;34m\u001b[0m\u001b[0m\n\u001b[1;32m     10\u001b[0m \u001b[0;34m\u001b[0m\u001b[0m\n",
            "\u001b[0;32m<ipython-input-59-e7626bef5c45>\u001b[0m in \u001b[0;36mtrain\u001b[0;34m(self)\u001b[0m\n\u001b[1;32m     35\u001b[0m                                 \u001b[0mepochs\u001b[0m\u001b[0;34m=\u001b[0m\u001b[0mepoch\u001b[0m\u001b[0;34m,\u001b[0m\u001b[0;34m\u001b[0m\u001b[0;34m\u001b[0m\u001b[0m\n\u001b[1;32m     36\u001b[0m                                 \u001b[0mvalidation_data\u001b[0m\u001b[0;34m=\u001b[0m\u001b[0;34m(\u001b[0m\u001b[0mx_test\u001b[0m\u001b[0;34m,\u001b[0m \u001b[0my_test\u001b[0m\u001b[0;34m)\u001b[0m\u001b[0;34m,\u001b[0m\u001b[0;34m\u001b[0m\u001b[0;34m\u001b[0m\u001b[0m\n\u001b[0;32m---> 37\u001b[0;31m                                     initial_epoch=epoch-1)\n\u001b[0m\u001b[1;32m     38\u001b[0m             \u001b[0;31m# print(history.history.)\u001b[0m\u001b[0;34m\u001b[0m\u001b[0;34m\u001b[0m\u001b[0;34m\u001b[0m\u001b[0m\n\u001b[1;32m     39\u001b[0m             \u001b[0mself\u001b[0m\u001b[0;34m.\u001b[0m\u001b[0mcurrent_accuracy\u001b[0m \u001b[0;34m=\u001b[0m \u001b[0mhistory\u001b[0m\u001b[0;34m.\u001b[0m\u001b[0mhistory\u001b[0m\u001b[0;34m[\u001b[0m\u001b[0;34m'val_accuracy'\u001b[0m\u001b[0;34m]\u001b[0m\u001b[0;34m[\u001b[0m\u001b[0;36m0\u001b[0m\u001b[0;34m]\u001b[0m\u001b[0;34m\u001b[0m\u001b[0;34m\u001b[0m\u001b[0m\n",
            "\u001b[0;32m~/.local/lib/python3.6/site-packages/tensorflow/python/keras/engine/training.py\u001b[0m in \u001b[0;36mfit\u001b[0;34m(self, x, y, batch_size, epochs, verbose, callbacks, validation_split, validation_data, shuffle, class_weight, sample_weight, initial_epoch, steps_per_epoch, validation_steps, validation_batch_size, validation_freq, max_queue_size, workers, use_multiprocessing)\u001b[0m\n\u001b[1;32m   1098\u001b[0m                 _r=1):\n\u001b[1;32m   1099\u001b[0m               \u001b[0mcallbacks\u001b[0m\u001b[0;34m.\u001b[0m\u001b[0mon_train_batch_begin\u001b[0m\u001b[0;34m(\u001b[0m\u001b[0mstep\u001b[0m\u001b[0;34m)\u001b[0m\u001b[0;34m\u001b[0m\u001b[0;34m\u001b[0m\u001b[0m\n\u001b[0;32m-> 1100\u001b[0;31m               \u001b[0mtmp_logs\u001b[0m \u001b[0;34m=\u001b[0m \u001b[0mself\u001b[0m\u001b[0;34m.\u001b[0m\u001b[0mtrain_function\u001b[0m\u001b[0;34m(\u001b[0m\u001b[0miterator\u001b[0m\u001b[0;34m)\u001b[0m\u001b[0;34m\u001b[0m\u001b[0;34m\u001b[0m\u001b[0m\n\u001b[0m\u001b[1;32m   1101\u001b[0m               \u001b[0;32mif\u001b[0m \u001b[0mdata_handler\u001b[0m\u001b[0;34m.\u001b[0m\u001b[0mshould_sync\u001b[0m\u001b[0;34m:\u001b[0m\u001b[0;34m\u001b[0m\u001b[0;34m\u001b[0m\u001b[0m\n\u001b[1;32m   1102\u001b[0m                 \u001b[0mcontext\u001b[0m\u001b[0;34m.\u001b[0m\u001b[0masync_wait\u001b[0m\u001b[0;34m(\u001b[0m\u001b[0;34m)\u001b[0m\u001b[0;34m\u001b[0m\u001b[0;34m\u001b[0m\u001b[0m\n",
            "\u001b[0;32m~/.local/lib/python3.6/site-packages/tensorflow/python/eager/def_function.py\u001b[0m in \u001b[0;36m__call__\u001b[0;34m(self, *args, **kwds)\u001b[0m\n\u001b[1;32m    826\u001b[0m     \u001b[0mtracing_count\u001b[0m \u001b[0;34m=\u001b[0m \u001b[0mself\u001b[0m\u001b[0;34m.\u001b[0m\u001b[0mexperimental_get_tracing_count\u001b[0m\u001b[0;34m(\u001b[0m\u001b[0;34m)\u001b[0m\u001b[0;34m\u001b[0m\u001b[0;34m\u001b[0m\u001b[0m\n\u001b[1;32m    827\u001b[0m     \u001b[0;32mwith\u001b[0m \u001b[0mtrace\u001b[0m\u001b[0;34m.\u001b[0m\u001b[0mTrace\u001b[0m\u001b[0;34m(\u001b[0m\u001b[0mself\u001b[0m\u001b[0;34m.\u001b[0m\u001b[0m_name\u001b[0m\u001b[0;34m)\u001b[0m \u001b[0;32mas\u001b[0m \u001b[0mtm\u001b[0m\u001b[0;34m:\u001b[0m\u001b[0;34m\u001b[0m\u001b[0;34m\u001b[0m\u001b[0m\n\u001b[0;32m--> 828\u001b[0;31m       \u001b[0mresult\u001b[0m \u001b[0;34m=\u001b[0m \u001b[0mself\u001b[0m\u001b[0;34m.\u001b[0m\u001b[0m_call\u001b[0m\u001b[0;34m(\u001b[0m\u001b[0;34m*\u001b[0m\u001b[0margs\u001b[0m\u001b[0;34m,\u001b[0m \u001b[0;34m**\u001b[0m\u001b[0mkwds\u001b[0m\u001b[0;34m)\u001b[0m\u001b[0;34m\u001b[0m\u001b[0;34m\u001b[0m\u001b[0m\n\u001b[0m\u001b[1;32m    829\u001b[0m       \u001b[0mcompiler\u001b[0m \u001b[0;34m=\u001b[0m \u001b[0;34m\"xla\"\u001b[0m \u001b[0;32mif\u001b[0m \u001b[0mself\u001b[0m\u001b[0;34m.\u001b[0m\u001b[0m_experimental_compile\u001b[0m \u001b[0;32melse\u001b[0m \u001b[0;34m\"nonXla\"\u001b[0m\u001b[0;34m\u001b[0m\u001b[0;34m\u001b[0m\u001b[0m\n\u001b[1;32m    830\u001b[0m       \u001b[0mnew_tracing_count\u001b[0m \u001b[0;34m=\u001b[0m \u001b[0mself\u001b[0m\u001b[0;34m.\u001b[0m\u001b[0mexperimental_get_tracing_count\u001b[0m\u001b[0;34m(\u001b[0m\u001b[0;34m)\u001b[0m\u001b[0;34m\u001b[0m\u001b[0;34m\u001b[0m\u001b[0m\n",
            "\u001b[0;32m~/.local/lib/python3.6/site-packages/tensorflow/python/eager/def_function.py\u001b[0m in \u001b[0;36m_call\u001b[0;34m(self, *args, **kwds)\u001b[0m\n\u001b[1;32m    853\u001b[0m       \u001b[0;31m# In this case we have created variables on the first call, so we run the\u001b[0m\u001b[0;34m\u001b[0m\u001b[0;34m\u001b[0m\u001b[0;34m\u001b[0m\u001b[0m\n\u001b[1;32m    854\u001b[0m       \u001b[0;31m# defunned version which is guaranteed to never create variables.\u001b[0m\u001b[0;34m\u001b[0m\u001b[0;34m\u001b[0m\u001b[0;34m\u001b[0m\u001b[0m\n\u001b[0;32m--> 855\u001b[0;31m       \u001b[0;32mreturn\u001b[0m \u001b[0mself\u001b[0m\u001b[0;34m.\u001b[0m\u001b[0m_stateless_fn\u001b[0m\u001b[0;34m(\u001b[0m\u001b[0;34m*\u001b[0m\u001b[0margs\u001b[0m\u001b[0;34m,\u001b[0m \u001b[0;34m**\u001b[0m\u001b[0mkwds\u001b[0m\u001b[0;34m)\u001b[0m  \u001b[0;31m# pylint: disable=not-callable\u001b[0m\u001b[0;34m\u001b[0m\u001b[0;34m\u001b[0m\u001b[0m\n\u001b[0m\u001b[1;32m    856\u001b[0m     \u001b[0;32melif\u001b[0m \u001b[0mself\u001b[0m\u001b[0;34m.\u001b[0m\u001b[0m_stateful_fn\u001b[0m \u001b[0;32mis\u001b[0m \u001b[0;32mnot\u001b[0m \u001b[0;32mNone\u001b[0m\u001b[0;34m:\u001b[0m\u001b[0;34m\u001b[0m\u001b[0;34m\u001b[0m\u001b[0m\n\u001b[1;32m    857\u001b[0m       \u001b[0;31m# Release the lock early so that multiple threads can perform the call\u001b[0m\u001b[0;34m\u001b[0m\u001b[0;34m\u001b[0m\u001b[0;34m\u001b[0m\u001b[0m\n",
            "\u001b[0;32m~/.local/lib/python3.6/site-packages/tensorflow/python/eager/function.py\u001b[0m in \u001b[0;36m__call__\u001b[0;34m(self, *args, **kwargs)\u001b[0m\n\u001b[1;32m   2941\u001b[0m        filtered_flat_args) = self._maybe_define_function(args, kwargs)\n\u001b[1;32m   2942\u001b[0m     return graph_function._call_flat(\n\u001b[0;32m-> 2943\u001b[0;31m         filtered_flat_args, captured_inputs=graph_function.captured_inputs)  # pylint: disable=protected-access\n\u001b[0m\u001b[1;32m   2944\u001b[0m \u001b[0;34m\u001b[0m\u001b[0m\n\u001b[1;32m   2945\u001b[0m   \u001b[0;34m@\u001b[0m\u001b[0mproperty\u001b[0m\u001b[0;34m\u001b[0m\u001b[0;34m\u001b[0m\u001b[0m\n",
            "\u001b[0;32m~/.local/lib/python3.6/site-packages/tensorflow/python/eager/function.py\u001b[0m in \u001b[0;36m_call_flat\u001b[0;34m(self, args, captured_inputs, cancellation_manager)\u001b[0m\n\u001b[1;32m   1917\u001b[0m       \u001b[0;31m# No tape is watching; skip to running the function.\u001b[0m\u001b[0;34m\u001b[0m\u001b[0;34m\u001b[0m\u001b[0;34m\u001b[0m\u001b[0m\n\u001b[1;32m   1918\u001b[0m       return self._build_call_outputs(self._inference_function.call(\n\u001b[0;32m-> 1919\u001b[0;31m           ctx, args, cancellation_manager=cancellation_manager))\n\u001b[0m\u001b[1;32m   1920\u001b[0m     forward_backward = self._select_forward_and_backward_functions(\n\u001b[1;32m   1921\u001b[0m         \u001b[0margs\u001b[0m\u001b[0;34m,\u001b[0m\u001b[0;34m\u001b[0m\u001b[0;34m\u001b[0m\u001b[0m\n",
            "\u001b[0;32m~/.local/lib/python3.6/site-packages/tensorflow/python/eager/function.py\u001b[0m in \u001b[0;36mcall\u001b[0;34m(self, ctx, args, cancellation_manager)\u001b[0m\n\u001b[1;32m    558\u001b[0m               \u001b[0minputs\u001b[0m\u001b[0;34m=\u001b[0m\u001b[0margs\u001b[0m\u001b[0;34m,\u001b[0m\u001b[0;34m\u001b[0m\u001b[0;34m\u001b[0m\u001b[0m\n\u001b[1;32m    559\u001b[0m               \u001b[0mattrs\u001b[0m\u001b[0;34m=\u001b[0m\u001b[0mattrs\u001b[0m\u001b[0;34m,\u001b[0m\u001b[0;34m\u001b[0m\u001b[0;34m\u001b[0m\u001b[0m\n\u001b[0;32m--> 560\u001b[0;31m               ctx=ctx)\n\u001b[0m\u001b[1;32m    561\u001b[0m         \u001b[0;32melse\u001b[0m\u001b[0;34m:\u001b[0m\u001b[0;34m\u001b[0m\u001b[0;34m\u001b[0m\u001b[0m\n\u001b[1;32m    562\u001b[0m           outputs = execute.execute_with_cancellation(\n",
            "\u001b[0;32m~/.local/lib/python3.6/site-packages/tensorflow/python/eager/execute.py\u001b[0m in \u001b[0;36mquick_execute\u001b[0;34m(op_name, num_outputs, inputs, attrs, ctx, name)\u001b[0m\n\u001b[1;32m     58\u001b[0m     \u001b[0mctx\u001b[0m\u001b[0;34m.\u001b[0m\u001b[0mensure_initialized\u001b[0m\u001b[0;34m(\u001b[0m\u001b[0;34m)\u001b[0m\u001b[0;34m\u001b[0m\u001b[0;34m\u001b[0m\u001b[0m\n\u001b[1;32m     59\u001b[0m     tensors = pywrap_tfe.TFE_Py_Execute(ctx._handle, device_name, op_name,\n\u001b[0;32m---> 60\u001b[0;31m                                         inputs, attrs, num_outputs)\n\u001b[0m\u001b[1;32m     61\u001b[0m   \u001b[0;32mexcept\u001b[0m \u001b[0mcore\u001b[0m\u001b[0;34m.\u001b[0m\u001b[0m_NotOkStatusException\u001b[0m \u001b[0;32mas\u001b[0m \u001b[0me\u001b[0m\u001b[0;34m:\u001b[0m\u001b[0;34m\u001b[0m\u001b[0;34m\u001b[0m\u001b[0m\n\u001b[1;32m     62\u001b[0m     \u001b[0;32mif\u001b[0m \u001b[0mname\u001b[0m \u001b[0;32mis\u001b[0m \u001b[0;32mnot\u001b[0m \u001b[0;32mNone\u001b[0m\u001b[0;34m:\u001b[0m\u001b[0;34m\u001b[0m\u001b[0;34m\u001b[0m\u001b[0m\n",
            "\u001b[0;31mKeyboardInterrupt\u001b[0m: "
          ]
        }
      ]
    },
    {
      "cell_type": "markdown",
      "metadata": {
        "id": "employed-nightmare"
      },
      "source": [
        "\n",
        "\n",
        "### Tickets\n",
        "- How to find the inverse function, find where the centraility stops increasing this is 100% of centraility, then the centraility measures can become a normalised percentage based on this. Then there is a centraility percentage and epoch function. This can be used to scale the pruning rate. The function should be reverse compare to the one seen in the data.\n",
        "- The fuction of the rate of removal of nodes should be the inverse of the function of the increase of centraility observered\n",
        "    - SET on FashionMNST should be rerun recording lap centraility\n",
        "    - Perhaps 2 More datasets should be run recording lap centraility\n",
        "    - Using all of these datasets I can try and come up with a matching function \n",
        "    - Possible candidates: https://en.wikipedia.org/wiki/Exponential_growth#/media/File:Exponential.svg x^3 looks good \n",
        "\n",
        "- Improve access speed on sparse adj matrix in W -> N - test using list of list sparse matrices\n",
        "- Read into Lap centraility\n",
        "    - Does it work for directed graphs ? \n",
        "    - \n",
        " \n",
        "- Allow for changing of metric\n",
        "- At each epoch in SET record the ranking of centraility\n",
        "- use above to determine a centraility threshold to prune beneth.\n",
        "- Choose better metrics\n",
        "- Create framework to find pruning threshold for a metric\n",
        "- Fix tex saving\n",
        "- Show MLP in comparison charts ?\n",
        "- Track number of connections per epoch\n",
        "- Track number of connections and centraility across network at end of training\n",
        "- Convert between iterations on SET to check conversion methods\n",
        "- Get VPN \n",
        "- Get collab Pro\n",
        "- Set up Collab with github: https://towardsdatascience.com/google-drive-google-colab-github-dont-just-read-do-it-5554d5824228\n",
        "\n",
        "### Broken\n",
        "- FashionMNST is not supported\n",
        "\n",
        "\n",
        "\n",
        "\n"
      ],
      "id": "employed-nightmare"
    },
    {
      "cell_type": "markdown",
      "metadata": {
        "id": "AR5xEkfcEv2Q"
      },
      "source": [],
      "id": "AR5xEkfcEv2Q"
    },
    {
      "cell_type": "markdown",
      "metadata": {
        "id": "FRxaQhtBq4tx"
      },
      "source": [],
      "id": "FRxaQhtBq4tx"
    }
  ]
}