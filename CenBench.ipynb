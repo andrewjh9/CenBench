{
  "nbformat": 4,
  "nbformat_minor": 5,
  "metadata": {
    "kernelspec": {
      "name": "python3",
      "display_name": "Python 3"
    },
    "metadata": {
      "interpreter": {
        "hash": "31f2aee4e71d21fbe5cf8b01ff0e069b9275f58929596ceb00d14d90e3e16cd6"
      }
    },
    "colab": {
      "name": "CenBench.ipynb",
      "provenance": [],
      "include_colab_link": true
    },
    "language_info": {
      "name": "python"
    },
    "accelerator": "GPU"
  },
  "cells": [
    {
      "cell_type": "markdown",
      "metadata": {
        "id": "view-in-github",
        "colab_type": "text"
      },
      "source": [
        "<a href=\"https://colab.research.google.com/github/andrewjh9/CenBench/blob/main/CenBench.ipynb\" target=\"_parent\"><img src=\"https://colab.research.google.com/assets/colab-badge.svg\" alt=\"Open In Colab\"/></a>"
      ]
    },
    {
      "cell_type": "raw",
      "metadata": {
        "id": "cubic-hughes"
      },
      "source": [
        "# Citation"
      ],
      "id": "cubic-hughes"
    },
    {
      "cell_type": "code",
      "metadata": {
        "id": "9WRGpBBLq4tj"
      },
      "source": [
        "#CenSET\n"
      ],
      "id": "9WRGpBBLq4tj",
      "execution_count": 704,
      "outputs": []
    },
    {
      "cell_type": "code",
      "metadata": {
        "id": "RXF216Ciq4tk",
        "colab": {
          "base_uri": "https://localhost:8080/"
        },
        "outputId": "b2f5accd-47c7-476a-edbf-c33ed28949ec"
      },
      "source": [
        "from google.colab import drive\n",
        "drive.mount('/content/drive')"
      ],
      "id": "RXF216Ciq4tk",
      "execution_count": 705,
      "outputs": [
        {
          "output_type": "stream",
          "text": [
            "Drive already mounted at /content/drive; to attempt to forcibly remount, call drive.mount(\"/content/drive\", force_remount=True).\n"
          ],
          "name": "stdout"
        }
      ]
    },
    {
      "cell_type": "code",
      "metadata": {
        "tags": [],
        "id": "polish-basket",
        "colab": {
          "base_uri": "https://localhost:8080/"
        },
        "outputId": "2fc6add8-b3ed-43f8-ecd2-6bbdc3ca94eb"
      },
      "source": [
        "# Author: Decebal Constantin Mocanu et al.;\n",
        "# Proof of concept implementation of Sparse Evolutionary Training (SET) of Multi Layer Perceptron (MLP) on CIFAR10 using Keras and a mask over weights.\n",
        "# This implementation can be used to test SET in varying conditions, using the Keras framework versatility, e.g. various optimizers, activation layers, tensorflow\n",
        "# Also it can be easily adapted for Convolutional Neural Networks or other models which have dense layers\n",
        "# However, due the fact that the weights are stored in the standard Keras format (dense matrices), this implementation can not scale properly.\n",
        "# If you would like to build and SET-MLP with over 100000 neurons, please use the pure Python implementation from the folder \"SET-MLP-Sparse-Python-Data-Structures\"\n",
        "\n",
        "# This is a pre-alpha free software and was tested with Python 3.5.2, Keras 2.1.3, Keras_Contrib 0.0.2, Tensorflow 1.5.0, Numpy 1.14;\n",
        "# The code is distributed in the hope that it may be useful, but WITHOUT ANY WARRANTIES; The use of this software is entirely at the user's own risk;\n",
        "# For an easy understanding of the code functionality please read the following articles.\n",
        "\n",
        "# If you use parts of this code please cite the following articles:\n",
        "#@article{Mocanu2018SET,\n",
        "#  author =        {Mocanu, Decebal Constantin and Mocanu, Elena and Stone, Peter and Nguyen, Phuong H. and Gibescu, Madeleine and Liotta, Antonio},\n",
        "#  journal =       {Nature Communications},\n",
        "#  title =         {Scalable Training of Artificial Neural Networks with Adaptive Sparse Connectivity inspired by Network Science},\n",
        "#  year =          {2018},\n",
        "#  doi =           {10.1038/s41467-018-04316-3}\n",
        "#}\n",
        "\n",
        "#@Article{Mocanu2016XBM,\n",
        "#author=\"Mocanu, Decebal Constantin and Mocanu, Elena and Nguyen, Phuong H. and Gibescu, Madeleine and Liotta, Antonio\",\n",
        "#title=\"A topological insight into restricted Boltzmann machines\",\n",
        "#journal=\"Machine Learning\",\n",
        "#year=\"2016\",\n",
        "#volume=\"104\",\n",
        "#number=\"2\",\n",
        "#pages=\"243--270\",\n",
        "#doi=\"10.1007/s10994-016-5570-z\",\n",
        "#url=\"https://doi.org/10.1007/s10994-016-5570-z\"\n",
        "#}\n",
        "\n",
        "#@phdthesis{Mocanu2017PhDthesis,\n",
        "#title = \"Network computations in artificial intelligence\",\n",
        "#author = \"D.C. Mocanu\",\n",
        "#year = \"2017\",\n",
        "#isbn = \"978-90-386-4305-2\",\n",
        "#publisher = \"Eindhoven University of Technology\",\n",
        "#}\\\\\\\n",
        "\n",
        "# Alterations made by Andrew Heath\n",
        "\n",
        "\n",
        "# Install requirements\n",
        "# !pip3 uninstall tensorflow y\n",
        "# !pip3 install tensorflow --user\n",
        "# # !pip3 install --upgrade tensorflow\n",
        "# !pip3 install graphviz\n",
        "# !pip3 install pydot\n",
        "# !pip3 install keras-visualizer\n",
        "# !pip3 install cmake\n",
        "# !pip3 install cython\n",
        "!pip3 install networkit\n",
        "!pip3 install networkx"
      ],
      "id": "polish-basket",
      "execution_count": 706,
      "outputs": [
        {
          "output_type": "stream",
          "text": [
            "Requirement already satisfied: networkit in /usr/local/lib/python3.7/dist-packages (8.1)\n",
            "Requirement already satisfied: numpy in /usr/local/lib/python3.7/dist-packages (from networkit) (1.19.5)\n",
            "Requirement already satisfied: scipy in /usr/local/lib/python3.7/dist-packages (from networkit) (1.4.1)\n",
            "Requirement already satisfied: networkx in /usr/local/lib/python3.7/dist-packages (2.5.1)\n",
            "Requirement already satisfied: decorator<5,>=4.3 in /usr/local/lib/python3.7/dist-packages (from networkx) (4.4.2)\n"
          ],
          "name": "stdout"
        }
      ]
    },
    {
      "cell_type": "markdown",
      "metadata": {
        "id": "0FC8Ze7vq4tm"
      },
      "source": [
        "# CenBench \n",
        "The a benchmark framework used to perform the expeirment"
      ],
      "id": "0FC8Ze7vq4tm"
    },
    {
      "cell_type": "markdown",
      "metadata": {
        "id": "olive-operation"
      },
      "source": [
        "## Set up"
      ],
      "id": "olive-operation"
    },
    {
      "cell_type": "code",
      "metadata": {
        "id": "rolled-suite"
      },
      "source": [
        "from __future__ import division\n",
        "from __future__ import print_function\n",
        "import tensorflow as tf\n",
        "from datetime import datetime\n",
        "import time\n",
        "from tensorflow.keras.preprocessing.image import ImageDataGenerator\n",
        "from tensorflow.keras.models import Sequential\n",
        "from tensorflow.keras.layers import Dense, Dropout, Activation, Flatten\n",
        "from tensorflow.keras import optimizers\n",
        "from tensorflow.python.client import device_lib\n",
        "\n",
        "import numpy as np\n",
        "from numpy import asarray\n",
        "from numpy import savetxt\n",
        "import pydot\n",
        "from tensorflow.keras import models, layers  \n",
        "from tensorflow.keras import backend as K\n",
        "from tensorflow.keras import layers\n",
        "from tensorflow.keras import activations\n",
        "from tensorflow.keras import utils as k_utils\n",
        "import time\n",
        "from copy import copy, deepcopy\n",
        "import networkx.algorithms.isomorphism as iso\n",
        "from  more_itertools import take\n",
        "from scipy.sparse import dok_matrix\n",
        "import networkx as nx\n",
        "import networkit as nk\n",
        "from random import sample\n",
        "\n",
        "\n",
        "#Please note that in newer versions of keras_contrib you may encounter some import errors. You can find a fix for it on the Internet, or as an alternative you can try other activations functions.\n",
        "# import tf.keras.activations.relu as SReLU\n",
        "from tensorflow.keras.datasets import cifar10\n",
        "from tensorflow.keras.datasets import fashion_mnist \n",
        "from tensorflow.keras.utils import to_categorical\n",
        "import matplotlib\n",
        "import numpy as np\n",
        "import matplotlib.pyplot as plt\n",
        "import networkx as nx\n",
        "%matplotlib inline  \n",
        "\n",
        "class Constraint(object):\n",
        "\n",
        "    def __call__(self, w):\n",
        "        return w\n",
        "\n",
        "    def get_config(self):\n",
        "        return {}\n",
        "\n",
        "class MaskWeights(Constraint):\n",
        "\n",
        "    def __init__(self, mask):\n",
        "        self.mask = mask\n",
        "        self.mask = K.cast(self.mask, K.floatx())\n",
        "\n",
        "    def __call__(self, w):\n",
        "        w = w.assign(w * self.mask)\n",
        "        return w\n",
        "\n",
        "    def get_config(self):\n",
        "        return {'mask': self.mask}\n",
        "\n",
        "\n",
        "def find_first_pos(array, value):\n",
        "    idx = (np.abs(array - value)).argmin()\n",
        "    return idx\n",
        "\n",
        "\n",
        "def find_last_pos(array, value):\n",
        "    idx = (np.abs(array - value))[::-1].argmin()\n",
        "    return array.shape[0] - idx\n",
        "\n",
        "\n",
        "def createWeightsMask(epsilon,noRows, noCols):\n",
        "    # generate an Erdos Renyi sparse weights mask\n",
        "    mask_weights = np.random.rand(noRows, noCols)\n",
        "    prob = 1 - (epsilon * (noRows + noCols)) / (noRows * noCols)  # normal tp have 8x connections\n",
        "    mask_weights[mask_weights < prob] = 0\n",
        "    mask_weights[mask_weights >= prob] = 1\n",
        "    print(\"Init mask weight shape: \",mask_weights.shape)\n",
        "    noParameters = np.sum(mask_weights)\n",
        "    print (\"Create Sparse Matrix: No parameters, NoRows, NoCols \",noParameters,noRows,noCols)\n",
        "    return [noParameters,mask_weights]"
      ],
      "id": "rolled-suite",
      "execution_count": 707,
      "outputs": []
    },
    {
      "cell_type": "markdown",
      "metadata": {
        "id": "supreme-blast"
      },
      "source": [
        "## Init & Parameters"
      ],
      "id": "supreme-blast"
    },
    {
      "cell_type": "code",
      "metadata": {
        "id": "otherwise-malpractice"
      },
      "source": [
        "class CenBench_MLP():\n",
        "    def __init__(self, maxepoches, dataset, dataset_input_shape, layer_sizes, pruning_approach, batch_size = 100, centrality_metric=None, zeta=0.05):\n",
        "\n",
        "        \n",
        "        # Move\n",
        "        def prod(val) : \n",
        "            res = 1 \n",
        "            for ele in val: \n",
        "                res *= ele \n",
        "            return res \n",
        "        # set model parameters\n",
        "        self.number_of_connections_per_epoch = 0\n",
        "        self.layer_sizes = [prod(dataset_input_shape), layer_sizes[0], layer_sizes[1], layer_sizes[2]]\n",
        "        self.dataset_input_shape = dataset_input_shape\n",
        "        self.epsilon = 20 # control the sparsity level as discussed in the paper\n",
        "        self.zeta = zeta # the fraction of the weights removed\n",
        "        self.batch_size = batch_size # batch sgenerate_weights_matrix_from_networkize\n",
        "        self.maxepoches = maxepoches     # number of epochs\n",
        "        self.learning_rate = 0.01 # SGD learning rate\n",
        "        self.num_classes = 10 # number of classes\n",
        "        self.momentum = 0.9 # SGD momentum\n",
        "        self.dataset = dataset\n",
        "        self.pruning_approach = pruning_approach\n",
        "        self.centrality_metric = centrality_metric\n",
        "        self.current_accuracy = 0#Only for AccSET\n",
        "        self.k = -0.27 #Only for AccSET\n",
        "        self.number_of_connections_per_epoch = 0#Only for AccSET\n",
        "        self.current_epoc = 0\n",
        "        self.mean_kc_scores = []\n",
        "        self.mean_l_scores =[]\n",
        "        # generate an Erdos Renyi sparse weights mask for each layer -- this is broken !!!!!!!!!!!!!!!!!!!!!!!! - must work for fashion also\n",
        "        [self.noPar1, self.wm1] = createWeightsMask(self.epsilon, prod(dataset_input_shape), 4000)\n",
        "        [self.noPar2, self.wm2] = createWeightsMask(self.epsilon,4000, 1000)\n",
        "        [self.noPar3, self.wm3] = createWeightsMask(self.epsilon,1000, 4000)\n",
        "        print(\"Total noPars: \", self.noPar1 + self.noPar2 + self.noPar3)\n",
        "        # initialize layers weightsnk\n",
        "        self.w1 = None\n",
        "        self.w2 = None\n",
        "        self.w3 = None\n",
        "        self.w4 = None\n",
        "\n",
        "        # initialize weights for SReLu activation function\n",
        "        self.wSRelu1 = None\n",
        "        self.wSRelu2 = None\n",
        "        self.wSRelu3 = None\n",
        "\n",
        "        # create a SET-MLP model\n",
        "        self.create_model()\n"
      ],
      "id": "otherwise-malpractice",
      "execution_count": 708,
      "outputs": []
    },
    {
      "cell_type": "markdown",
      "metadata": {
        "id": "assigned-benefit"
      },
      "source": [
        "## Create model"
      ],
      "id": "assigned-benefit"
    },
    {
      "cell_type": "code",
      "metadata": {
        "id": "magnetic-thanks"
      },
      "source": [
        "class CenBench_MLP(CenBench_MLP):\n",
        "    def create_model(self):\n",
        "\n",
        "        # create a SET-MLP model for CIFAR10 with 3 hidden layers\n",
        "        self.model = Sequential()\n",
        "        #Input layer ---  \n",
        "        self.model.add(Flatten(input_shape=self.dataset_input_shape))\n",
        "        \n",
        "        # Hidden layer 1\n",
        "        self.model.add(Dense(4000, name=\"sparse_1\",kernel_constraint=MaskWeights(self.wm1),weights=self.w1))\n",
        "        self.model.add(layers.Activation(activations.relu,name=\"srelu1\",weights=self.wSRelu1))\n",
        "        self.model.add(Dropout(0.3))#Helps with overfitting, only present in training\n",
        "        # Hidden layer 2\n",
        "        self.model.add(Dense(1000, name=\"sparse_2\",kernel_constraint=MaskWeights(self.wm2),weights=self.w2))\n",
        "        self.model.add(layers.Activation(activations.relu,name=\"srelu2\",weights=self.wSRelu2))\n",
        "        self.model.add(Dropout(0.3))#Helps with overfitting, only present in training\n",
        "        # Hidden layer 3\n",
        "        self.model.add(Dense(4000, name=\"sparse_3\",kernel_constraint=MaskWeights(self.wm3),weights=self.w3))\n",
        "        self.model.add(layers.Activation(activations.relu,name=\"srelu3\",weights=self.wSRelu3))\n",
        "        self.model.add(Dropout(0.3)) #Helps with overfitting, only present in training\n",
        "        # Output layer\n",
        "        self.model.add(Dense(self.num_classes, name=\"dense_4\",weights=self.w4)) #please note that there is no need for a sparse output layer as the number of classes is much smaller than the number of input hidden neurons\n",
        "        self.model.add(Activation('softmax'))"
      ],
      "id": "magnetic-thanks",
      "execution_count": 709,
      "outputs": []
    },
    {
      "cell_type": "markdown",
      "metadata": {
        "id": "quality-interaction"
      },
      "source": [
        "## Rewrite Weight Mask SET"
      ],
      "id": "quality-interaction"
    },
    {
      "cell_type": "code",
      "metadata": {
        "id": "continuous-failing"
      },
      "source": [
        "class CenBench_MLP(CenBench_MLP):\n",
        "    def rewireMask_SET(self, weights, noWeights):\n",
        "\n",
        "        # rewire weight matrix\n",
        "        # remove zeta largest negative and smallest positive weights\n",
        "        values = np.sort(weights.ravel())\n",
        "        firstZeroPos = find_first_pos(values, 0)\n",
        "        lastZeroPos = find_last_pos(values, 0)\n",
        "        largestNegative = values[int((1-self.zeta) * firstZeroPos)]\n",
        "        smallestPositive = values[int(min(values.shape[0] - 1, lastZeroPos +self.zeta * (values.shape[0] - lastZeroPos)))]\n",
        "        rewiredWeights = weights.copy();\n",
        "        rewiredWeights[rewiredWeights > smallestPositive] = 1;\n",
        "        rewiredWeights[rewiredWeights < largestNegative] = 1;\n",
        "        rewiredWeights[rewiredWeights != 1] = 0;\n",
        "        weightMaskCore = rewiredWeights.copy()  \n",
        "\n",
        "        # add zeta random weights\n",
        "\n",
        "        nrAdd = 0\n",
        "        sum_layer = np.sum(rewiredWeights)\n",
        "        noRewires = noWeights - sum_layer\n",
        "        while (nrAdd < noRewires):\n",
        "            i = np.random.randint(0, rewiredWeights.shape[0])\n",
        "            j = np.random.randint(0, rewiredWeights.shape[1])\n",
        "            if (rewiredWeights[i, j] == 0):\n",
        "                rewiredWeights[i, j] = 1\n",
        "                nrAdd += 1\n",
        "        self.number_of_connections_per_epoch = self.number_of_connections_per_epoch + np.sum(rewiredWeights)\n",
        "        return [rewiredWeights, weightMaskCore]\n"
      ],
      "id": "continuous-failing",
      "execution_count": 710,
      "outputs": []
    },
    {
      "cell_type": "markdown",
      "metadata": {
        "id": "LpRi5C2tq4tq"
      },
      "source": [
        "## Rewrite weight mask CenSET"
      ],
      "id": "LpRi5C2tq4tq"
    },
    {
      "cell_type": "code",
      "metadata": {
        "id": "XOKT0bhIq4tr"
      },
      "source": [
        "class CenBench_MLP(CenBench_MLP):\n",
        "    def rewireMask_CenSET(self, layer_weights, layer_weights_mask, noWeights):\n",
        "\n",
        "        nkG = generate_NN_network(self.layer_sizes, layer_weights, layer_weights_mask)  \n",
        "    \n",
        "\n",
        "        nodes_to_remove_with_score = self.find_nodes_lowest_centraility(nkG, int((self.zeta) * sum(self.layer_sizes)), self.centrality_metric)\n",
        "        # If nodes to be removed starts a 0 and not 1 \n",
        "        nodes_to_remove = [i[0] for i in nodes_to_remove_with_score]\n",
        "\n",
        "        rewiredWeights = generate_weight_masks_matrix_from_network(self.layer_sizes, nkG, layer_weights_mask, nodes_to_remove)\n",
        "        # rewiredWeights = [[[step(x) for x in inner] for inner in layer]  for layer in rewiredWeights]\n",
        "        weightMaskCore = deepcopy(rewiredWeights)\n",
        "        # print(\"Shape rewieredWeights: \", rewiredWeights)\n",
        "        for layer_i, layer in enumerate(rewiredWeights):\n",
        "            nrAdd = 0\n",
        "            layer_sum = layer.sum()\n",
        "            noRewires = noWeights[layer_i] - layer_sum\n",
        "            while (nrAdd < noRewires):\n",
        "                i = np.random.randint(0, len(layer))\n",
        "                j = np.random.randint(0, len(layer[0]))\n",
        "                if (layer[i][j] == 0):\n",
        "                    layer[i][j] = 1\n",
        "                    nrAdd += 1\n",
        "        self.number_of_connections_per_epoch = self.number_of_connections_per_epoch + np.sum(rewiredWeights[0]) + np.sum(rewiredWeights[1]) + np.sum(rewiredWeights[2])\n",
        "        return [rewiredWeights, weightMaskCore]"
      ],
      "id": "XOKT0bhIq4tr",
      "execution_count": 711,
      "outputs": []
    },
    {
      "cell_type": "code",
      "metadata": {
        "id": "9oasigL3q4tr"
      },
      "source": [
        "class CenBench_MLP(CenBench_MLP):\n",
        "    def rewireMask_AccSET(self, weights, no_weights):\n",
        "                # rewire weight matrix\n",
        "        # remove zeta largest negative and smallest positive weights\n",
        "        values = np.sort(weights.ravel())\n",
        "        first_zero_pos = find_first_pos(values, 0)\n",
        "        last_zero_pos = find_last_pos(values, 0)\n",
        "        largest_negative = values[int((1 - self.zeta) * first_zero_pos)]\n",
        "        smallest_positive = values[\n",
        "            int(min(values.shape[0] - 1, last_zero_pos + self.zeta * (values.shape[0] - last_zero_pos)))]\n",
        "        rewired_weights = weights.copy()\n",
        "        rewired_weights[rewired_weights > smallest_positive] = 1\n",
        "        rewired_weights[rewired_weights < largest_negative] = 1\n",
        "        rewired_weights[rewired_weights != 1] = 0\n",
        "        weight_mask_core = rewired_weights.copy()\n",
        "\n",
        "        # add zeta random weights\n",
        "        nr_add = 0\n",
        "        # Number of connections to be added\n",
        "        no_rewires = self.calculate_number_of_connections_to_add(rewired_weights, no_weights)\n",
        "        while nr_add < no_rewires:\n",
        "            i = np.random.randint(0, rewired_weights.shape[0])\n",
        "            j = np.random.randint(0, rewired_weights.shape[1])\n",
        "            if rewired_weights[i, j] == 0:\n",
        "                rewired_weights[i, j] = 1\n",
        "                nr_add += 1\n",
        "        self.number_of_connections_per_epoch = self.number_of_connections_per_epoch + np.sum(rewired_weights)\n",
        "\n",
        "        return [rewired_weights, weight_mask_core]"
      ],
      "id": "9oasigL3q4tr",
      "execution_count": 712,
      "outputs": []
    },
    {
      "cell_type": "code",
      "metadata": {
        "id": "WYgKUEpcq4tr"
      },
      "source": [
        " class CenBench_MLP(CenBench_MLP):\n",
        "    def calculate_number_of_connections_to_add(self, rewired_weights, no_weights):\n",
        "        # Adjust sparsity based on the accuracy\n",
        "        x = self.current_accuracy\n",
        "        y = 1 - ((x - x * self.k) / (self.k - abs(x) * 2 * self.k + 1))\n",
        "        return (no_weights - np.sum(rewired_weights)) * y"
      ],
      "id": "WYgKUEpcq4tr",
      "execution_count": 713,
      "outputs": []
    },
    {
      "cell_type": "markdown",
      "metadata": {
        "id": "FQoQOkYsq4ts"
      },
      "source": [
        "## Testing conversion\n",
        "A method for testing if the conversion between weights and graphs is working as intended"
      ],
      "id": "FQoQOkYsq4ts"
    },
    {
      "cell_type": "code",
      "metadata": {
        "id": "CVjriz0jq4ts"
      },
      "source": [
        "def testing_conversion(layer_weights, layer_weight_mask, iterations):\n",
        "    graphs = []\n",
        "    layer_weight_masks = []\n",
        "    # For debug remove\n",
        "    count_of_all_weights = 0\n",
        "    for layer in layer_weights:\n",
        "        count_of_all_weights += np.count_nonzero(layer)\n",
        "    print(\"Inital number of weights in arrays: \", count_of_all_weights)\n",
        "    for i in range(0, iterations):\n",
        "        nkG = generate_NN_network(self.layer_sizes, layer_weights, layer_weight_mask)  \n",
        "        layer_weight_mask = generate_weight_masks_matrix_from_network(self.layer_sizes, nkG, layer_weight_mask, [])\n",
        "        graphs.append(nkG)\n",
        "        layer_weight_masks.append(layer_weight_mask)\n",
        "    print(\"finished with building set\")\n",
        "    i = 0\n",
        "    for first, second in zip(graphs, graphs[1:]):\n",
        "        print(\"Comparison: \", i)\n",
        "        num_edges_1 = nk.nxadapter.nk2nx(first).number_of_edges()\n",
        "        num_edges_2 = nk.nxadapter.nk2nx(second).number_of_edges()\n",
        "        print(\"Num edges: \",num_edges_1,  num_edges_2)\n",
        "        sum_edges_1 = layer_weight_masks[i][0].sum()+ layer_weight_masks[i][1].sum()+ layer_weight_masks[i][2].sum()\n",
        "        sum_edges_2 = layer_weight_masks[i+1][0].sum()+ layer_weight_masks[i+1][1].sum()+ layer_weight_masks[i+1][2].sum()\n",
        "        print(\"Num edges: \",num_edges_1,  num_edges_2)\n",
        "        print(\"Inital number of non zero weights: \", count_of_all_weights)\n",
        "        print(\"Sum edges weights\",sum_edges_1, sum_edges_2 )\n",
        "        comparison = layer_weight_masks[i][0] == layer_weight_masks[i+1][0]\n",
        "        equal_layers = comparison.all()\n",
        "        if not equal_layers:\n",
        "            print(\"layers are not the same\")\n",
        "            print(layer_weight[i][0][100:200])\n",
        "            print(layer_weight[i+1][0][100:200])\n",
        "            return False\n",
        "\n",
        "        em = iso.categorical_edge_match('weight', 'weight')\n",
        "        if not (nx.algorithms.isomorphism.is_isomorphic(nk.nxadapter.nk2nx(first),nk.nxadapter.nk2nx(second), edge_match=em)):     \n",
        "            print(\"ISO failed\")\n",
        "            return False\n",
        "        elif not (num_edges_1 ==num_edges_2 ):     \n",
        "            print(\"Edge number changes\")\n",
        "            return False\n",
        "        i = i + 1\n",
        "    return True\n"
      ],
      "id": "CVjriz0jq4ts",
      "execution_count": 714,
      "outputs": []
    },
    {
      "cell_type": "markdown",
      "metadata": {
        "id": "organized-partition"
      },
      "source": [
        "## Find Centrailities "
      ],
      "id": "organized-partition"
    },
    {
      "cell_type": "code",
      "metadata": {
        "id": "express-visitor"
      },
      "source": [
        "class CenBench_MLP(CenBench_MLP):\n",
        "    def visualise(self):\n",
        "        visualizer(self.model, view=True)\n"
      ],
      "id": "express-visitor",
      "execution_count": 715,
      "outputs": []
    },
    {
      "cell_type": "markdown",
      "metadata": {
        "id": "excellent-prerequisite"
      },
      "source": [
        "## Weight evolution"
      ],
      "id": "excellent-prerequisite"
    },
    {
      "cell_type": "code",
      "metadata": {
        "id": "broadband-polls"
      },
      "source": [
        "class CenBench_MLP(CenBench_MLP):\n",
        "    def weightsEvolution(self):\n",
        "        # this represents the core of the CenSET procedure. It removes the weights closest to zero in each layer and add new random weights\n",
        "        # The mask shows which nodes have been removed \n",
        "        # The weights shows the  \n",
        "        self.w1 = self.model.get_layer(\"sparse_1\").get_weights()\n",
        "        self.w2 = self.model.get_layer(\"sparse_2\").get_weights()\n",
        "        self.w3 = self.model.get_layer(\"sparse_3\").get_weights()\n",
        "        self.w4 = self.model.get_layer(\"dense_4\").get_weights()\n",
        "        # testing_conversion([self.w1[0], self.w2[0], self.w3[0]], [self.wm1, self.wm2, self.wm3], 10)\n",
        "        # return\n",
        "\n",
        "        self.wSRelu1 = self.model.get_layer(\"srelu1\").get_weights()\n",
        "        self.wSRelu2 = self.model.get_layer(\"srelu2\").get_weights()\n",
        "        self.wSRelu3 = self.model.get_layer(\"srelu3\").get_weights()\n",
        "\n",
        "        if(self.pruning_approach == \"SET\"):\n",
        "            print(\"------------------------SET -------------------\")\n",
        "            [self.wm1, self.wm1Core] = self.rewireMask_SET(self.w1[0], self.noPar1)\n",
        "            [self.wm2, self.wm2Core] = self.rewireMask_SET(self.w2[0], self.noPar2)\n",
        "            [self.wm3, self.wm3Core] = self.rewireMask_SET(self.w3[0], self.noPar3)\n",
        "\n",
        "\n",
        "            G = generate_NN_network(self.layer_sizes, [self.w1[0], self.w2[0], self.w3[0]],[self.wm1, self.wm2, self.wm3])  \n",
        "            btwn = nk.centrality.LaplacianCentrality(G, normalized=False)\n",
        "            btwn.run()\n",
        "            scores_cen = [i[1] for i in btwn.ranking()]\n",
        "            # savetxt(\"results/node_centrality_scores_set/\"+str(self.current_epoch)+\"laplacian.csv\", asarray(scores_cen), delimiter=',')\n",
        "            self.mean_l_scores.append(np.mean(scores_cen))\n",
        "\n",
        "            # btwn = nk.centrality.KatzCentrality(G)\n",
        "            # btwn.run()\n",
        "            # scores_cen = [i[1] for i in btwn.ranking()]\n",
        "            # # savetxt(\"results/node_centrality_scores_set/\"+str(self.current_epoch)+\"KatzCentrality.csv\", asarray(scores_cen), delimiter=',')\n",
        "            # self.mean_kc_scores.append(np.mean(scores_cen))\n",
        "      \n",
        "\n",
        "        elif(self.pruning_approach == \"AccSET\"):\n",
        "            print(\"------------------------AccSET -------------------\")\n",
        "            [self.wm1, self.wm1Core] = self.rewireMask_AccSET(self.w1[0], self.noPar1)\n",
        "            [self.wm2, self.wm2Core] = self.rewireMask_AccSET(self.w2[0], self.noPar2)\n",
        "            [self.wm3, self.wm3Core] = self.rewireMask_AccSET(self.w3[0], self.noPar3)\n",
        "\n",
        "        elif(\"CenSET\" == self.pruning_approach):    \n",
        "            print(\"------------------------CenSET -------------------\")\n",
        "\n",
        "            [self.wm1, self.wm2, self.wm3], [self.wm1Core, self.wm2Core, self.wm3Core] = self.rewireMask_CenSET([self.w1[0], self.w2[0], self.w3[0]],[self.wm1, self.wm2, self.wm3] ,[self.noPar1, self.noPar2, self.noPar3])\n",
        "\n",
        "        else:\n",
        "            raise ValueError(\"Unsupported pruning approach:\"+self.pruning_approach)\n",
        "        \n",
        "        self.w1[0] = self.w1[0] * self.wm1Core\n",
        "        self.w2[0] = self.w2[0] * self.wm2Core\n",
        "        self.w3[0] = self.w3[0] * self.wm3Core\n",
        "       \n",
        " \n",
        " \n",
        "\n"
      ],
      "id": "broadband-polls",
      "execution_count": 716,
      "outputs": []
    },
    {
      "cell_type": "markdown",
      "metadata": {
        "id": "sealed-bracket"
      },
      "source": [
        "## Read dataset"
      ],
      "id": "sealed-bracket"
    },
    {
      "cell_type": "code",
      "metadata": {
        "id": "nearby-capacity"
      },
      "source": [
        "class CenBench_MLP(CenBench_MLP):\n",
        "    def read_data(self):\n",
        "\n",
        "        (x_train, y_train), (x_test, y_test) = self.dataset.load_data()\n",
        "        y_train = to_categorical(y_train, self.num_classes)\n",
        "        y_test = to_categorical(y_test, self.num_classes)\n",
        "        x_train = x_train.astype('float32')\n",
        "        x_test = x_test.astype('float32')\n",
        "        # reshape dataset to have a single channel fashionmist\n",
        "        print(\"Dataset name: \", self.dataset.__name__.split(\".\")[3])\n",
        "        if self.dataset.__name__.split(\".\")[3] == \"fashion_mnist\":\n",
        "            x_train = x_train.reshape((x_train.shape[0], 28, 28, 1))\n",
        "            x_test = x_test.reshape((x_test.shape[0], 28, 28, 1))  \n",
        "        #normalize data\n",
        "        xTrainMean = np.mean(x_train, axis=0)\n",
        "        xTtrainStd = np.std(x_train, axis=0)\n",
        "        x_train = (x_train - xTrainMean) / xTtrainStd\n",
        "        x_test = (x_test - xTrainMean) / xTtrainStd\n",
        "\n",
        "        return [x_train, x_test, y_train, y_test]"
      ],
      "id": "nearby-capacity",
      "execution_count": 717,
      "outputs": []
    },
    {
      "cell_type": "markdown",
      "metadata": {
        "id": "solid-surprise"
      },
      "source": [
        "## Training\n"
      ],
      "id": "solid-surprise"
    },
    {
      "cell_type": "code",
      "metadata": {
        "id": "sufficient-movement"
      },
      "source": [
        "class CenBench_MLP(CenBench_MLP):\n",
        "    def train(self):\n",
        "        # read CIFAR10 data\n",
        "        [x_train,x_test,y_train,y_test]=self.read_data()\n",
        "        #data augmentation\n",
        "        datagen = ImageDataGenerator(\n",
        "            featurewise_center=False,  # set input mean to 0 over the dataset\n",
        "            samplewise_center=False,  # set each sample mean to 0\n",
        "            featurewise_std_normalization=False,  # divide inputs by std of the dataset\n",
        "            samplewise_std_normalization=False,  # divide each input by its std\n",
        "            zca_whitening=False,  # apply ZCA whitening\n",
        "            rotation_range=10,  # randomly rotate images in the range (degrees, 0 to 180)\n",
        "            width_shift_range=0.1,  # randomly shift images horizontally (fraction of total width)\n",
        "            height_shift_range=0.1,  # randomly shift images vertically (fraction of total height)\n",
        "            horizontal_flip=True,  # randomly flip images\n",
        "            vertical_flip=False)  # randomly flip images\n",
        "        datagen.fit(x_train)\n",
        "\n",
        "        self.model.summary()\n",
        "\n",
        "        # training process in a for loop\n",
        "        self.accuracies_per_epoch=[]\n",
        "        self.loss_per_epoch=[]\n",
        "        self.connections_per_epoch=[]\n",
        "        for epoch in range(0, self.maxepoches):\n",
        "            self.current_epoch = epoch\n",
        "            self.number_of_connections_per_epoch = 0.0\n",
        "            print(\"Enter epoch: \", epoch)\n",
        "            sgd = optimizers.SGD(lr=self.learning_rate, momentum=self.momentum)\n",
        "            self.model.compile(loss='categorical_crossentropy', optimizer=sgd, metrics=['accuracy'])\n",
        "\n",
        "            history = self.model.fit(datagen.flow(x_train, y_train,\n",
        "                                                batch_size=self.batch_size),\n",
        "                            steps_per_epoch=x_train.shape[0]//self.batch_size,\n",
        "                                epochs=epoch,\n",
        "                                validation_data=(x_test, y_test),\n",
        "                                    initial_epoch=epoch-1)\n",
        "            # print(history.history.)\n",
        "            self.current_accuracy = history.history['val_accuracy'][0]\n",
        "\n",
        "        #    self.loss_per_epoch.append(history.history['val_loss'])\n",
        "        #    self.connections_per_epoch.append()\n",
        "            #ugly hack to avoid tensorflow memory increase for multiple fit_generator calls. Theano shall work more nicely this but it is outdated in general\n",
        "\n",
        "            # Tracking current accuracy for AccSET and possible exentions\n",
        "            self.accuracies_per_epoch.append(history.history['val_accuracy'][0])\n",
        "            self.loss_per_epoch.append(history.history[\"val_loss\"])\n",
        "            self.weightsEvolution()\n",
        "            print(\"adding to connections per epoch: \", self.number_of_connections_per_epoch)\n",
        "            self.connections_per_epoch.append(self.number_of_connections_per_epoch)\n",
        "            K.clear_session()\n",
        "            self.create_model()\n",
        "\n",
        "        # savetxt(\"/content/drive/My Drive/bsc_thesis_colab_results/results/node_centrality_scores_set/\"+\"KatzCentrality_\"+time.strftime(\"%Y%m%d-%H%M%S\")+\".csv\", asarray(self.mean_kc_scores), delimiter=',')\n",
        "        savetxt(\"/content/drive/My Drive/bsc_thesis_colab_results/results/node_centrality_scores_set/\"+\"_max_epoches_\"+str(self.maxepoches)+\"_approach_\"+self.pruning_approach+\"_zeta_\"+str(self.zeta)+\"laplacian_\"+time.strftime(\"%Y%m%d-%H%M%S\")+\".csv\", asarray(self.mean_l_scores), delimiter=',')\n",
        "\n",
        "\n",
        "        return [self.accuracies_per_epoch,  self.connections_per_epoch, self.loss_per_epoch]\n",
        "           \n"
      ],
      "id": "sufficient-movement",
      "execution_count": 718,
      "outputs": []
    },
    {
      "cell_type": "markdown",
      "metadata": {
        "id": "thrown-paragraph"
      },
      "source": [
        "## Generate Network from From weight array"
      ],
      "id": "thrown-paragraph"
    },
    {
      "cell_type": "code",
      "metadata": {
        "id": "dense-transcript"
      },
      "source": [
        "# TODO change this to only use networkit\n",
        "# TODO change to use a lil sparse representation as this will likely be faster\n",
        "def generate_NN_network(layers, layer_weights, layer_weights_mask):\n",
        "    iterations = 0\n",
        "    n_nodes = sum(layers)\n",
        "    adj_matrix = dok_matrix((n_nodes, n_nodes), dtype=np.float32)\n",
        "    start = time.time()\n",
        "    for layer_i, layer in enumerate(layers):    \n",
        "        if not layer_i == len(layers) - 1 :\n",
        "            # Multiply the current layer by the weight mask to remove nodes, TODO check this\n",
        "            sparse_layer_weights = layer_weights[layer_i] * layer_weights_mask[layer_i]\n",
        "          \n",
        "\n",
        "            current_layer_start_offset = 0 if layer_i == 0 else sum(layers[0 : layer_i])\n",
        "            current_layer_end_offset = current_layer_start_offset + layer - 1\n",
        "            next_layer_start_offset = current_layer_end_offset + 1 \n",
        "            next_layer_end_offset = next_layer_start_offset +  layers[layer_i + 1] -1\n",
        "\n",
        "            layer_index_value_dic = {(x + current_layer_start_offset, y + next_layer_start_offset):value for (x ,y), value in np.ndenumerate(sparse_layer_weights) if not value == 0 }\n",
        "\n",
        "            adj_matrix._update(layer_index_value_dic)\n",
        "\n",
        "    print(\"W -> N  time: s\",(time.time() - start))\n",
        "    \n",
        "    G = nx.convert_matrix.from_scipy_sparse_matrix(adj_matrix, create_using=nx.DiGraph, edge_attribute='weight')\n",
        "    Gnk = nk.nxadapter.nx2nk(G, weightAttr=\"weight\")\n",
        "    return  Gnk\n"
      ],
      "id": "dense-transcript",
      "execution_count": 719,
      "outputs": []
    },
    {
      "cell_type": "markdown",
      "metadata": {
        "id": "_sidiaS7q4tu"
      },
      "source": [
        "## Generate Weight Arrays from Network"
      ],
      "id": "_sidiaS7q4tu"
    },
    {
      "cell_type": "code",
      "metadata": {
        "id": "MBG-fPSEq4tu"
      },
      "source": [
        "def generate_weight_masks_matrix_from_network(layers, network, layer_weights_mask, nodes_to_remove):\n",
        "    n_nodes = sum(layers)\n",
        "    start = time.time()\n",
        "\n",
        "    print(\"Layer weight mask before removal: \", np.count_nonzero(layer_weights_mask[0]) + np.count_nonzero(layer_weights_mask[1]) + np.count_nonzero(layer_weights_mask[2]))\n",
        "    start = time.time()\n",
        "    for layer_i, layer in enumerate(layers):    \n",
        "        if layer_i == len(layers) - 1 :\n",
        "            break\n",
        "\n",
        "        current_layer_start_offset = 0 if layer_i == 0 else sum(layers[0 : layer_i])\n",
        "        current_layer_end_offset = current_layer_start_offset + layer - 1\n",
        "        next_layer_start_offset = current_layer_end_offset + 1 \n",
        "        next_layer_end_offset = next_layer_start_offset +  layers[layer_i + 1] -1\n",
        "       \n",
        "        nodes_to_remove_in_layer_row  = [(remove  - current_layer_start_offset)  for remove in nodes_to_remove if remove >= current_layer_start_offset and remove <= current_layer_end_offset]\n",
        "        nodes_to_remove_in_layer_col  = [(remove  - next_layer_start_offset)  for remove in nodes_to_remove if remove >= next_layer_start_offset and remove <= next_layer_end_offset]\n",
        "\n",
        "\n",
        "        layer_weights_mask[layer_i][: , nodes_to_remove_in_layer_col] = 0\n",
        "        layer_weights_mask[layer_i][nodes_to_remove_in_layer_row, :] = 0\n",
        "\n",
        "\n",
        "    print(\"Layer weight mask after removal: \", np.count_nonzero(layer_weights_mask[0]) + np.count_nonzero(layer_weights_mask[1]) + np.count_nonzero(layer_weights_mask[2]))\n",
        "    print(\"N -> W: \",(time.time() - start))\n",
        "    return layer_weights_mask"
      ],
      "id": "MBG-fPSEq4tu",
      "execution_count": 720,
      "outputs": []
    },
    {
      "cell_type": "markdown",
      "metadata": {
        "id": "aggregate-pressing"
      },
      "source": [
        "# Find nodes with lowest centraility"
      ],
      "id": "aggregate-pressing"
    },
    {
      "cell_type": "code",
      "metadata": {
        "id": "based-shore"
      },
      "source": [
        "class CenBench_MLP(CenBench_MLP):\n",
        "  def find_nodes_lowest_centraility(self, G, number_of_nodes, centrality_metric):\n",
        "      if centrality_metric == \"laplacian\":\n",
        "          if number_of_nodes == 0:\n",
        "            return []\n",
        "          btwn = nk.centrality.LaplacianCentrality(G, normalized=False)\n",
        "          btwn.run()\n",
        "          ranking = btwn.ranking() \n",
        "          scores_cen = [i[1] for i in ranking ]\n",
        "              # savetxt(\"results/node_centrality_scores_set/\"+str(self.current_epoch)+\"laplacian.csv\", asarray(scores_cen), delimiter=',')\n",
        "          self.mean_l_scores.append(np.mean(scores_cen))\n",
        "          print(\"here:\",ranking[-number_of_nodes:])\n",
        "          return ranking[-number_of_nodes:]\n",
        "      elif centrality_metric == \"katz\":\n",
        "          btwn = nk.centrality.KatzCentrality(G)\n",
        "          btwn.run()\n",
        "          return btwn.ranking()[-number_of_nodes:]\n",
        "      elif centrality_metric == \"pagerank\":\n",
        "          btwn = nk.centrality.PageRank(G)\n",
        "          btwn.run()\n",
        "          return btwn.ranking()[-number_of_nodes:]\n",
        "      elif centrality_metric == \"topharmonic\":\n",
        "          btwn = nk.centrality.TopHarmonicCloseness(G)\n",
        "          btwn.run()\n",
        "          return btwn.ranking()[-number_of_nodes:]\n",
        "\n",
        "  def getDateTime():\n",
        "      now = datetime.now()\n",
        "      timestamp = datetime.timestamp(now)\n",
        "      return datetime.fromtimestamp(timestamp)  \n",
        "     "
      ],
      "id": "based-shore",
      "execution_count": 721,
      "outputs": []
    },
    {
      "cell_type": "markdown",
      "metadata": {
        "id": "mM7E3SNdq4tv"
      },
      "source": [
        "# Plot accuracy"
      ],
      "id": "mM7E3SNdq4tv"
    },
    {
      "cell_type": "code",
      "metadata": {
        "id": "H5gBUDkmq4tv"
      },
      "source": [
        "def plot_save_accuracy(title, results_accu, results_connections, results_loss, dataset_name, pruning_approach, epochs, centrality_metric=None, zeta = None):\n",
        "#     plt.plot(results_accu)\n",
        "#     plt.title(title+\" on \"+dataset_name+\" dataset\")\n",
        "#     plt.ylabel('accuracy')\n",
        "#     plt.xlabel('epoch')\n",
        "\n",
        "    if centrality_metric is not None:\n",
        "        save_name = pruning_approach +\"_\"+centrality_metric+\"_accuracy_\"+dataset_name+\"_for_\"+str(epochs)+\"_epochs_\"+time.strftime(\"%Y%m%d-%H%M%S\")\n",
        "    else:\n",
        "         save_name = pruning_approach +\"_accuracy_\"+dataset_name+\"_for_\"+str(epochs)+\"_epochs_\"+time.strftime(\"%Y%m%d-%H%M%S\")\n",
        "    if zeta is not None:\n",
        "         save_name = save_name + \"_zeta_\" + str(zeta)\n",
        "     #     plt.title(title+\" on \"+dataset_name+\" dataset zeta = \"+zeta)\n",
        "#     plt.show()\n",
        "    savetxt(\"/content/drive/My Drive/bsc_thesis_colab_results/results/\"+save_name+\"_accuracy.csv\", asarray(results_accu), delimiter=',')\n",
        "    savetxt(\"/content/drive/My Drive/bsc_thesis_colab_results/results/\"+save_name+\"_connections.csv\", asarray(results_connections), delimiter=',')\n",
        "    savetxt(\"/content/drive/My Drive/bsc_thesis_colab_results/results/\"+save_name+\"_loss.csv\", asarray(results_loss), delimiter=',')\n",
        "    \n",
        "#     plt.savefig(\"plots/\"+ save_name+\".png\")\n",
        "#     tikzplotlib.save(\"tex/\"+ save_name+\".tex\")\n",
        "\n"
      ],
      "id": "H5gBUDkmq4tv",
      "execution_count": 722,
      "outputs": []
    },
    {
      "cell_type": "markdown",
      "metadata": {
        "id": "8e1XfOzgq4tv"
      },
      "source": [
        "# Run experiments\n",
        "A method for running multiple experiments"
      ],
      "id": "8e1XfOzgq4tv"
    },
    {
      "cell_type": "code",
      "metadata": {
        "id": "UNJWtzzbq4tv"
      },
      "source": [
        "def run_experiments(datasets, dataset_input_shape, layer_sizes, maxepoches, pruning_approachs, experiment_titles, centrality_metrics=None):\n",
        "    if  len(datasets) == len(maxepoches) == len(pruning_approachs) == len(experiment_titles) == len(centrality_metrics) :\n",
        "        for experiment_i, experiment_title in enumerate(experiment_titles):\n",
        "            dataset_name = datasets[experiment_i]. __name__.split(\".\")[3]\n",
        "            print(\"------------START of experiment '\"+experiment_title+\"' for dataset: \"+dataset_name+\"------------\")\n",
        "            smlp = CenBench_MLP(maxepoches=maxepoches[experiment_i], dataset=datasets[experiment_i],layer_sizes =layer_sizes[experiment_i], dataset_input_shape=dataset_input_shape[experiment_i], pruning_approach=pruning_approachs[experiment_i], centrality_metric=centrality_metrics[experiment_i])\n",
        "            # Saving results\n",
        "            [res_acc, res_conn, res_loss] = smlp.train()\n",
        "            plot_save_accuracy(experiment_title, res_acc, res_conn, res_loss, dataset_name,pruning_approachs[experiment_i], maxepoches[experiment_i], centrality_metrics[experiment_i] )\n",
        "            \n",
        "            print(\"------------END of experiment '\"+experiment_title+\"' for dataset: \"+dataset_name+\"------------\")\n",
        "    else:\n",
        "        raise ValueError(\"Incorrect experiment setup\")"
      ],
      "id": "UNJWtzzbq4tv",
      "execution_count": 723,
      "outputs": []
    },
    {
      "cell_type": "markdown",
      "metadata": {
        "id": "B90ZjA1-q4tv"
      },
      "source": [
        "## Fit Zeta"
      ],
      "id": "B90ZjA1-q4tv"
    },
    {
      "cell_type": "code",
      "metadata": {
        "id": "RPXx-Zm6q4tw"
      },
      "source": [
        "def fit_zeta(maxepoches, dataset, layer_size, dataset_input_shape, pruning_approach, experiment_title, zeta_range, zeta_step, centrality_metric=None):\n",
        "    for zeta in np.arange(zeta_range[0], zeta_range[1], zeta_step):\n",
        "        dataset_name = dataset. __name__.split(\".\")[3]\n",
        "        smlp = CenBench_MLP(maxepoches=maxepoches, dataset=dataset,layer_sizes =layer_size, dataset_input_shape=dataset_input_shape, pruning_approach=pruning_approach, centrality_metric=centrality_metric, zeta= zeta)\n",
        "        # Saving results\n",
        "        [res_acc, res_conn, res_loss] = smlp.train()\n",
        "        plot_save_accuracy(experiment_title,res_acc, res_conn, res_loss, dataset_name ,pruning_approach, maxepoches, centrality_metric, str(zeta) )"
      ],
      "id": "RPXx-Zm6q4tw",
      "execution_count": 724,
      "outputs": []
    },
    {
      "cell_type": "markdown",
      "metadata": {
        "id": "UOEjkkiNq4tw"
      },
      "source": [
        "# Configure Experiments - Start Experiments\n",
        "Configure the Experiments and run them"
      ],
      "id": "UOEjkkiNq4tw"
    },
    {
      "cell_type": "code",
      "metadata": {
        "tags": [],
        "id": "proud-proxy",
        "colab": {
          "base_uri": "https://localhost:8080/"
        },
        "outputId": "e6aba8da-e4a0-43c6-fe0d-9c4bc5e59c9d"
      },
      "source": [
        "K.clear_session()\n",
        "\n",
        "print(device_lib.list_local_devices())\n",
        "print(\"Num GPUs Available: \", len(tf.config.list_physical_devices('GPU')))\n",
        "# FASHION IS BROKEN !!!!!!!!!!!!!!!!!!!!!!!!!!!!!!!!\n",
        "# see init !!!!!!!!!!!!\n",
        "datasets=[cifar10] # fashion_mnist (28,28,1) 784-256-128-100-10 , cifar10(32, 32, 3)  3072-4000-1000-4000-10\n",
        " \n",
        "dataset_input_shape=[(32, 32, 3)]\n",
        "maxepoches=[100]\n",
        "layer_sizes = [ [4000,1000,4000]]\n",
        "pruning_approachs=[\"SET\"]\n",
        "centrality_metrics = [None]\n",
        "experiment_titles = [\"Model accuracy using SET\"]\n",
        "\n",
        "# run_experiments(datasets, dataset_input_shape,layer_sizes, maxepoches, pruning_approachs ,experiment_titles, centrality_metrics)\n",
        "fit_zeta(100, cifar10, [4000,1000,4000], (32, 32, 3), \"SET\", \"Model accuracy using CenSET\", (0.01, 0.11), 0.01, None)\n",
        "\n",
        "fit_zeta(100, cifar10, [4000,1000,4000], (32, 32, 3), \"CenSET\", \"Model accuracy using SET\", (0.01, 0.11), 0.01,\"laplacian\" )\n"
      ],
      "id": "proud-proxy",
      "execution_count": null,
      "outputs": [
        {
          "output_type": "stream",
          "text": [
            "[name: \"/device:CPU:0\"\n",
            "device_type: \"CPU\"\n",
            "memory_limit: 268435456\n",
            "locality {\n",
            "}\n",
            "incarnation: 13496251871609723258\n",
            ", name: \"/device:GPU:0\"\n",
            "device_type: \"GPU\"\n",
            "memory_limit: 16183459840\n",
            "locality {\n",
            "  bus_id: 1\n",
            "  links {\n",
            "  }\n",
            "}\n",
            "incarnation: 3833970452321912744\n",
            "physical_device_desc: \"device: 0, name: Tesla P100-PCIE-16GB, pci bus id: 0000:00:04.0, compute capability: 6.0\"\n",
            "]\n",
            "Num GPUs Available:  1\n",
            "Init mask weight shape:  (3072, 4000)\n",
            "Create Sparse Matrix: No parameters, NoRows, NoCols  141527.0 3072 4000\n",
            "Init mask weight shape:  (4000, 1000)\n",
            "Create Sparse Matrix: No parameters, NoRows, NoCols  99934.0 4000 1000\n",
            "Init mask weight shape:  (1000, 4000)\n",
            "Create Sparse Matrix: No parameters, NoRows, NoCols  100174.0 1000 4000\n",
            "Total noPars:  341635.0\n",
            "Dataset name:  cifar10\n",
            "Model: \"sequential\"\n",
            "_________________________________________________________________\n",
            "Layer (type)                 Output Shape              Param #   \n",
            "=================================================================\n",
            "flatten (Flatten)            (None, 3072)              0         \n",
            "_________________________________________________________________\n",
            "sparse_1 (Dense)             (None, 4000)              12292000  \n",
            "_________________________________________________________________\n",
            "srelu1 (Activation)          (None, 4000)              0         \n",
            "_________________________________________________________________\n",
            "dropout (Dropout)            (None, 4000)              0         \n",
            "_________________________________________________________________\n",
            "sparse_2 (Dense)             (None, 1000)              4001000   \n",
            "_________________________________________________________________\n",
            "srelu2 (Activation)          (None, 1000)              0         \n",
            "_________________________________________________________________\n",
            "dropout_1 (Dropout)          (None, 1000)              0         \n",
            "_________________________________________________________________\n",
            "sparse_3 (Dense)             (None, 4000)              4004000   \n",
            "_________________________________________________________________\n",
            "srelu3 (Activation)          (None, 4000)              0         \n",
            "_________________________________________________________________\n",
            "dropout_2 (Dropout)          (None, 4000)              0         \n",
            "_________________________________________________________________\n",
            "dense_4 (Dense)              (None, 10)                40010     \n",
            "_________________________________________________________________\n",
            "activation (Activation)      (None, 10)                0         \n",
            "=================================================================\n",
            "Total params: 20,337,010\n",
            "Trainable params: 20,337,010\n",
            "Non-trainable params: 0\n",
            "_________________________________________________________________\n",
            "Enter epoch:  0\n"
          ],
          "name": "stdout"
        },
        {
          "output_type": "stream",
          "text": [
            "/usr/local/lib/python3.7/dist-packages/tensorflow/python/keras/optimizer_v2/optimizer_v2.py:375: UserWarning: The `lr` argument is deprecated, use `learning_rate` instead.\n",
            "  \"The `lr` argument is deprecated, use `learning_rate` instead.\")\n"
          ],
          "name": "stderr"
        },
        {
          "output_type": "stream",
          "text": [
            "316/500 [=================>............] - ETA: 7s - loss: 2.3019 - accuracy: 0.1188"
          ],
          "name": "stdout"
        }
      ]
    },
    {
      "cell_type": "markdown",
      "metadata": {
        "id": "employed-nightmare"
      },
      "source": [
        "\n",
        "\n",
        "### Tickets\n",
        "- Improve access speed on sparse adj matrix in W -> N - test using list of list sparse matrices\n",
        " \n",
        "- Allow for changing of metric\n",
        "- At each epoch in SET record the ranking of centraility\n",
        "- use above to determine a centraility threshold to prune beneth.\n",
        "- Choose better metrics\n",
        "- Create framework to find pruning threshold for a metric\n",
        "- Fix tex saving\n",
        "- Show MLP in comparison charts ?\n",
        "- Track number of connections per epoch\n",
        "- Track number of connections and centraility across network at end of training\n",
        "- Convert between iterations on SET to check conversion methods\n",
        "- Get VPN \n",
        "- Get collab Pro\n",
        "- Set up Collab with github: https://towardsdatascience.com/google-drive-google-colab-github-dont-just-read-do-it-5554d5824228\n",
        "\n",
        "### Broken\n",
        "- FashionMNST is not supported\n",
        "\n",
        "\n",
        "\n",
        "\n"
      ],
      "id": "employed-nightmare"
    },
    {
      "cell_type": "markdown",
      "metadata": {
        "id": "AR5xEkfcEv2Q"
      },
      "source": [
        ""
      ],
      "id": "AR5xEkfcEv2Q"
    },
    {
      "cell_type": "markdown",
      "metadata": {
        "id": "FRxaQhtBq4tx"
      },
      "source": [
        ""
      ],
      "id": "FRxaQhtBq4tx"
    }
  ]
}