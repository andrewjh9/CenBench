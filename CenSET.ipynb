{
 "cells": [
  {
   "cell_type": "raw",
   "id": "cubic-hughes",
   "metadata": {},
   "source": [
    "# Citation"
   ]
  },
  {
   "cell_type": "code",
   "execution_count": 965,
   "metadata": {},
   "outputs": [],
   "source": [
    "#CenSET\n"
   ]
  },
  {
   "cell_type": "code",
   "execution_count": 966,
   "id": "polish-basket",
   "metadata": {
    "tags": []
   },
   "outputs": [],
   "source": [
    "# Author: Decebal Constantin Mocanu et al.;\n",
    "# Proof of concept implementation of Sparse Evolutionary Training (SET) of Multi Layer Perceptron (MLP) on CIFAR10 using Keras and a mask over weights.\n",
    "# This implementation can be used to test SET in varying conditions, using the Keras framework versatility, e.g. various optimizers, activation layers, tensorflow\n",
    "# Also it can be easily adapted for Convolutional Neural Networks or other models which have dense layers\n",
    "# However, due the fact that the weights are stored in the standard Keras format (dense matrices), this implementation can not scale properly.\n",
    "# If you would like to build and SET-MLP with over 100000 neurons, please use the pure Python implementation from the folder \"SET-MLP-Sparse-Python-Data-Structures\"\n",
    "\n",
    "# This is a pre-alpha free software and was tested with Python 3.5.2, Keras 2.1.3, Keras_Contrib 0.0.2, Tensorflow 1.5.0, Numpy 1.14;\n",
    "# The code is distributed in the hope that it may be useful, but WITHOUT ANY WARRANTIES; The use of this software is entirely at the user's own risk;\n",
    "# For an easy understanding of the code functionality please read the following articles.\n",
    "\n",
    "# If you use parts of this code please cite the following articles:\n",
    "#@article{Mocanu2018SET,\n",
    "#  author =        {Mocanu, Decebal Constantin and Mocanu, Elena and Stone, Peter and Nguyen, Phuong H. and Gibescu, Madeleine and Liotta, Antonio},\n",
    "#  journal =       {Nature Communications},\n",
    "#  title =         {Scalable Training of Artificial Neural Networks with Adaptive Sparse Connectivity inspired by Network Science},\n",
    "#  year =          {2018},\n",
    "#  doi =           {10.1038/s41467-018-04316-3}\n",
    "#}\n",
    "\n",
    "#@Article{Mocanu2016XBM,\n",
    "#author=\"Mocanu, Decebal Constantin and Mocanu, Elena and Nguyen, Phuong H. and Gibescu, Madeleine and Liotta, Antonio\",\n",
    "#title=\"A topological insight into restricted Boltzmann machines\",\n",
    "#journal=\"Machine Learning\",\n",
    "#year=\"2016\",\n",
    "#volume=\"104\",\n",
    "#number=\"2\",\n",
    "#pages=\"243--270\",\n",
    "#doi=\"10.1007/s10994-016-5570-z\",\n",
    "#url=\"https://doi.org/10.1007/s10994-016-5570-z\"\n",
    "#}\n",
    "\n",
    "#@phdthesis{Mocanu2017PhDthesis,\n",
    "#title = \"Network computations in artificial intelligence\",\n",
    "#author = \"D.C. Mocanu\",\n",
    "#year = \"2017\",\n",
    "#isbn = \"978-90-386-4305-2\",\n",
    "#publisher = \"Eindhoven University of Technology\",\n",
    "#}\\\\\\\n",
    "\n",
    "# Alterations made by Andrew Heath\n",
    "\n",
    "\n",
    "# Install requirements\n",
    "# !pip3 uninstall tensorflow y\n",
    "# !pip3 install tensorflow --user\n",
    "# # !pip3 install --upgrade tensorflow\n",
    "# !pip3 install graphviz\n",
    "# !pip3 install pydot\n",
    "# !pip3 install keras-visualizer\n",
    "# !pip3 install cmake\n",
    "# !pip3 install cython\n",
    "# !pip3 install networkit\n",
    "# !pip3 install networkx"
   ]
  },
  {
   "source": [
    "# CenBench \n",
    "The a benchmark framework used to perform the expeirment"
   ],
   "cell_type": "markdown",
   "metadata": {}
  },
  {
   "cell_type": "markdown",
   "id": "olive-operation",
   "metadata": {},
   "source": [
    "## Set up"
   ]
  },
  {
   "cell_type": "code",
   "execution_count": 967,
   "id": "rolled-suite",
   "metadata": {},
   "outputs": [],
   "source": [
    "\n",
    "from __future__ import division\n",
    "from __future__ import print_function\n",
    "import tensorflow as tf\n",
    "\n",
    "from tensorflow.keras.preprocessing.image import ImageDataGenerator\n",
    "from tensorflow.keras.models import Sequential\n",
    "from tensorflow.keras.layers import Dense, Dropout, Activation, Flatten\n",
    "from tensorflow.keras import optimizers\n",
    "from tensorflow.python.client import device_lib\n",
    "\n",
    "import numpy as np\n",
    "import pydot\n",
    "from tensorflow.keras import models, layers  \n",
    "from tensorflow.keras import backend as K\n",
    "from tensorflow.keras import layers\n",
    "from tensorflow.keras import activations\n",
    "from tensorflow.keras import utils as k_utils\n",
    "import time\n",
    "\n",
    "from keras_visualizer import visualizer \n",
    "import networkx as nx\n",
    "import networkit as nk\n",
    "from random import sample\n",
    "\n",
    "\n",
    "#Please note that in newer versions of keras_contrib you may encounter some import errors. You can find a fix for it on the Internet, or as an alternative you can try other activations functions.\n",
    "# import tf.keras.activations.relu as SReLU\n",
    "from tensorflow.keras.datasets import cifar10\n",
    "from tensorflow.keras.datasets import fashion_mnist \n",
    "from tensorflow.keras.utils import to_categorical\n",
    "import matplotlib\n",
    "import numpy as np\n",
    "import matplotlib.pyplot as plt\n",
    "import networkx as nx\n",
    "%matplotlib inline  \n",
    "\n",
    "class Constraint(object):\n",
    "\n",
    "    def __call__(self, w):\n",
    "        return w\n",
    "\n",
    "    def get_config(self):\n",
    "        return {}\n",
    "\n",
    "class MaskWeights(Constraint):\n",
    "\n",
    "    def __init__(self, mask):\n",
    "        self.mask = mask\n",
    "        self.mask = K.cast(self.mask, K.floatx())\n",
    "\n",
    "    def __call__(self, w):\n",
    "        w = w.assign(w * self.mask)\n",
    "        return w\n",
    "\n",
    "    def get_config(self):\n",
    "        return {'mask': self.mask}\n",
    "\n",
    "\n",
    "def find_first_pos(array, value):\n",
    "    idx = (np.abs(array - value)).argmin()\n",
    "    return idx\n",
    "\n",
    "\n",
    "def find_last_pos(array, value):\n",
    "    idx = (np.abs(array - value))[::-1].argmin()\n",
    "    return array.shape[0] - idx\n",
    "\n",
    "\n",
    "def createWeightsMask(epsilon,noRows, noCols):\n",
    "    # generate an Erdos Renyi sparse weights mask\n",
    "    mask_weights = np.random.rand(noRows, noCols)\n",
    "    prob = 1 - (epsilon * (noRows + noCols)) / (noRows * noCols)  # normal tp have 8x connections\n",
    "    mask_weights[mask_weights < prob] = 0\n",
    "    mask_weights[mask_weights >= prob] = 1\n",
    "    print(\"Init mask weight shape: \",mask_weights.shape)\n",
    "    noParameters = np.sum(mask_weights)\n",
    "    print (\"Create Sparse Matrix: No parameters, NoRows, NoCols \",noParameters,noRows,noCols)\n",
    "    return [noParameters,mask_weights]"
   ]
  },
  {
   "cell_type": "markdown",
   "id": "supreme-blast",
   "metadata": {},
   "source": [
    "## Init & Parameters"
   ]
  },
  {
   "cell_type": "code",
   "execution_count": 968,
   "id": "otherwise-malpractice",
   "metadata": {},
   "outputs": [],
   "source": [
    "class CenBench_MLP():\n",
    "    def __init__(self, maxepoches, dataset,pruning_approach, batch_size = 100):\n",
    "        # set model parameters\n",
    "        self.epsilon = 20 # control the sparsity level as discussed in the paper\n",
    "        self.zeta = 0.05 # the fraction of the weights removed\n",
    "        self.batch_size = batch_size # batch size\n",
    "        self.maxepoches = maxepoches     # number of epochs\n",
    "        self.learning_rate = 0.01 # SGD learning rate\n",
    "        self.num_classes = 10 # number of classes\n",
    "        self.momentum = 0.9 # SGD momentum\n",
    "        self.dataset = dataset\n",
    "        self.pruning_approach = pruning_approach\n",
    "        # generate an Erdos Renyi sparse weights mask for each layer\n",
    "        [self.noPar1, self.wm1] = createWeightsMask(self.epsilon,32 * 32 *3, 400)\n",
    "        [self.noPar2, self.wm2] = createWeightsMask(self.epsilon,400, 100)\n",
    "        [self.noPar3, self.wm3] = createWeightsMask(self.epsilon,100, 400)\n",
    "\n",
    "        # initialize layers weightsnk\n",
    "        self.w1 = None\n",
    "        self.w2 = None\n",
    "        self.w3 = None\n",
    "        self.w4 = None\n",
    "\n",
    "        # initialize weights for SReLu activation function\n",
    "        self.wSRelu1 = None\n",
    "        self.wSRelu2 = None\n",
    "        self.wSRelu3 = None\n",
    "\n",
    "        # create a SET-MLP model\n",
    "        self.create_model()\n",
    "\n",
    "        # train the SET-MLP model\n",
    "        self.train()"
   ]
  },
  {
   "cell_type": "markdown",
   "id": "assigned-benefit",
   "metadata": {},
   "source": [
    "## Create model"
   ]
  },
  {
   "cell_type": "code",
   "execution_count": 969,
   "id": "magnetic-thanks",
   "metadata": {},
   "outputs": [],
   "source": [
    "class CenBench_MLP(CenBench_MLP):\n",
    "    def create_model(self):\n",
    "\n",
    "        # create a SET-MLP model for CIFAR10 with 3 hidden layers\n",
    "        self.model = Sequential()\n",
    "        #Input layer ---  \n",
    "        self.model.add(Flatten(input_shape=(32, 32, 3)))\n",
    "        \n",
    "        # Hidden layer 1\n",
    "        self.model.add(Dense(400, name=\"sparse_1\",kernel_constraint=MaskWeights(self.wm1),weights=self.w1))\n",
    "        self.model.add(layers.Activation(activations.relu,name=\"srelu1\",weights=self.wSRelu1))\n",
    "        self.model.add(Dropout(0.3))#Helps with overfitting, only present in training\n",
    "        # Hidden layer 2\n",
    "        self.model.add(Dense(100, name=\"sparse_2\",kernel_constraint=MaskWeights(self.wm2),weights=self.w2))\n",
    "        self.model.add(layers.Activation(activations.relu,name=\"srelu2\",weights=self.wSRelu2))\n",
    "        self.model.add(Dropout(0.3))#Helps with overfitting, only present in training\n",
    "        # Hidden layer 3\n",
    "        self.model.add(Dense(400, name=\"sparse_3\",kernel_constraint=MaskWeights(self.wm3),weights=self.w3))\n",
    "        self.model.add(layers.Activation(activations.relu,name=\"srelu3\",weights=self.wSRelu3))\n",
    "        self.model.add(Dropout(0.3)) #Helps with overfitting, only present in training\n",
    "        # Output layer\n",
    "        self.model.add(Dense(self.num_classes, name=\"dense_4\",weights=self.w4)) #please note that there is no need for a sparse output layer as the number of classes is much smaller than the number of input hidden neurons\n",
    "        self.model.add(Activation('softmax'))"
   ]
  },
  {
   "cell_type": "markdown",
   "id": "quality-interaction",
   "metadata": {},
   "source": [
    "## Rewrite Weight Mask SET"
   ]
  },
  {
   "cell_type": "code",
   "execution_count": 970,
   "id": "continuous-failing",
   "metadata": {},
   "outputs": [],
   "source": [
    "class CenBench_MLP(CenBench_MLP):\n",
    "    def rewireMask_SET(self, weights, noWeights):\n",
    "        # rewire weight matrix\n",
    "\n",
    "        # remove zeta largest negative and smallest positive weights\n",
    "        values = np.sort(weights.ravel())\n",
    "        firstZeroPos = find_first_pos(values, 0)\n",
    "        lastZeroPos = find_last_pos(values, 0)\n",
    "        largestNegative = values[int((1-self.zeta) * firstZeroPos)]\n",
    "        smallestPositive = values[int(min(values.shape[0] - 1, lastZeroPos +self.zeta * (values.shape[0] - lastZeroPos)))]\n",
    "        rewiredWeights = weights.copy();\n",
    "        rewiredWeights[rewiredWeights > smallestPositive] = 1;\n",
    "        rewiredWeights[rewiredWeights < largestNegative] = 1;\n",
    "        rewiredWeights[rewiredWeights != 1] = 0;\n",
    "        weightMaskCore = rewiredWeights.copy()  \n",
    "\n",
    "        # add zeta random weights\n",
    "        nrAdd = 0\n",
    "        noRewires = noWeights - np.sum(rewiredWeights)\n",
    "        while (nrAdd < noRewires):\n",
    "            i = np.random.randint(0, rewiredWeights.shape[0])\n",
    "            j = np.random.randint(0, rewiredWeights.shape[1])\n",
    "            if (rewiredWeights[i, j] == 0):\n",
    "                rewiredWeights[i, j] = 1\n",
    "                nrAdd += 1\n",
    "\n",
    "        return [rewiredWeights, weightMaskCore]\n"
   ]
  },
  {
   "source": [
    "## Rewrite weight mask CenSET"
   ],
   "cell_type": "markdown",
   "metadata": {}
  },
  {
   "cell_type": "code",
   "execution_count": 971,
   "metadata": {},
   "outputs": [],
   "source": [
    "class CenBench_MLP(CenBench_MLP):\n",
    "    def rewireMask_CenSET(self, layer_weights, noWeights):\n",
    "        # # Find nodes and therefore weights to be removed\n",
    "        # print(\"Original weights shape:\", np.matrix(layer_weights).shape)\n",
    "        # print(\"Sum original weights: \", a.sum())\n",
    "        # nkG = generate_NN_network([3072, 400, 100, 400], layer_weights)  \n",
    "        # print(\"OG network overview\")\n",
    "        # nk.overview(nkG)\n",
    "        # rewiredWeights = generate_weights_matrix_from_network([3072, 400, 100, 400], nkG, layer_weights, [])\n",
    "        # print(\"Generated weights shape:\", np.matrix(rewiredWeights).shape)\n",
    "        # nkA = generate_NN_network([3072, 400, 100, 400], rewiredWeights)  \n",
    "        # print(\"New network overview: \")\n",
    "        # nk.overview(nkA)\n",
    "\n",
    "        print(\"Testing: \", testing_conversion(layer_weights))\n",
    "        \n",
    "        \n",
    "        # print(\"Conversion worked:  \",nx.algorithms.isomorphism.is_isomorphic(nk.nxadapter.nk2nx(nkG),nk.nxadapter.nk2nx(nkA)))\n",
    "\n",
    "        return [], []\n",
    "        #  NN before pruning\n",
    "        print(\"Network before pruning\")\n",
    "        nk.overview(nkG)\n",
    "        nodes_to_remove_with_score = find_nodes_lowest_centraility(nkG, int((self.zeta) * 3972))\n",
    "        nodes_to_remove = [i[0] for i in nodes_to_remove_with_score]\n",
    "        # print(\"Nodes to be removed: \", nodes_to_remove)\n",
    "   \n",
    "        rewiredWeights = generate_weights_matrix_from_network([3072, 400, 100, 400], nkG, layer_weights, nodes_to_remove)\n",
    "        # print(\"Shape of weights returned from NN->Weight list: \", rewiredWeights.shape)\n",
    "        weightMaskCore = rewiredWeights.copy()\n",
    "        print(\"Network After pruning\")\n",
    "        nk.overview(nkG)\n",
    "        # Add new random weights\n",
    "        # add zeta random weights\n",
    "        # for layer_i, layer in enumerate(rewiredWeights):\n",
    "        #     nrAdd = 0\n",
    "        #     noRewires = noWeights[layer_i] - np.sum(layer)\n",
    "        #     while (nrAdd < noRewires):\n",
    "        #         i = np.random.randint(0, layer.shape[0])\n",
    "        #         j = np.random.randint(0, layer.shape[1])\n",
    "        #         if (layer[i, j] == 0):\n",
    "        #             layer[i, j] = 1\n",
    "        #             nrAdd += 1\n",
    "\n",
    "        return rewiredWeights, weightMaskCore"
   ]
  },
  {
   "source": [
    "## Testing conversion"
   ],
   "cell_type": "markdown",
   "metadata": {}
  },
  {
   "cell_type": "code",
   "execution_count": 972,
   "metadata": {},
   "outputs": [],
   "source": [
    "def testing_conversion(layer_weights):\n",
    "    graphs = []\n",
    "    for i in range(0,10):\n",
    "        nkG = generate_NN_network([3072, 400, 100, 400], layer_weights)  \n",
    "        layer_weights = generate_weights_matrix_from_network([3072, 400, 100, 400], nkG, layer_weights, [])\n",
    "        graphs.append(nkG)\n",
    "    print(\"finished with building set\")\n",
    "    i = 1\n",
    "    for first, second in zip(graphs, graphs[1:]):\n",
    "        print(\"Comparion: \", i)\n",
    "        if not (nx.algorithms.isomorphism.is_isomorphic(nk.nxadapter.nk2nx(first),nk.nxadapter.nk2nx(second))):\n",
    "            print(\"ISO failed\")\n",
    "            return False\n",
    "        elif not (nk.nxadapter.nk2nx(first).number_of_edges() == nk.nxadapter.nk2nx(second).number_of_edges()):\n",
    "            print(\"Edge number changes\")\n",
    "            return False\n",
    "        i = i + 1\n",
    "    return True\n"
   ]
  },
  {
   "cell_type": "markdown",
   "id": "organized-partition",
   "metadata": {},
   "source": [
    "## Find Centrailities "
   ]
  },
  {
   "cell_type": "code",
   "execution_count": 973,
   "id": "express-visitor",
   "metadata": {},
   "outputs": [],
   "source": [
    "class CenBench_MLP(CenBench_MLP):\n",
    "    def visualise(self):\n",
    "        visualizer(self.model, view=True)\n"
   ]
  },
  {
   "cell_type": "markdown",
   "id": "excellent-prerequisite",
   "metadata": {},
   "source": [
    "## Weight evolution"
   ]
  },
  {
   "cell_type": "code",
   "execution_count": 974,
   "id": "broadband-polls",
   "metadata": {},
   "outputs": [],
   "source": [
    "class CenBench_MLP(CenBench_MLP):\n",
    "    def weightsEvolution(self):\n",
    "        # this represents the core of the CenSET procedure. It removes the weights closest to zero in each layer and add new random weights\n",
    "        # The mask shows which nodes have been removed \n",
    "        # The weights shows the  \n",
    "        self.w1 = self.model.get_layer(\"sparse_1\").get_weights()\n",
    "        self.w2 = self.model.get_layer(\"sparse_2\").get_weights()\n",
    "        self.w3 = self.model.get_layer(\"sparse_3\").get_weights()\n",
    "        self.w4 = self.model.get_layer(\"dense_4\").get_weights()\n",
    "\n",
    "        self.wSRelu1 = self.model.get_layer(\"srelu1\").get_weights()\n",
    "        self.wSRelu2 = self.model.get_layer(\"srelu2\").get_weights()\n",
    "        self.wSRelu3 = self.model.get_layer(\"srelu3\").get_weights()\n",
    "\n",
    "        if(self.pruning_approach == \"SET\"):\n",
    "            [self.wm1, self.wm1Core] = self.rewireMask_SET(self.w1[0], self.noPar1)\n",
    "            [self.wm2, self.wm2Core] = self.rewireMask_SET(self.w2[0], self.noPar2)\n",
    "            [self.wm3, self.wm3Core] = self.rewireMask_SET(self.w3[0], self.noPar3)\n",
    "\n",
    "        elif(self.pruning_approach == \"CenSET\"):    \n",
    "            # print(\"Shape of weights mask 1: \", self.wm1.shape)   \n",
    "            # print(\"Layer 1 weight mask: \",self.wm1)\n",
    "            # print(\"Size of weights 1: \", len(self.w1[0]))   \n",
    "            # print(\"Shape of weights 1: \", np.matrix(self.w1[0]).shape) \n",
    "\n",
    "            # A matrix that contains whether an edge exists and also contains it's respective weight\n",
    "            weighted_layer_mask1 = self.w1[0] * self.wm1\n",
    "            weighted_layer_mask2 = self.w2[0] * self.wm2\n",
    "            weighted_layer_mask3 = self.w3[0] * self.wm3\n",
    "            # print(\"Shape weight layer mask 1: \", weighted_layer_mask1.shape)\n",
    "            # print(\"Shape weight layer mask 2: \", weighted_layer_mask2.shape)\n",
    "            # print(\"Shape weight layer mask 3: \", weighted_layer_mask3.shape)\n",
    "\n",
    "\n",
    "            [self.wm1, self.wm2, self.wm3], [self.wm1Core, self.wm2Core, self.wm3Core] = self.rewireMask_CenSET([weighted_layer_mask1, weighted_layer_mask2,weighted_layer_mask3],[self.noPar1, self.noPar2, self.noPar3])\n",
    "\n",
    "\n",
    "        else:\n",
    "            raise ValueError(\"Unsupported pruning approach:\"+self.pruning_approach)\n",
    "        \n",
    "        self.w1[0] = self.w1[0] * self.wm1Core\n",
    "        self.w2[0] = self.w2[0] * self.wm2Core\n",
    "        self.w3[0] = self.w3[0] * self.wm3Core\n",
    "\n",
    "        \n"
   ]
  },
  {
   "cell_type": "markdown",
   "id": "sealed-bracket",
   "metadata": {},
   "source": [
    "## Read dataset"
   ]
  },
  {
   "cell_type": "code",
   "execution_count": 975,
   "id": "nearby-capacity",
   "metadata": {},
   "outputs": [],
   "source": [
    "class CenBench_MLP(CenBench_MLP):\n",
    "    def read_data(self):\n",
    "\n",
    "        #read CIFAR10 data\n",
    "        (x_train, y_train), (x_test, y_test) = self.dataset.load_data()\n",
    "        y_train = to_categorical(y_train, self.num_classes)\n",
    "        y_test = to_categorical(y_test, self.num_classes)\n",
    "        x_train = x_train.astype('float32')\n",
    "        x_test = x_test.astype('float32')\n",
    "\n",
    "        #normalize data\n",
    "        xTrainMean = np.mean(x_train, axis=0)\n",
    "        xTtrainStd = np.std(x_train, axis=0)\n",
    "        x_train = (x_train - xTrainMean) / xTtrainStd\n",
    "        x_test = (x_test - xTrainMean) / xTtrainStd\n",
    "\n",
    "        return [x_train, x_test, y_train, y_test]"
   ]
  },
  {
   "cell_type": "markdown",
   "id": "solid-surprise",
   "metadata": {},
   "source": [
    "## Training\n"
   ]
  },
  {
   "cell_type": "code",
   "execution_count": 976,
   "id": "sufficient-movement",
   "metadata": {},
   "outputs": [],
   "source": [
    "class CenBench_MLP(CenBench_MLP):\n",
    "    def train(self):\n",
    "\n",
    "            # read CIFAR10 data\n",
    "            [x_train,x_test,y_train,y_test]=self.read_data()\n",
    "\n",
    "            #data augmentation\n",
    "            datagen = ImageDataGenerator(\n",
    "                featurewise_center=False,  # set input mean to 0 over the dataset\n",
    "                samplewise_center=False,  # set each sample mean to 0\n",
    "                featurewise_std_normalization=False,  # divide inputs by std of the dataset\n",
    "                samplewise_std_normalization=False,  # divide each input by its std\n",
    "                zca_whitening=False,  # apply ZCA whitening\n",
    "                rotation_range=10,  # randomly rotate images in the range (degrees, 0 to 180)\n",
    "                width_shift_range=0.1,  # randomly shift images horizontally (fraction of total width)\n",
    "                height_shift_range=0.1,  # randomly shift images vertically (fraction of total height)\n",
    "                horizontal_flip=True,  # randomly flip images\n",
    "                vertical_flip=False)  # randomly flip images\n",
    "            datagen.fit(x_train)\n",
    "\n",
    "            self.model.summary()\n",
    "\n",
    "            # training process in a for loop\n",
    "            self.accuracies_per_epoch=[]\n",
    "            for epoch in range(0, self.maxepoches):\n",
    "                sgd = optimizers.SGD(lr=self.learning_rate, momentum=self.momentum)\n",
    "                self.model.compile(loss='categorical_crossentropy', optimizer=sgd, metrics=['accuracy'])\n",
    "\n",
    "                history = self.model.fit(datagen.flow(x_train, y_train,\n",
    "                                                 batch_size=self.batch_size),\n",
    "                                steps_per_epoch=x_train.shape[0]//self.batch_size,\n",
    "                                    epochs=epoch,\n",
    "                                    validation_data=(x_test, y_test),\n",
    "                                     initial_epoch=epoch-1)\n",
    "      \n",
    "                self.accuracies_per_epoch.append(history.history['val_accuracy'][0])\n",
    "\n",
    "                #ugly hack to avoid tensorflow memory increase for multiple fit_generator calls. Theano shall work more nicely this but it is outdated in general\n",
    "\n",
    "                # Toggle between weight evolution type, SET, CenSET or AccSet\n",
    "                # If CenSET is selected the metric being used should be passed as a parameter\n",
    "                # Also the pruning threshold should also be passed\n",
    "                self.weightsEvolution()\n",
    "                K.clear_session()\n",
    "                self.create_model()\n",
    " \n",
    "\n",
    "            return self.accuracies_per_epoch\n",
    "           \n"
   ]
  },
  {
   "cell_type": "markdown",
   "id": "thrown-paragraph",
   "metadata": {},
   "source": [
    "## Generate Network from From weight array"
   ]
  },
  {
   "cell_type": "code",
   "execution_count": 977,
   "id": "dense-transcript",
   "metadata": {},
   "outputs": [],
   "source": [
    "# TODO change this to only use networkit\n",
    "# TODO change this to use the fully weight mask matrix and generate the \n",
    "def generate_NN_network(layers, layer_weights):\n",
    "    # TODO use list compherension\n",
    "    n_nodes = sum(layers)\n",
    "    adj_matrix = [[0 for x in range(n_nodes)] for y in range(n_nodes)]\n",
    "    # rows = adj_matrix.shape[0]\n",
    "    # columns = adj_matrix.shape[1]\n",
    "    # print(\"adj matrix size weight -> net: \"+str(rows) +\"x\"+str(columns))\n",
    "    for layer_i, layer in enumerate(layers):    \n",
    "        if layer_i == len(layers) - 1 :\n",
    "            break\n",
    "        previous_current_layers_size =  sum(layers[0 : layer_i])\n",
    "        current_layer_offset = 0 if layer_i == 0 else sum(layers[0 : layer_i])\n",
    "        for current_layer_node in range(current_layer_offset, current_layer_offset + layer):\n",
    "            next_layer_offset = current_layer_offset + layer\n",
    "            for next_layer_node in range(next_layer_offset, next_layer_offset + layers[layer_i + 1]):\n",
    "                weight =  layer_weights[layer_i][current_layer_node - previous_current_layers_size, next_layer_node - next_layer_offset]\n",
    "                adj_matrix[current_layer_node][next_layer_node] = weight \n",
    "    # print(\"layer add: \",layer_i)\n",
    "    # adj_matrix = np.matrix(adj_matrix)\n",
    "    # print(\"gen NN adj matrix sample\", adj_matrix[100:200][100:200])\n",
    "    # print(\"Shape of created adj matrix: \", len(adj_matrix[0]),\" \",len(adj_matrix))\n",
    "    G = nx.from_numpy_matrix(np.asmatrix(adj_matrix), create_using=nx.DiGraph)\n",
    "    # print(\"gen number edges: \", G.number_of_edges())\n",
    "    return  nk.nxadapter.nx2nk(G, weightAttr=\"weight\")\n"
   ]
  },
  {
   "source": [
    "## Generate Weight Arrays from Network"
   ],
   "cell_type": "markdown",
   "metadata": {}
  },
  {
   "cell_type": "code",
   "execution_count": 978,
   "metadata": {},
   "outputs": [],
   "source": [
    "\n",
    "# TODO If nodes to remove contains the index of the value being added to the weight layers it should not be added.\n",
    "# TODO Refactor to be in relation to the adj matrix\n",
    "def generate_weights_matrix_from_network(layers, network, layer_weights, nodes_to_remove):\n",
    "    # print(\"Pruning in progress\")\n",
    "    nodes_added = 0\n",
    "    nodes_removed = 0\n",
    "    removed_nodes = []\n",
    "    n_nodes = sum(layers)\n",
    "    adj_matrix = nk.algebraic.adjacencyMatrix(network)\n",
    "    rows = adj_matrix.shape[0]\n",
    "    columns = adj_matrix.shape[1]\n",
    "    for layer_i, layer in enumerate(layers):    \n",
    "        if layer_i == len(layers) - 1 :\n",
    "            break\n",
    "        previous_current_layers_size =  sum(layers[0 : layer_i])\n",
    "        current_layer_offset = 0 if layer_i == 0 else sum(layers[0 : layer_i])\n",
    "        for current_layer_node in range(current_layer_offset, current_layer_offset + layer):\n",
    "            next_layer_offset = current_layer_offset + layer\n",
    "            for next_layer_node in range(next_layer_offset, next_layer_offset + layers[layer_i + 1]):\n",
    "                if not((current_layer_node in nodes_to_remove) or (next_layer_node in nodes_to_remove)):\n",
    "                    weight = adj_matrix[current_layer_node, next_layer_node]\n",
    "                    layer_weights[layer_i][current_layer_node - previous_current_layers_size, next_layer_node - next_layer_offset]\n",
    "                    nodes_added = nodes_added + 1\n",
    "\n",
    "             # Purely for debugging purposes\n",
    "                else:\n",
    "                    nodes_removed = nodes_removed + 1\n",
    "                    if (current_layer_node in nodes_to_remove):\n",
    "                        removed_nodes.append(current_layer_node)\n",
    "                    elif (next_layer_node in nodes_to_remove):\n",
    "                         removed_nodes.append(next_layer_node)\n",
    "    #     print(\"layer add: \",layer_i)\n",
    "    # print(\"# Nodes Added: \", nodes_added)\n",
    "    # print(\"# Nodes Removed: \", nodes_removed)\n",
    "    # print(\"Removed Nodes: \", list(set(removed_nodes)))\n",
    "    # print(\"Shape of network: \",np.asmatrix(layer_weights).shape)\n",
    "    return layer_weights"
   ]
  },
  {
   "cell_type": "markdown",
   "id": "aggregate-pressing",
   "metadata": {},
   "source": [
    "# Find nodes with lowest centraility"
   ]
  },
  {
   "cell_type": "code",
   "execution_count": 979,
   "id": "based-shore",
   "metadata": {},
   "outputs": [],
   "source": [
    "def find_nodes_lowest_centraility(G, number_of_nodes):\n",
    "    btwn = nk.centrality.LaplacianCentrality(G, normalized=True)\n",
    "    btwn.run()\n",
    "    return btwn.ranking()[-number_of_nodes:]"
   ]
  },
  {
   "source": [
    "# Plot accuracy"
   ],
   "cell_type": "markdown",
   "metadata": {}
  },
  {
   "cell_type": "code",
   "execution_count": 980,
   "metadata": {},
   "outputs": [],
   "source": [
    "def plot_accuracy(title, results_accu, dataset_name):\n",
    "    plt.plot(results_accu)\n",
    "    plt.title(title+\"on \"+dataset_name+\" dataset\")\n",
    "    plt.ylabel('accuracy')\n",
    "    plt.xlabel('epoch')\n",
    "    plt.savefig((\"plots/\"+\"set_accuracy_\"+dataset_name+\"_\"+time.strftime(\"%Y%m%d-%H%M%S\")+\".png\"))\n",
    "    plt.show()\n"
   ]
  },
  {
   "source": [
    "# Run experiments\n",
    "A method for running multiple experiments"
   ],
   "cell_type": "markdown",
   "metadata": {}
  },
  {
   "cell_type": "code",
   "execution_count": 981,
   "metadata": {},
   "outputs": [],
   "source": [
    "def run_experiments(datasets,maxepoches,pruning_approachs,experiment_titles):\n",
    "    if  len(datasets) == len(maxepoches) == len(pruning_approachs) == len(experiment_titles):\n",
    "        for experiment_i, experiment_title in enumerate(experiment_titles):\n",
    "            dataset_name = datasets[experiment_i]. __name__.split(\".\")[3]\n",
    "            print(\"------------START of experiment '\"+experiment_title+\"' for dataset: \"+dataset_name+\"------------\")\n",
    "            smlp = CenBench_MLP(maxepoches=maxepoches[experiment_i], dataset=datasets[experiment_i], pruning_approach=pruning_approachs[experiment_i],)# Batch size set to 1 for debugging\n",
    "            plot_accuracy(experiment_title, smlp.train(), dataset_name )\n",
    "            print(\"------------END of experiment '\"+experiment_title+\"' for dataset: \"+dataset_name+\"------------\")\n",
    "    else:\n",
    "        raise ValueError(\"Incorrect experiment setup\")"
   ]
  },
  {
   "source": [
    "# Configure Experiments - Start Experiments\n",
    "Configure the Experiments and run them"
   ],
   "cell_type": "markdown",
   "metadata": {}
  },
  {
   "cell_type": "code",
   "execution_count": 982,
   "id": "proud-proxy",
   "metadata": {
    "tags": []
   },
   "outputs": [],
   "source": [
    "K.clear_session()\n",
    "\n",
    "print(device_lib.list_local_devices())\n",
    "print(\"Num GPUs Available: \", len(tf.config.list_physical_devices('GPU')))\n",
    "\n",
    "# Each index i represents an expeirment\n",
    "datasets=[cifar10] # fashion_mnist, cifar10 -- only supports cifar10 atm\n",
    "maxepoches=[10]\n",
    "pruning_approachs=[\"CenSET\",]\n",
    "experiment_titles = [\"Model accuracy using CenSET\",]\n",
    "run_experiments(datasets,maxepoches,pruning_approachs,experiment_titles)\n",
    "\n"
   ]
  },
  {
   "cell_type": "markdown",
   "id": "employed-nightmare",
   "metadata": {},
   "source": [
    "### TODO \n",
    "\n",
    "- Create adj from weighted-mask, create union graph using networkx. \n",
    "- See visually if the graph is correctly unioned\n",
    "- Check adjency matrix to see if correctly unioned \n",
    "- Test\n",
    "\n",
    "Bigger TODOS\n",
    "- Ideally find a way to go between the weights / layers / mask and the adj matrix using matrix operations.\n",
    "- Correctly create neural network from weighted mask, \n",
    "\n",
    "\n"
   ]
  },
  {
   "source": [],
   "cell_type": "markdown",
   "metadata": {}
  }
 ],
 "metadata": {
  "kernelspec": {
   "name": "pypy3",
   "display_name": "PyPy3",
   "language": "python"
  },
  "language_info": {
   "codemirror_mode": {
    "name": "ipython",
    "version": 3
   },
   "file_extension": ".py",
   "mimetype": "text/x-python",
   "name": "python",
   "nbconvert_exporter": "python",
   "pygments_lexer": "ipython3",
   "version": "3.6.9"
  },
  "metadata": {
   "interpreter": {
    "hash": "31f2aee4e71d21fbe5cf8b01ff0e069b9275f58929596ceb00d14d90e3e16cd6"
   }
  }
 },
 "nbformat": 4,
 "nbformat_minor": 5
}