{
 "cells": [
  {
   "cell_type": "raw",
   "id": "cubic-hughes",
   "metadata": {},
   "source": [
    "# Citation"
   ]
  },
  {
   "cell_type": "code",
   "execution_count": 1,
   "metadata": {},
   "outputs": [],
   "source": [
    "#CenSET\n"
   ]
  },
  {
   "cell_type": "code",
   "execution_count": 2,
   "id": "polish-basket",
   "metadata": {
    "tags": []
   },
   "outputs": [],
   "source": [
    "# Author: Decebal Constantin Mocanu et al.;\n",
    "# Proof of concept implementation of Sparse Evolutionary Training (SET) of Multi Layer Perceptron (MLP) on CIFAR10 using Keras and a mask over weights.\n",
    "# This implementation can be used to test SET in varying conditions, using the Keras framework versatility, e.g. various optimizers, activation layers, tensorflow\n",
    "# Also it can be easily adapted for Convolutional Neural Networks or other models which have dense layers\n",
    "# However, due the fact that the weights are stored in the standard Keras format (dense matrices), this implementation can not scale properly.\n",
    "# If you would like to build and SET-MLP with over 100000 neurons, please use the pure Python implementation from the folder \"SET-MLP-Sparse-Python-Data-Structures\"\n",
    "\n",
    "# This is a pre-alpha free software and was tested with Python 3.5.2, Keras 2.1.3, Keras_Contrib 0.0.2, Tensorflow 1.5.0, Numpy 1.14;\n",
    "# The code is distributed in the hope that it may be useful, but WITHOUT ANY WARRANTIES; The use of this software is entirely at the user's own risk;\n",
    "# For an easy understanding of the code functionality please read the following articles.\n",
    "\n",
    "# If you use parts of this code please cite the following articles:\n",
    "#@article{Mocanu2018SET,\n",
    "#  author =        {Mocanu, Decebal Constantin and Mocanu, Elena and Stone, Peter and Nguyen, Phuong H. and Gibescu, Madeleine and Liotta, Antonio},\n",
    "#  journal =       {Nature Communications},\n",
    "#  title =         {Scalable Training of Artificial Neural Networks with Adaptive Sparse Connectivity inspired by Network Science},\n",
    "#  year =          {2018},\n",
    "#  doi =           {10.1038/s41467-018-04316-3}\n",
    "#}\n",
    "\n",
    "#@Article{Mocanu2016XBM,\n",
    "#author=\"Mocanu, Decebal Constantin and Mocanu, Elena and Nguyen, Phuong H. and Gibescu, Madeleine and Liotta, Antonio\",\n",
    "#title=\"A topological insight into restricted Boltzmann machines\",\n",
    "#journal=\"Machine Learning\",\n",
    "#year=\"2016\",\n",
    "#volume=\"104\",\n",
    "#number=\"2\",\n",
    "#pages=\"243--270\",\n",
    "#doi=\"10.1007/s10994-016-5570-z\",\n",
    "#url=\"https://doi.org/10.1007/s10994-016-5570-z\"\n",
    "#}\n",
    "\n",
    "#@phdthesis{Mocanu2017PhDthesis,\n",
    "#title = \"Network computations in artificial intelligence\",\n",
    "#author = \"D.C. Mocanu\",\n",
    "#year = \"2017\",\n",
    "#isbn = \"978-90-386-4305-2\",\n",
    "#publisher = \"Eindhoven University of Technology\",\n",
    "#}\\\\\\\n",
    "\n",
    "# Alterations made by Andrew Heath\n",
    "\n",
    "\n",
    "# Install requirements\n",
    "# !pip3 uninstall tensorflow y\n",
    "# !pip3 install tensorflow --user\n",
    "# # !pip3 install --upgrade tensorflow\n",
    "# !pip3 install graphviz\n",
    "# !pip3 install pydot\n",
    "# !pip3 install keras-visualizer\n",
    "# !pip3 install cmake\n",
    "# !pip3 install cython\n",
    "# !pip3 install networkit\n",
    "# !pip3 install networkx"
   ]
  },
  {
   "source": [
    "# CenBench \n",
    "The a benchmark framework used to perform the expeirment"
   ],
   "cell_type": "markdown",
   "metadata": {}
  },
  {
   "cell_type": "markdown",
   "id": "olive-operation",
   "metadata": {},
   "source": [
    "## Set up"
   ]
  },
  {
   "cell_type": "code",
   "execution_count": 3,
   "id": "rolled-suite",
   "metadata": {},
   "outputs": [
    {
     "output_type": "display_data",
     "data": {
      "text/html": "\n\t\t\t<script type=\"text/javascript\">\n\t\t\t<!--\n\t\t\t\t\n\t\t\t{\n\t\t\t\tvar element = document.getElementById('NetworKit_script');\n\t\t\t\tif (element) {\n\t\t\t\t\telement.parentNode.removeChild(element);\n\t\t\t\t}\n\t\t\t\telement = document.createElement('script');\n\t\t\t\telement.type = 'text/javascript';\n\t\t\t\telement.innerHTML = 'function NetworKit_pageEmbed(id) { var i, j; var elements; elements = document.getElementById(id).getElementsByClassName(\"Plot\"); for (i=0; i<elements.length; i++) { elements[i].id = id + \"_Plot_\" + i; var data = elements[i].getAttribute(\"data-image\").split(\"|\"); elements[i].removeAttribute(\"data-image\"); var content = \"<div class=\\\\\"Image\\\\\" id=\\\\\"\" + elements[i].id + \"_Image\\\\\" />\"; elements[i].innerHTML = content; elements[i].setAttribute(\"data-image-index\", 0); elements[i].setAttribute(\"data-image-length\", data.length); for (j=0; j<data.length; j++) { elements[i].setAttribute(\"data-image-\" + j, data[j]); } NetworKit_plotUpdate(elements[i]); elements[i].onclick = function (e) { NetworKit_overlayShow((e.target) ? e.target : e.srcElement); } } elements = document.getElementById(id).getElementsByClassName(\"HeatCell\"); for (i=0; i<elements.length; i++) { var data = parseFloat(elements[i].getAttribute(\"data-heat\")); var color = \"#00FF00\"; if (data <= 1 && data > 0) { color = \"hsla(0, 100%, 75%, \" + (data) + \")\"; } else if (data <= 0 && data >= -1) { color = \"hsla(240, 100%, 75%, \" + (-data) + \")\"; } elements[i].style.backgroundColor = color; } elements = document.getElementById(id).getElementsByClassName(\"Details\"); for (i=0; i<elements.length; i++) { elements[i].setAttribute(\"data-title\", \"-\"); NetworKit_toggleDetails(elements[i]); elements[i].onclick = function (e) { NetworKit_toggleDetails((e.target) ? e.target : e.srcElement); } } elements = document.getElementById(id).getElementsByClassName(\"MathValue\"); for (i=elements.length-1; i>=0; i--) { value = elements[i].innerHTML.trim(); if (value === \"nan\") { elements[i].parentNode.innerHTML = \"\" } } elements = document.getElementById(id).getElementsByClassName(\"SubCategory\"); for (i=elements.length-1; i>=0; i--) { value = elements[i].innerHTML.trim(); if (value === \"\") { elements[i].parentNode.removeChild(elements[i]) } } elements = document.getElementById(id).getElementsByClassName(\"Category\"); for (i=elements.length-1; i>=0; i--) { value = elements[i].innerHTML.trim(); if (value === \"\") { elements[i].parentNode.removeChild(elements[i]) } } var isFirefox = false; try { isFirefox = typeof InstallTrigger !== \"undefined\"; } catch (e) {} if (!isFirefox) { alert(\"Currently the function\\'s output is only fully supported by Firefox.\"); } } function NetworKit_plotUpdate(source) { var index = source.getAttribute(\"data-image-index\"); var data = source.getAttribute(\"data-image-\" + index); var image = document.getElementById(source.id + \"_Image\"); image.style.backgroundImage = \"url(\" + data + \")\"; } function NetworKit_showElement(id, show) { var element = document.getElementById(id); element.style.display = (show) ? \"block\" : \"none\"; } function NetworKit_overlayShow(source) { NetworKit_overlayUpdate(source); NetworKit_showElement(\"NetworKit_Overlay\", true); } function NetworKit_overlayUpdate(source) { document.getElementById(\"NetworKit_Overlay_Title\").innerHTML = source.title; var index = source.getAttribute(\"data-image-index\"); var data = source.getAttribute(\"data-image-\" + index); var image = document.getElementById(\"NetworKit_Overlay_Image\"); image.setAttribute(\"data-id\", source.id); image.style.backgroundImage = \"url(\" + data + \")\"; var link = document.getElementById(\"NetworKit_Overlay_Toolbar_Bottom_Save\"); link.href = data; link.download = source.title + \".svg\"; } function NetworKit_overlayImageShift(delta) { var image = document.getElementById(\"NetworKit_Overlay_Image\"); var source = document.getElementById(image.getAttribute(\"data-id\")); var index = parseInt(source.getAttribute(\"data-image-index\")); var length = parseInt(source.getAttribute(\"data-image-length\")); var index = (index+delta) % length; if (index < 0) { index = length + index; } source.setAttribute(\"data-image-index\", index); NetworKit_overlayUpdate(source); } function NetworKit_toggleDetails(source) { var childs = source.children; var show = false; if (source.getAttribute(\"data-title\") == \"-\") { source.setAttribute(\"data-title\", \"+\"); show = false; } else { source.setAttribute(\"data-title\", \"-\"); show = true; } for (i=0; i<childs.length; i++) { if (show) { childs[i].style.display = \"block\"; } else { childs[i].style.display = \"none\"; } } }';\n\t\t\t\telement.setAttribute('id', 'NetworKit_script');\n\t\t\t\tdocument.head.appendChild(element);\n\t\t\t}\n\t\t\n\t\t\t\t\n\t\t\t{\n\t\t\t\tvar element = document.getElementById('NetworKit_style');\n\t\t\t\tif (element) {\n\t\t\t\t\telement.parentNode.removeChild(element);\n\t\t\t\t}\n\t\t\t\telement = document.createElement('style');\n\t\t\t\telement.type = 'text/css';\n\t\t\t\telement.innerHTML = '.NetworKit_Page { font-family: Arial, Helvetica, sans-serif; font-size: 14px; } .NetworKit_Page .Value:before { font-family: Arial, Helvetica, sans-serif; font-size: 1.05em; content: attr(data-title) \":\"; margin-left: -2.5em; padding-right: 0.5em; } .NetworKit_Page .Details .Value:before { display: block; } .NetworKit_Page .Value { font-family: monospace; white-space: pre; padding-left: 2.5em; white-space: -moz-pre-wrap !important; white-space: -pre-wrap; white-space: -o-pre-wrap; white-space: pre-wrap; word-wrap: break-word; tab-size: 4; -moz-tab-size: 4; } .NetworKit_Page .Category { clear: both; padding-left: 1em; margin-bottom: 1.5em; } .NetworKit_Page .Category:before { content: attr(data-title); font-size: 1.75em; display: block; margin-left: -0.8em; margin-bottom: 0.5em; } .NetworKit_Page .SubCategory { margin-bottom: 1.5em; padding-left: 1em; } .NetworKit_Page .SubCategory:before { font-size: 1.6em; display: block; margin-left: -0.8em; margin-bottom: 0.5em; } .NetworKit_Page .SubCategory[data-title]:before { content: attr(data-title); } .NetworKit_Page .Block { display: block; } .NetworKit_Page .Block:after { content: \".\"; visibility: hidden; display: block; height: 0; clear: both; } .NetworKit_Page .Block .Thumbnail_Overview, .NetworKit_Page .Block .Thumbnail_ScatterPlot { width: 260px; float: left; } .NetworKit_Page .Block .Thumbnail_Overview img, .NetworKit_Page .Block .Thumbnail_ScatterPlot img { width: 260px; } .NetworKit_Page .Block .Thumbnail_Overview:before, .NetworKit_Page .Block .Thumbnail_ScatterPlot:before { display: block; text-align: center; font-weight: bold; } .NetworKit_Page .Block .Thumbnail_Overview:before { content: attr(data-title); } .NetworKit_Page .HeatCell { font-family: \"Courier New\", Courier, monospace; cursor: pointer; } .NetworKit_Page .HeatCell, .NetworKit_Page .HeatCellName { display: inline; padding: 0.1em; margin-right: 2px; background-color: #FFFFFF } .NetworKit_Page .HeatCellName { margin-left: 0.25em; } .NetworKit_Page .HeatCell:before { content: attr(data-heat); display: inline-block; color: #000000; width: 4em; text-align: center; } .NetworKit_Page .Measure { clear: both; } .NetworKit_Page .Measure .Details { cursor: pointer; } .NetworKit_Page .Measure .Details:before { content: \"[\" attr(data-title) \"]\"; display: block; } .NetworKit_Page .Measure .Details .Value { border-left: 1px dotted black; margin-left: 0.4em; padding-left: 3.5em; pointer-events: none; } .NetworKit_Page .Measure .Details .Spacer:before { content: \".\"; opacity: 0.0; pointer-events: none; } .NetworKit_Page .Measure .Plot { width: 440px; height: 440px; cursor: pointer; float: left; margin-left: -0.9em; margin-right: 20px; } .NetworKit_Page .Measure .Plot .Image { background-repeat: no-repeat; background-position: center center; background-size: contain; height: 100%; pointer-events: none; } .NetworKit_Page .Measure .Stat { width: 500px; float: left; } .NetworKit_Page .Measure .Stat .Group { padding-left: 1.25em; margin-bottom: 0.75em; } .NetworKit_Page .Measure .Stat .Group .Title { font-size: 1.1em; display: block; margin-bottom: 0.3em; margin-left: -0.75em; border-right-style: dotted; border-right-width: 1px; border-bottom-style: dotted; border-bottom-width: 1px; background-color: #D0D0D0; padding-left: 0.2em; } .NetworKit_Page .Measure .Stat .Group .List { -webkit-column-count: 3; -moz-column-count: 3; column-count: 3; } .NetworKit_Page .Measure .Stat .Group .List .Entry { position: relative; line-height: 1.75em; } .NetworKit_Page .Measure .Stat .Group .List .Entry[data-tooltip]:before { position: absolute; left: 0; top: -40px; background-color: #808080; color: #ffffff; height: 30px; line-height: 30px; border-radius: 5px; padding: 0 15px; content: attr(data-tooltip); white-space: nowrap; display: none; } .NetworKit_Page .Measure .Stat .Group .List .Entry[data-tooltip]:after { position: absolute; left: 15px; top: -10px; border-top: 7px solid #808080; border-left: 7px solid transparent; border-right: 7px solid transparent; content: \"\"; display: none; } .NetworKit_Page .Measure .Stat .Group .List .Entry[data-tooltip]:hover:after, .NetworKit_Page .Measure .Stat .Group .List .Entry[data-tooltip]:hover:before { display: block; } .NetworKit_Page .Measure .Stat .Group .List .Entry .MathValue { font-family: \"Courier New\", Courier, monospace; } .NetworKit_Page .Measure:after { content: \".\"; visibility: hidden; display: block; height: 0; clear: both; } .NetworKit_Page .PartitionPie { clear: both; } .NetworKit_Page .PartitionPie img { width: 600px; } #NetworKit_Overlay { left: 0px; top: 0px; display: none; position: absolute; width: 100%; height: 100%; background-color: rgba(0,0,0,0.6); z-index: 1000; } #NetworKit_Overlay_Title { position: absolute; color: white; transform: rotate(-90deg); width: 32em; height: 32em; padding-right: 0.5em; padding-top: 0.5em; text-align: right; font-size: 40px; } #NetworKit_Overlay .button { background: white; cursor: pointer; } #NetworKit_Overlay .button:before { size: 13px; display: inline-block; text-align: center; margin-top: 0.5em; margin-bottom: 0.5em; width: 1.5em; height: 1.5em; } #NetworKit_Overlay .icon-close:before { content: \"X\"; } #NetworKit_Overlay .icon-previous:before { content: \"P\"; } #NetworKit_Overlay .icon-next:before { content: \"N\"; } #NetworKit_Overlay .icon-save:before { content: \"S\"; } #NetworKit_Overlay_Toolbar_Top, #NetworKit_Overlay_Toolbar_Bottom { position: absolute; width: 40px; right: 13px; text-align: right; z-index: 1100; } #NetworKit_Overlay_Toolbar_Top { top: 0.5em; } #NetworKit_Overlay_Toolbar_Bottom { Bottom: 0.5em; } #NetworKit_Overlay_ImageContainer { position: absolute; top: 5%; left: 5%; height: 90%; width: 90%; background-repeat: no-repeat; background-position: center center; background-size: contain; } #NetworKit_Overlay_Image { height: 100%; width: 100%; background-repeat: no-repeat; background-position: center center; background-size: contain; }';\n\t\t\t\telement.setAttribute('id', 'NetworKit_style');\n\t\t\t\tdocument.head.appendChild(element);\n\t\t\t}\n\t\t\n\t\t\t\t\n\t\t\t{\n\t\t\t\tvar element = document.getElementById('NetworKit_Overlay');\n\t\t\t\tif (element) {\n\t\t\t\t\telement.parentNode.removeChild(element);\n\t\t\t\t}\n\t\t\t\telement = document.createElement('div');\n\t\t\t\telement.innerHTML = '<div id=\"NetworKit_Overlay_Toolbar_Top\"><div class=\"button icon-close\" id=\"NetworKit_Overlay_Close\" /></div><div id=\"NetworKit_Overlay_Title\" /> <div id=\"NetworKit_Overlay_ImageContainer\"> <div id=\"NetworKit_Overlay_Image\" /> </div> <div id=\"NetworKit_Overlay_Toolbar_Bottom\"> <div class=\"button icon-previous\" onclick=\"NetworKit_overlayImageShift(-1)\" /> <div class=\"button icon-next\" onclick=\"NetworKit_overlayImageShift(1)\" /> <a id=\"NetworKit_Overlay_Toolbar_Bottom_Save\"><div class=\"button icon-save\" /></a> </div>';\n\t\t\t\telement.setAttribute('id', 'NetworKit_Overlay');\n\t\t\t\tdocument.body.appendChild(element);\n\t\t\t\tdocument.getElementById('NetworKit_Overlay_Close').onclick = function (e) {\n\t\t\t\t\tdocument.getElementById('NetworKit_Overlay').style.display = 'none';\n\t\t\t\t}\n\t\t\t}\n\t\t\n\t\t\t-->\n\t\t\t</script>\n\t\t"
     },
     "metadata": {}
    }
   ],
   "source": [
    "\n",
    "from __future__ import division\n",
    "from __future__ import print_function\n",
    "import tensorflow as tf\n",
    "\n",
    "from tensorflow.keras.preprocessing.image import ImageDataGenerator\n",
    "from tensorflow.keras.models import Sequential\n",
    "from tensorflow.keras.layers import Dense, Dropout, Activation, Flatten\n",
    "from tensorflow.keras import optimizers\n",
    "from tensorflow.python.client import device_lib\n",
    "\n",
    "import numpy as np\n",
    "from numpy import asarray\n",
    "from numpy import savetxt\n",
    "import pydot\n",
    "from tensorflow.keras import models, layers  \n",
    "from tensorflow.keras import backend as K\n",
    "from tensorflow.keras import layers\n",
    "from tensorflow.keras import activations\n",
    "from tensorflow.keras import utils as k_utils\n",
    "import time\n",
    "from copy import copy, deepcopy\n",
    "import networkx.algorithms.isomorphism as iso\n",
    "\n",
    "from keras_visualizer import visualizer \n",
    "import networkx as nx\n",
    "import networkit as nk\n",
    "from random import sample\n",
    "\n",
    "\n",
    "#Please note that in newer versions of keras_contrib you may encounter some import errors. You can find a fix for it on the Internet, or as an alternative you can try other activations functions.\n",
    "# import tf.keras.activations.relu as SReLU\n",
    "from tensorflow.keras.datasets import cifar10\n",
    "from tensorflow.keras.datasets import fashion_mnist \n",
    "from tensorflow.keras.utils import to_categorical\n",
    "import matplotlib\n",
    "import numpy as np\n",
    "import matplotlib.pyplot as plt\n",
    "import networkx as nx\n",
    "%matplotlib inline  \n",
    "\n",
    "class Constraint(object):\n",
    "\n",
    "    def __call__(self, w):\n",
    "        return w\n",
    "\n",
    "    def get_config(self):\n",
    "        return {}\n",
    "\n",
    "class MaskWeights(Constraint):\n",
    "\n",
    "    def __init__(self, mask):\n",
    "        self.mask = mask\n",
    "        self.mask = K.cast(self.mask, K.floatx())\n",
    "\n",
    "    def __call__(self, w):\n",
    "        w = w.assign(w * self.mask)\n",
    "        return w\n",
    "\n",
    "    def get_config(self):\n",
    "        return {'mask': self.mask}\n",
    "\n",
    "\n",
    "def find_first_pos(array, value):\n",
    "    idx = (np.abs(array - value)).argmin()\n",
    "    return idx\n",
    "\n",
    "\n",
    "def find_last_pos(array, value):\n",
    "    idx = (np.abs(array - value))[::-1].argmin()\n",
    "    return array.shape[0] - idx\n",
    "\n",
    "\n",
    "def createWeightsMask(epsilon,noRows, noCols):\n",
    "    # generate an Erdos Renyi sparse weights mask\n",
    "    mask_weights = np.random.rand(noRows, noCols)\n",
    "    prob = 1 - (epsilon * (noRows + noCols)) / (noRows * noCols)  # normal tp have 8x connections\n",
    "    mask_weights[mask_weights < prob] = 0\n",
    "    mask_weights[mask_weights >= prob] = 1\n",
    "    print(\"Init mask weight shape: \",mask_weights.shape)\n",
    "    noParameters = np.sum(mask_weights)\n",
    "    print (\"Create Sparse Matrix: No parameters, NoRows, NoCols \",noParameters,noRows,noCols)\n",
    "    return [noParameters,mask_weights]"
   ]
  },
  {
   "cell_type": "markdown",
   "id": "supreme-blast",
   "metadata": {},
   "source": [
    "## Init & Parameters"
   ]
  },
  {
   "cell_type": "code",
   "execution_count": 4,
   "id": "otherwise-malpractice",
   "metadata": {},
   "outputs": [],
   "source": [
    "class CenBench_MLP():\n",
    "    def __init__(self, maxepoches, dataset,pruning_approach, batch_size = 100, centrality_metric=None):\n",
    "        # set model parameters\n",
    "        self.epsilon = 20 # control the sparsity level as discussed in the paper\n",
    "        self.zeta = 0.05 # the fraction of the weights removed\n",
    "        self.batch_size = batch_size # batch size\n",
    "        self.maxepoches = maxepoches     # number of epochs\n",
    "        self.learning_rate = 0.01 # SGD learning rate\n",
    "        self.num_classes = 10 # number of classes\n",
    "        self.momentum = 0.9 # SGD momentum\n",
    "        self.dataset = dataset\n",
    "        self.pruning_approach = pruning_approach\n",
    "        self.centrality_metric = centrality_metric\n",
    "        # generate an Erdos Renyi sparse weights mask for each layer\n",
    "        [self.noPar1, self.wm1] = createWeightsMask(self.epsilon,32 * 32 *3, 400)\n",
    "        [self.noPar2, self.wm2] = createWeightsMask(self.epsilon,400, 100)\n",
    "        [self.noPar3, self.wm3] = createWeightsMask(self.epsilon,100, 400)\n",
    "\n",
    "        # initialize layers weightsnk\n",
    "        self.w1 = None\n",
    "        self.w2 = None\n",
    "        self.w3 = None\n",
    "        self.w4 = None\n",
    "\n",
    "        # initialize weights for SReLu activation function\n",
    "        self.wSRelu1 = None\n",
    "        self.wSRelu2 = None\n",
    "        self.wSRelu3 = None\n",
    "\n",
    "        # create a SET-MLP model\n",
    "        self.create_model()\n"
   ]
  },
  {
   "cell_type": "markdown",
   "id": "assigned-benefit",
   "metadata": {},
   "source": [
    "## Create model"
   ]
  },
  {
   "cell_type": "code",
   "execution_count": 5,
   "id": "magnetic-thanks",
   "metadata": {},
   "outputs": [],
   "source": [
    "class CenBench_MLP(CenBench_MLP):\n",
    "    def create_model(self):\n",
    "\n",
    "        # create a SET-MLP model for CIFAR10 with 3 hidden layers\n",
    "        self.model = Sequential()\n",
    "        #Input layer ---  \n",
    "        self.model.add(Flatten(input_shape=(32, 32, 3)))\n",
    "        \n",
    "        # Hidden layer 1\n",
    "        self.model.add(Dense(400, name=\"sparse_1\",kernel_constraint=MaskWeights(self.wm1),weights=self.w1))\n",
    "        self.model.add(layers.Activation(activations.relu,name=\"srelu1\",weights=self.wSRelu1))\n",
    "        self.model.add(Dropout(0.3))#Helps with overfitting, only present in training\n",
    "        # Hidden layer 2\n",
    "        self.model.add(Dense(100, name=\"sparse_2\",kernel_constraint=MaskWeights(self.wm2),weights=self.w2))\n",
    "        self.model.add(layers.Activation(activations.relu,name=\"srelu2\",weights=self.wSRelu2))\n",
    "        self.model.add(Dropout(0.3))#Helps with overfitting, only present in training\n",
    "        # Hidden layer 3\n",
    "        self.model.add(Dense(400, name=\"sparse_3\",kernel_constraint=MaskWeights(self.wm3),weights=self.w3))\n",
    "        self.model.add(layers.Activation(activations.relu,name=\"srelu3\",weights=self.wSRelu3))\n",
    "        self.model.add(Dropout(0.3)) #Helps with overfitting, only present in training\n",
    "        # Output layer\n",
    "        self.model.add(Dense(self.num_classes, name=\"dense_4\",weights=self.w4)) #please note that there is no need for a sparse output layer as the number of classes is much smaller than the number of input hidden neurons\n",
    "        self.model.add(Activation('softmax'))"
   ]
  },
  {
   "cell_type": "markdown",
   "id": "quality-interaction",
   "metadata": {},
   "source": [
    "## Rewrite Weight Mask SET"
   ]
  },
  {
   "cell_type": "code",
   "execution_count": 6,
   "id": "continuous-failing",
   "metadata": {},
   "outputs": [],
   "source": [
    "class CenBench_MLP(CenBench_MLP):\n",
    "    def rewireMask_SET(self, weights, noWeights):\n",
    "   \n",
    "        # rewire weight matrix\n",
    "        # remove zeta largest negative and smallest positive weights\n",
    "        values = np.sort(weights.ravel())\n",
    "        firstZeroPos = find_first_pos(values, 0)\n",
    "        lastZeroPos = find_last_pos(values, 0)\n",
    "        largestNegative = values[int((1-self.zeta) * firstZeroPos)]\n",
    "        smallestPositive = values[int(min(values.shape[0] - 1, lastZeroPos +self.zeta * (values.shape[0] - lastZeroPos)))]\n",
    "        rewiredWeights = weights.copy();\n",
    "        rewiredWeights[rewiredWeights > smallestPositive] = 1;\n",
    "        rewiredWeights[rewiredWeights < largestNegative] = 1;\n",
    "        rewiredWeights[rewiredWeights != 1] = 0;\n",
    "        weightMaskCore = rewiredWeights.copy()  \n",
    "\n",
    "        # add zeta random weights\n",
    "\n",
    "        nrAdd = 0\n",
    "        sum_layer = np.sum(rewiredWeights)\n",
    "        noRewires = noWeights - sum_layer\n",
    "        while (nrAdd < noRewires):\n",
    "            i = np.random.randint(0, rewiredWeights.shape[0])\n",
    "            j = np.random.randint(0, rewiredWeights.shape[1])\n",
    "            if (rewiredWeights[i, j] == 0):\n",
    "                rewiredWeights[i, j] = 1\n",
    "                nrAdd += 1\n",
    "\n",
    "        return [rewiredWeights, weightMaskCore]\n"
   ]
  },
  {
   "source": [
    "## Rewrite weight mask CenSET"
   ],
   "cell_type": "markdown",
   "metadata": {}
  },
  {
   "cell_type": "code",
   "execution_count": 7,
   "metadata": {},
   "outputs": [],
   "source": [
    "class CenBench_MLP(CenBench_MLP):\n",
    "    def rewireMask_CenSET(self, layer_weights, noWeights):\n",
    "        nkG = generate_NN_network([3072, 400, 100, 400], layer_weights)  \n",
    "        #  NN before pruning\n",
    "        print(\"------------------------ Runing Cen with metric:  ------------------------\")\n",
    "        # nk.overview(nkG)\n",
    "        def step(x):\n",
    "            return 1 * (x > 0)\n",
    "\n",
    "        nodes_to_remove_with_score = find_nodes_lowest_centraility(nkG, int((self.zeta) * 3972), self.centrality_metric)\n",
    "        nodes_to_remove = [i[0] for i in nodes_to_remove_with_score]\n",
    "\n",
    "        rewiredWeights = generate_weights_matrix_from_network([3072, 400, 100, 400], nkG, layer_weights, nodes_to_remove)\n",
    "\n",
    " \n",
    "        rewiredWeights = [[[step(x) for x in inner] for inner in layer]  for layer in rewiredWeights]\n",
    "        weightMaskCore = deepcopy(rewiredWeights)\n",
    "     \n",
    "        for layer_i, layer in enumerate(rewiredWeights):\n",
    "            nrAdd = 0\n",
    "            layer_sum = np.asmatrix(layer).sum()\n",
    "            noRewires = noWeights[layer_i] - layer_sum\n",
    "            while (nrAdd < noRewires):\n",
    "                i = np.random.randint(0, len(layer))\n",
    "                j = np.random.randint(0, len(layer[0]))\n",
    "                if (layer[i][j] == 0):\n",
    "                    layer[i][j] = 1\n",
    "                    nrAdd += 1\n",
    "\n",
    "        return [rewiredWeights, weightMaskCore]"
   ]
  },
  {
   "source": [
    "## Testing conversion\n",
    "A method for testing if the conversion between weights and graphs is working as intended"
   ],
   "cell_type": "markdown",
   "metadata": {}
  },
  {
   "cell_type": "code",
   "execution_count": 8,
   "metadata": {},
   "outputs": [],
   "source": [
    "def testing_conversion(layer_weights, iterations):\n",
    "    graphs = []\n",
    "    layer_weight = []\n",
    "    for i in range(0, iterations):\n",
    "        nkG = generate_NN_network([3072, 400, 100, 400], layer_weights)  \n",
    "        layer_weights = generate_weights_matrix_from_network([3072, 400, 100, 400], nkG, layer_weights, [])\n",
    "        graphs.append(nkG)\n",
    "        layer_weight.append(layer_weights)\n",
    "    print(\"finished with building set\")\n",
    "    i = 0\n",
    "    for first, second in zip(graphs, graphs[1:]):\n",
    "        print(\"Comparison: \", i)\n",
    "        num_edges_1 = nk.nxadapter.nk2nx(first).number_of_edges()\n",
    "        num_edges_2 = nk.nxadapter.nk2nx(second).number_of_edges()\n",
    "        print(\"Num edges: \",num_edges_1,  num_edges_2)\n",
    "        sum_edges_1 = (np.asmatrix(layer_weight[i][0]).sum()+ np.asmatrix(layer_weight[i][1]).sum()+ np.asmatrix(layer_weight[i][2]).sum())\n",
    "        sum_edges_2 = (np.asmatrix(layer_weight[i+1][0]).sum()+ np.asmatrix(layer_weight[i+1][1]).sum()+ np.asmatrix(layer_weight[i+1][2]).sum())\n",
    "        print(\"Num edges: \",num_edges_1,  num_edges_2)\n",
    "        print(\"Sum edges weights\",sum_edges_1, sum_edges_2 )\n",
    "        if(np.asmatrix(layer_weight[i]) == np.asmatrix(layer_weight[i+1])):\n",
    "            print(\"layers are not the same\")\n",
    "            return False\n",
    "\n",
    "        em = iso.categorical_edge_match('weight', 'weight')\n",
    "        if not (nx.algorithms.isomorphism.is_isomorphic(nk.nxadapter.nk2nx(first),nk.nxadapter.nk2nx(second), edge_match=em)):     \n",
    "            print(\"ISO failed\")\n",
    "            return False\n",
    "        elif not (num_edges_1 ==num_edges_2 ):     \n",
    "            print(\"Edge number changes\")\n",
    "            return False\n",
    "        i = i + 1\n",
    "    return True\n"
   ]
  },
  {
   "cell_type": "markdown",
   "id": "organized-partition",
   "metadata": {},
   "source": [
    "## Find Centrailities "
   ]
  },
  {
   "cell_type": "code",
   "execution_count": 9,
   "id": "express-visitor",
   "metadata": {},
   "outputs": [],
   "source": [
    "class CenBench_MLP(CenBench_MLP):\n",
    "    def visualise(self):\n",
    "        visualizer(self.model, view=True)\n"
   ]
  },
  {
   "cell_type": "markdown",
   "id": "excellent-prerequisite",
   "metadata": {},
   "source": [
    "## Weight evolution"
   ]
  },
  {
   "cell_type": "code",
   "execution_count": 10,
   "id": "broadband-polls",
   "metadata": {},
   "outputs": [],
   "source": [
    "class CenBench_MLP(CenBench_MLP):\n",
    "    def weightsEvolution(self):\n",
    "        # this represents the core of the CenSET procedure. It removes the weights closest to zero in each layer and add new random weights\n",
    "        # The mask shows which nodes have been removed \n",
    "        # The weights shows the  \n",
    "        self.w1 = self.model.get_layer(\"sparse_1\").get_weights()\n",
    "        self.w2 = self.model.get_layer(\"sparse_2\").get_weights()\n",
    "        self.w3 = self.model.get_layer(\"sparse_3\").get_weights()\n",
    "        self.w4 = self.model.get_layer(\"dense_4\").get_weights()\n",
    "        # testing_conversion([self.w1[0], self.w2[0], self.w3[0]], 10)\n",
    "        # return\n",
    "\n",
    "        self.wSRelu1 = self.model.get_layer(\"srelu1\").get_weights()\n",
    "        self.wSRelu2 = self.model.get_layer(\"srelu2\").get_weights()\n",
    "        self.wSRelu3 = self.model.get_layer(\"srelu3\").get_weights()\n",
    "\n",
    "        if(self.pruning_approach == \"SET\"):\n",
    "            print(\"------------------------SET -------------------\")\n",
    "            nkG = generate_NN_network([3072, 400, 100, 400], [self.w1[0], self.w2[0], self.w3[0]])  \n",
    "            # nk.overview(nkG)\n",
    "            [self.wm1, self.wm1Core] = self.rewireMask_SET(self.w1[0], self.noPar1)\n",
    "            [self.wm2, self.wm2Core] = self.rewireMask_SET(self.w2[0], self.noPar2)\n",
    "            [self.wm3, self.wm3Core] = self.rewireMask_SET(self.w3[0], self.noPar3)\n",
    "\n",
    "\n",
    "        elif(\"CenSET\" in self.pruning_approach):    \n",
    "            print(\"------------------------CenSET -------------------\")\n",
    "\n",
    "            [self.wm1, self.wm2, self.wm3], [self.wm1Core, self.wm2Core, self.wm3Core] = self.rewireMask_CenSET([self.w1[0], self.w2[0], self.w3[0]],[self.noPar1, self.noPar2, self.noPar3],)\n",
    "\n",
    "        else:\n",
    "            raise ValueError(\"Unsupported pruning approach:\"+self.pruning_approach)\n",
    "        \n",
    "        self.w1[0] = self.w1[0] * self.wm1Core\n",
    "        self.w2[0] = self.w2[0] * self.wm2Core\n",
    "        self.w3[0] = self.w3[0] * self.wm3Core\n",
    "       \n",
    " \n",
    " \n",
    "\n"
   ]
  },
  {
   "cell_type": "markdown",
   "id": "sealed-bracket",
   "metadata": {},
   "source": [
    "## Read dataset"
   ]
  },
  {
   "cell_type": "code",
   "execution_count": 11,
   "id": "nearby-capacity",
   "metadata": {},
   "outputs": [],
   "source": [
    "class CenBench_MLP(CenBench_MLP):\n",
    "    def read_data(self):\n",
    "\n",
    "        #read CIFAR10 data\n",
    "        (x_train, y_train), (x_test, y_test) = self.dataset.load_data()\n",
    "        y_train = to_categorical(y_train, self.num_classes)\n",
    "        y_test = to_categorical(y_test, self.num_classes)\n",
    "        x_train = x_train.astype('float32')\n",
    "        x_test = x_test.astype('float32')\n",
    "\n",
    "        #normalize data\n",
    "        xTrainMean = np.mean(x_train, axis=0)\n",
    "        xTtrainStd = np.std(x_train, axis=0)\n",
    "        x_train = (x_train - xTrainMean) / xTtrainStd\n",
    "        x_test = (x_test - xTrainMean) / xTtrainStd\n",
    "\n",
    "        return [x_train, x_test, y_train, y_test]"
   ]
  },
  {
   "cell_type": "markdown",
   "id": "solid-surprise",
   "metadata": {},
   "source": [
    "## Training\n"
   ]
  },
  {
   "cell_type": "code",
   "execution_count": 12,
   "id": "sufficient-movement",
   "metadata": {},
   "outputs": [],
   "source": [
    "class CenBench_MLP(CenBench_MLP):\n",
    "    def train(self):\n",
    "        # read CIFAR10 data\n",
    "        [x_train,x_test,y_train,y_test]=self.read_data()\n",
    "\n",
    "        #data augmentation\n",
    "        datagen = ImageDataGenerator(\n",
    "            featurewise_center=False,  # set input mean to 0 over the dataset\n",
    "            samplewise_center=False,  # set each sample mean to 0\n",
    "            featurewise_std_normalization=False,  # divide inputs by std of the dataset\n",
    "            samplewise_std_normalization=False,  # divide each input by its std\n",
    "            zca_whitening=False,  # apply ZCA whitening\n",
    "            rotation_range=10,  # randomly rotate images in the range (degrees, 0 to 180)\n",
    "            width_shift_range=0.1,  # randomly shift images horizontally (fraction of total width)\n",
    "            height_shift_range=0.1,  # randomly shift images vertically (fraction of total height)\n",
    "            horizontal_flip=True,  # randomly flip images\n",
    "            vertical_flip=False)  # randomly flip images\n",
    "        datagen.fit(x_train)\n",
    "\n",
    "        self.model.summary()\n",
    "\n",
    "        # training process in a for loop\n",
    "        self.accuracies_per_epoch=[]\n",
    "        for epoch in range(0, self.maxepoches):\n",
    "            print(\"Enter epoch: \", epoch)\n",
    "            sgd = optimizers.SGD(lr=self.learning_rate, momentum=self.momentum)\n",
    "            self.model.compile(loss='categorical_crossentropy', optimizer=sgd, metrics=['accuracy'])\n",
    "\n",
    "            history = self.model.fit(datagen.flow(x_train, y_train,\n",
    "                                                batch_size=self.batch_size),\n",
    "                            steps_per_epoch=x_train.shape[0]//self.batch_size,\n",
    "                                epochs=epoch,\n",
    "                                validation_data=(x_test, y_test),\n",
    "                                    initial_epoch=epoch-1)\n",
    "    \n",
    "            self.accuracies_per_epoch.append(history.history['val_accuracy'][0])\n",
    "\n",
    "            #ugly hack to avoid tensorflow memory increase for multiple fit_generator calls. Theano shall work more nicely this but it is outdated in general\n",
    "\n",
    "            # Toggle between weight evolution type, SET, CenSET or AccSet\n",
    "            # If CenSET is selected the metric being used should be passed as a parameter\n",
    "            # Also the pruning threshold should also be passed\n",
    "            self.weightsEvolution()\n",
    "            K.clear_session()\n",
    "            self.create_model()\n",
    "\n",
    "\n",
    "        return self.accuracies_per_epoch\n",
    "           \n"
   ]
  },
  {
   "cell_type": "markdown",
   "id": "thrown-paragraph",
   "metadata": {},
   "source": [
    "## Generate Network from From weight array"
   ]
  },
  {
   "cell_type": "code",
   "execution_count": 13,
   "id": "dense-transcript",
   "metadata": {},
   "outputs": [],
   "source": [
    "# TODO change this to only use networkit\n",
    "def generate_NN_network(layers, layer_weights):\n",
    "    # TODO use list compherension\n",
    "    n_nodes = sum(layers)\n",
    "    adj_matrix = [[0 for x in range(n_nodes)] for y in range(n_nodes)]\n",
    "    for layer_i, layer in enumerate(layers):    \n",
    "        if layer_i == len(layers) - 1 :\n",
    "            break\n",
    "        previous_current_layers_size =  sum(layers[0 : layer_i])\n",
    "        current_layer_offset = 0 if layer_i == 0 else sum(layers[0 : layer_i])\n",
    "        for current_layer_node in range(current_layer_offset, current_layer_offset + layer):\n",
    "            next_layer_offset = current_layer_offset + layer\n",
    "            for next_layer_node in range(next_layer_offset, next_layer_offset + layers[layer_i + 1]):\n",
    "                weight =  layer_weights[layer_i][current_layer_node - previous_current_layers_size, next_layer_node - next_layer_offset]\n",
    "                adj_matrix[current_layer_node][next_layer_node] = weight \n",
    "    G = nx.from_numpy_matrix(np.asmatrix(adj_matrix), create_using=nx.DiGraph)\n",
    "    return  nk.nxadapter.nx2nk(G, weightAttr=\"weight\")\n"
   ]
  },
  {
   "source": [
    "## Generate Weight Arrays from Network"
   ],
   "cell_type": "markdown",
   "metadata": {}
  },
  {
   "cell_type": "code",
   "execution_count": 14,
   "metadata": {},
   "outputs": [],
   "source": [
    "\n",
    "\n",
    "def generate_weights_matrix_from_network(layers, network, layer_weights, nodes_to_remove):\n",
    "    n_nodes = sum(layers)\n",
    "    adj_matrix = nk.algebraic.adjacencyMatrix(network)\n",
    "    rows = adj_matrix.shape[0]\n",
    "    columns = adj_matrix.shape[1]\n",
    "    for layer_i, layer in enumerate(layers):    \n",
    "        if layer_i == len(layers) - 1 :\n",
    "            break\n",
    "        previous_current_layers_size =  sum(layers[0 : layer_i])\n",
    "        current_layer_offset = 0 if layer_i == 0 else sum(layers[0 : layer_i])\n",
    "        for current_layer_node in range(current_layer_offset, current_layer_offset + layer):\n",
    "            next_layer_offset = current_layer_offset + layer\n",
    "            for next_layer_node in range(next_layer_offset, next_layer_offset + layers[layer_i + 1]):\n",
    "                if not((current_layer_node in nodes_to_remove) or (next_layer_node in nodes_to_remove)):\n",
    "                    weight = adj_matrix[current_layer_node, next_layer_node]\n",
    "                    layer_weights[layer_i][current_layer_node - previous_current_layers_size, next_layer_node - next_layer_offset] = weight\n",
    "    return layer_weights"
   ]
  },
  {
   "cell_type": "markdown",
   "id": "aggregate-pressing",
   "metadata": {},
   "source": [
    "# Find nodes with lowest centraility"
   ]
  },
  {
   "cell_type": "code",
   "execution_count": 15,
   "id": "based-shore",
   "metadata": {},
   "outputs": [],
   "source": [
    "def find_nodes_lowest_centraility(G, number_of_nodes, centrality_metric):\n",
    "    if centrality_metric == \"laplacian\":\n",
    "        btwn = nk.centrality.LaplacianCentrality(G, normalized=True)\n",
    "        btwn.run()\n",
    "        return btwn.ranking()[-number_of_nodes:]\n",
    "    elif centrality_metric == \"katz\":\n",
    "        btwn = nk.centrality.KatzCentrality(G)\n",
    "        btwn.run()\n",
    "        return btwn.ranking()[-number_of_nodes:]\n",
    "    elif centrality_metric == \"pagerank\":\n",
    "        btwn = nk.centrality.PageRank(G)\n",
    "        btwn.run()\n",
    "        return btwn.ranking()[-number_of_nodes:]\n",
    "    elif centrality_metric == \"topharmonic\":\n",
    "        btwn = nk.centrality.TopHarmonicCloseness(G)\n",
    "        btwn.run()\n",
    "        return btwn.ranking()[-number_of_nodes:]"
   ]
  },
  {
   "source": [
    "# Plot accuracy"
   ],
   "cell_type": "markdown",
   "metadata": {}
  },
  {
   "cell_type": "code",
   "execution_count": 16,
   "metadata": {},
   "outputs": [],
   "source": [
    "def plot_save_accuracy(title, results_accu, dataset_name, pruning_approach, epochs, centrality_metric):\n",
    "    plt.plot(results_accu)\n",
    "    plt.title(title+\" on \"+dataset_name+\" dataset\")\n",
    "    plt.ylabel('accuracy')\n",
    "    plt.xlabel('epoch')\n",
    "\n",
    "    if centrality_metric is not None:\n",
    "        save_name = pruning_approach +\"_\"+centrality_metric+\"_accuracy_\"+dataset_name+\"_for_\"+str(epochs)+\"_epochs_\"+time.strftime(\"%Y%m%d-%H%M%S\")\n",
    "    else:\n",
    "         save_name = pruning_approach +\"_accuracy_\"+dataset_name+\"_for_\"+str(epochs)+\"_epochs_\"+time.strftime(\"%Y%m%d-%H%M%S\")\n",
    "    plt.show()\n",
    "    avetxt(\"results/\"+save_name+\".csv\", asarray(results_accu), delimiter=',')\n",
    "    plt.savefig((\"plots/\"+ save_name+\".png\"))\n",
    "\n",
    "\n"
   ]
  },
  {
   "source": [
    "# Run experiments\n",
    "A method for running multiple experiments"
   ],
   "cell_type": "markdown",
   "metadata": {}
  },
  {
   "cell_type": "code",
   "execution_count": 17,
   "metadata": {},
   "outputs": [],
   "source": [
    "def run_experiments(datasets, maxepoches, pruning_approachs, experiment_titles, centrality_metrics):\n",
    "    if  len(datasets) == len(maxepoches) == len(pruning_approachs) == len(experiment_titles) == len(centrality_metrics) :\n",
    "        for experiment_i, experiment_title in enumerate(experiment_titles):\n",
    "            dataset_name = datasets[experiment_i]. __name__.split(\".\")[3]\n",
    "            print(\"------------START of experiment '\"+experiment_title+\"' for dataset: \"+dataset_name+\"------------\")\n",
    "            smlp = CenBench_MLP(maxepoches=maxepoches[experiment_i], dataset=datasets[experiment_i], pruning_approach=pruning_approachs[experiment_i], centrality_metric=centrality_metrics[experiment_i])\n",
    "            # Saving results\n",
    "            plot_accuracy(experiment_title, smlp.train(), dataset_name,pruning_approachs[experiment_i], maxepoches[experiment_i], centrality_metrics[experiment_i] )\n",
    "            print(\"------------END of experiment '\"+experiment_title+\"' for dataset: \"+dataset_name+\"------------\")\n",
    "    else:\n",
    "        raise ValueError(\"Incorrect experiment setup\")"
   ]
  },
  {
   "source": [
    "# Configure Experiments - Start Experiments\n",
    "Configure the Experiments and run them"
   ],
   "cell_type": "markdown",
   "metadata": {}
  },
  {
   "cell_type": "code",
   "execution_count": 21,
   "id": "proud-proxy",
   "metadata": {
    "tags": []
   },
   "outputs": [],
   "source": [
    "K.clear_session()\n",
    "\n",
    "print(device_lib.list_local_devices())\n",
    "print(\"Num GPUs Available: \", len(tf.config.list_physical_devices('GPU')))\n",
    "\n",
    "# Each index i represents an expeirment\n",
    "# datasets=[cifar10,cifar10,cifar10,cifar10] # fashion_mnist, cifar10 -- only supports cifar10 atm\n",
    "# maxepoches=[10, 10, 10, 10]\n",
    "# pruning_approachs=[\"CenSET\",\"CenSET\",\"CenSET\",\"SET\"]\n",
    "# centrality_metrics = [\"laplacian\", \"katz\",\"pagerank\", None]\n",
    "# experiment_titles = [\"Model accuracy using CenLaplacianSET\",\"Model accuracy using CenKatzSET\",\"Model accuracy using CenPagerankSET\",\"Model accuracy using SET\"]\n",
    "# datasets=[cifar10,cifar10,cifar10,cifar10] # fashion_mnist, cifar10 -- only supports cifar10 atm\n",
    "# maxepoches=[100, 100, 100, 100]\n",
    "# pruning_approachs=[\"CenSET\",\"CenSET\",\"CenSET\",\"SET\"]\n",
    "# centrality_metrics = [\"laplacian\", \"katz\",\"pagerank\", None]\n",
    "# experiment_titles = [\"Model accuracy using CenLaplacianSET\",\"Model accuracy using CenKatzSET\",\"Model accuracy using CenPagerankSET\",\"Model accuracy using SET\"]\n",
    "centrality_metrics=[None]\n",
    "datasets=[cifar10] # fashion_mnist, cifar10 -- only supports cifar10 atm\n",
    "maxepoches=[1]\n",
    "pruning_approachs=[\"SET\"]\n",
    "experiment_titles = [\"Model accuracy using SET\",]\n",
    "run_experiments(datasets,maxepoches, pruning_approachs ,experiment_titles, centrality_metrics)\n",
    "\n"
   ]
  },
  {
   "cell_type": "markdown",
   "id": "employed-nightmare",
   "metadata": {},
   "source": [
    "\n",
    "\n",
    "### Tickets\n",
    "- Allow for changing of datasets\n",
    "- Allow for changing of metric\n",
    "- Create framework to find pruning threshold for a metric\n",
    "- Store output of experiments\n",
    "- Allow for support for AccSET\n",
    "- Save accuracy datasets to be used later\n",
    "\n",
    "\n",
    "\n",
    "\n",
    "\n",
    "\n"
   ]
  },
  {
   "source": [],
   "cell_type": "markdown",
   "metadata": {}
  }
 ],
 "metadata": {
  "kernelspec": {
   "name": "pypy3",
   "display_name": "PyPy3",
   "language": "python"
  },
  "language_info": {
   "codemirror_mode": {
    "name": "ipython",
    "version": 3
   },
   "file_extension": ".py",
   "mimetype": "text/x-python",
   "name": "python",
   "nbconvert_exporter": "python",
   "pygments_lexer": "ipython3",
   "version": "3.6.9"
  },
  "metadata": {
   "interpreter": {
    "hash": "31f2aee4e71d21fbe5cf8b01ff0e069b9275f58929596ceb00d14d90e3e16cd6"
   }
  }
 },
 "nbformat": 4,
 "nbformat_minor": 5
}